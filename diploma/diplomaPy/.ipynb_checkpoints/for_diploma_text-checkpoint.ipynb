{
 "cells": [
  {
   "cell_type": "code",
   "execution_count": 1,
   "metadata": {},
   "outputs": [],
   "source": [
    "from pandas import read_csv as read\n",
    "import pandas as pd\n",
    "import random\n",
    "\n",
    "import numpy as np\n",
    "import seaborn as sns; sns.set(color_codes=True)\n",
    "import matplotlib.pyplot as plt\n",
    "\n",
    "from sklearn import metrics\n",
    "from sklearn.metrics import make_scorer, accuracy_score, precision_score, recall_score, f1_score\n",
    "from sklearn.metrics import precision_recall_curve\n",
    "from sklearn.metrics import auc\n",
    "from sklearn.metrics import average_precision_score\n",
    "\n",
    "from plot import pltPRcurve, pltROCcurve"
   ]
  },
  {
   "cell_type": "code",
   "execution_count": 2,
   "metadata": {},
   "outputs": [],
   "source": [
    "def plot_corr():\n",
    "    correlation_matrix = data.corr()\n",
    "    plt.figure(figsize=(10,8))\n",
    "    ax = sns.heatmap(correlation_matrix, vmax=1, square=True, annot=True,fmt='.2f', cmap ='GnBu', cbar_kws={\"shrink\": .5}, robust=True)\n",
    "    plt.title('Correlation matrix between the features', fontsize=20)\n",
    "    plt.savefig(\"cor.png\")\n",
    "    plt.show()"
   ]
  },
  {
   "cell_type": "code",
   "execution_count": 3,
   "metadata": {},
   "outputs": [],
   "source": [
    "def modExec():\n",
    "    model.fit(X_train, y_train)\n",
    "    expected = y_test\n",
    "    predicted = model.predict(X_test)\n",
    "\n",
    "    pobas = model.predict_proba(X_test)\n",
    "    preds = pobas[:, 1]\n",
    "\n",
    "    report = metrics.classification_report(expected, predicted)\n",
    "    conf_matrix = metrics.confusion_matrix(expected, predicted)\n",
    "\n",
    "    print(type(model).__name__)\n",
    "    print(f\"Acc: {accuracy_score(expected, predicted)}\")\n",
    "    print(f\"Pre: {precision_score(expected, predicted)}\")\n",
    "    print(f\"Re: {recall_score(expected, predicted)}\")\n",
    "    print(f\"F1: {f1_score(expected, predicted)}\")\n",
    "    \n",
    "    print(conf_matrix)"
   ]
  },
  {
   "cell_type": "code",
   "execution_count": 11,
   "metadata": {},
   "outputs": [],
   "source": [
    "path = \"filtData500k.csv\"\n",
    "data = read(path, delimiter=\",\")"
   ]
  },
  {
   "cell_type": "code",
   "execution_count": 12,
   "metadata": {},
   "outputs": [],
   "source": [
    "data.drop('isFlaggedFraud', axis=1, inplace=True)\n",
    "data.drop('nameOrig', axis=1, inplace=True)\n",
    "data.drop('nameDest', axis=1, inplace=True)\n",
    "\n",
    "from sklearn.preprocessing import LabelEncoder\n",
    "\n",
    "le = LabelEncoder()\n",
    "data['type'] = le.fit_transform(data['type'])"
   ]
  },
  {
   "cell_type": "code",
   "execution_count": 13,
   "metadata": {},
   "outputs": [],
   "source": [
    "X = data.loc[:, data.columns != 'isFraud'].values\n",
    "y = data.loc[:, 'isFraud'].values\n",
    "\n",
    "y=y.astype('int') # не совсем понял, почему https://stackoverflow.com/questions/45346550/valueerror-unknown-label-type-unknown\n",
    "\n",
    "from sklearn.model_selection import train_test_split as train\n",
    "\n",
    "X_train, X_test, y_train, y_test = train(X, y, shuffle=False)"
   ]
  },
  {
   "cell_type": "code",
   "execution_count": 14,
   "metadata": {},
   "outputs": [
    {
     "name": "stdout",
     "output_type": "stream",
     "text": [
      "GaussianNB\n",
      "Acc: 0.964697212709697\n",
      "Pre: 0.595460614152203\n",
      "Re: 0.20468104635153742\n",
      "F1: 0.3046448087431694\n",
      "[[110381    606]\n",
      " [  3466    892]]\n",
      "KNeighborsClassifier\n",
      "Acc: 0.9908188478044129\n",
      "Pre: 0.9545329291815927\n",
      "Re: 0.7948600275355667\n",
      "F1: 0.8674095405033178\n",
      "[[110822    165]\n",
      " [   894   3464]]\n",
      "RandomForestClassifier\n",
      "Acc: 0.9930122675451906\n",
      "Pre: 0.9922394678492239\n",
      "Re: 0.8214777420835245\n",
      "F1: 0.8988199849359778\n",
      "[[110959     28]\n",
      " [   778   3580]]\n"
     ]
    }
   ],
   "source": [
    "from sklearn.naive_bayes import GaussianNB\n",
    "\n",
    "model = GaussianNB()\n",
    "modExec()\n",
    "\n",
    "from sklearn.neighbors import KNeighborsClassifier\n",
    "\n",
    "model = KNeighborsClassifier(n_neighbors=3)\n",
    "modExec()\n",
    "\n",
    "from sklearn.ensemble import RandomForestClassifier\n",
    "\n",
    "model = RandomForestClassifier(n_estimators=110, n_jobs=-1)\n",
    "modExec()"
   ]
  },
  {
   "cell_type": "code",
   "execution_count": null,
   "metadata": {},
   "outputs": [],
   "source": [
    "plot_corr()"
   ]
  },
  {
   "cell_type": "code",
   "execution_count": null,
   "metadata": {},
   "outputs": [],
   "source": [
    "data.head()"
   ]
  },
  {
   "cell_type": "code",
   "execution_count": null,
   "metadata": {},
   "outputs": [],
   "source": [
    "data.drop('newbalanceOrig', axis=1, inplace=True)\n",
    "data.drop('newbalanceDest', axis=1, inplace=True)\n",
    "data.drop('oldbalanceDest', axis=1, inplace=True)\n",
    "\n",
    "\n",
    "plot_corr()"
   ]
  },
  {
   "cell_type": "code",
   "execution_count": 18,
   "metadata": {},
   "outputs": [],
   "source": [
    "path = \"newFilt500k.csv\"\n",
    "data = read(path, delimiter=\",\")\n",
    "data.drop('isFlaggedFraud', axis=1, inplace=True)\n",
    "data.drop('nameOrig', axis=1, inplace=True)\n",
    "data.drop('nameDest', axis=1, inplace=True)\n",
    "data.drop('newbalanceOrig', axis=1, inplace=True)\n",
    "data.drop('newbalanceDest', axis=1, inplace=True)\n",
    "data.drop('oldbalanceDest', axis=1, inplace=True)"
   ]
  },
  {
   "cell_type": "code",
   "execution_count": null,
   "metadata": {},
   "outputs": [],
   "source": [
    "data.head()"
   ]
  },
  {
   "cell_type": "code",
   "execution_count": null,
   "metadata": {},
   "outputs": [],
   "source": [
    "plot_corr()"
   ]
  },
  {
   "cell_type": "code",
   "execution_count": 19,
   "metadata": {},
   "outputs": [],
   "source": [
    "from sklearn.preprocessing import LabelEncoder\n",
    "\n",
    "le = LabelEncoder()\n",
    "data['type'] = le.fit_transform(data['type'])\n",
    "\n",
    "X = data.loc[:, data.columns != 'isFraud'].values\n",
    "y = data.loc[:, 'isFraud'].values\n",
    "\n",
    "y=y.astype('int') # не совсем понял, почему https://stackoverflow.com/questions/45346550/valueerror-unknown-label-type-unknown\n",
    "\n",
    "from sklearn.model_selection import train_test_split as train\n",
    "\n",
    "X_train, X_test, y_train, y_test = train(X, y, shuffle=False)"
   ]
  },
  {
   "cell_type": "code",
   "execution_count": 24,
   "metadata": {},
   "outputs": [
    {
     "ename": "RuntimeError",
     "evalue": "The classifier does not expose \"coef_\" or \"feature_importances_\" attributes",
     "output_type": "error",
     "traceback": [
      "\u001b[1;31m---------------------------------------------------------------------------\u001b[0m",
      "\u001b[1;31mRuntimeError\u001b[0m                              Traceback (most recent call last)",
      "\u001b[1;32m<ipython-input-24-361d3523b4dd>\u001b[0m in \u001b[0;36m<module>\u001b[1;34m\u001b[0m\n\u001b[0;32m      7\u001b[0m \u001b[0mrfe\u001b[0m \u001b[1;33m=\u001b[0m \u001b[0mRFE\u001b[0m\u001b[1;33m(\u001b[0m\u001b[0mmodel\u001b[0m\u001b[1;33m,\u001b[0m \u001b[1;36m5\u001b[0m\u001b[1;33m)\u001b[0m\u001b[1;33m\u001b[0m\u001b[1;33m\u001b[0m\u001b[0m\n\u001b[0;32m      8\u001b[0m \u001b[1;33m\u001b[0m\u001b[0m\n\u001b[1;32m----> 9\u001b[1;33m \u001b[0mfit\u001b[0m \u001b[1;33m=\u001b[0m \u001b[0mrfe\u001b[0m\u001b[1;33m.\u001b[0m\u001b[0mfit\u001b[0m\u001b[1;33m(\u001b[0m\u001b[0mX\u001b[0m\u001b[1;33m,\u001b[0m \u001b[0my\u001b[0m\u001b[1;33m)\u001b[0m\u001b[1;33m\u001b[0m\u001b[1;33m\u001b[0m\u001b[0m\n\u001b[0m\u001b[0;32m     10\u001b[0m \u001b[1;33m\u001b[0m\u001b[0m\n\u001b[0;32m     11\u001b[0m \u001b[0mprint\u001b[0m\u001b[1;33m(\u001b[0m\u001b[0mfit\u001b[0m\u001b[1;33m.\u001b[0m\u001b[0msupport_\u001b[0m\u001b[1;33m)\u001b[0m\u001b[1;33m\u001b[0m\u001b[1;33m\u001b[0m\u001b[0m\n",
      "\u001b[1;32mc:\\program files (x86)\\python37-32\\lib\\site-packages\\sklearn\\feature_selection\\rfe.py\u001b[0m in \u001b[0;36mfit\u001b[1;34m(self, X, y)\u001b[0m\n\u001b[0;32m    138\u001b[0m             \u001b[0mThe\u001b[0m \u001b[0mtarget\u001b[0m \u001b[0mvalues\u001b[0m\u001b[1;33m.\u001b[0m\u001b[1;33m\u001b[0m\u001b[1;33m\u001b[0m\u001b[0m\n\u001b[0;32m    139\u001b[0m         \"\"\"\n\u001b[1;32m--> 140\u001b[1;33m         \u001b[1;32mreturn\u001b[0m \u001b[0mself\u001b[0m\u001b[1;33m.\u001b[0m\u001b[0m_fit\u001b[0m\u001b[1;33m(\u001b[0m\u001b[0mX\u001b[0m\u001b[1;33m,\u001b[0m \u001b[0my\u001b[0m\u001b[1;33m)\u001b[0m\u001b[1;33m\u001b[0m\u001b[1;33m\u001b[0m\u001b[0m\n\u001b[0m\u001b[0;32m    141\u001b[0m \u001b[1;33m\u001b[0m\u001b[0m\n\u001b[0;32m    142\u001b[0m     \u001b[1;32mdef\u001b[0m \u001b[0m_fit\u001b[0m\u001b[1;33m(\u001b[0m\u001b[0mself\u001b[0m\u001b[1;33m,\u001b[0m \u001b[0mX\u001b[0m\u001b[1;33m,\u001b[0m \u001b[0my\u001b[0m\u001b[1;33m,\u001b[0m \u001b[0mstep_score\u001b[0m\u001b[1;33m=\u001b[0m\u001b[1;32mNone\u001b[0m\u001b[1;33m)\u001b[0m\u001b[1;33m:\u001b[0m\u001b[1;33m\u001b[0m\u001b[1;33m\u001b[0m\u001b[0m\n",
      "\u001b[1;32mc:\\program files (x86)\\python37-32\\lib\\site-packages\\sklearn\\feature_selection\\rfe.py\u001b[0m in \u001b[0;36m_fit\u001b[1;34m(self, X, y, step_score)\u001b[0m\n\u001b[0;32m    185\u001b[0m                 \u001b[0mcoefs\u001b[0m \u001b[1;33m=\u001b[0m \u001b[0mgetattr\u001b[0m\u001b[1;33m(\u001b[0m\u001b[0mestimator\u001b[0m\u001b[1;33m,\u001b[0m \u001b[1;34m'feature_importances_'\u001b[0m\u001b[1;33m,\u001b[0m \u001b[1;32mNone\u001b[0m\u001b[1;33m)\u001b[0m\u001b[1;33m\u001b[0m\u001b[1;33m\u001b[0m\u001b[0m\n\u001b[0;32m    186\u001b[0m             \u001b[1;32mif\u001b[0m \u001b[0mcoefs\u001b[0m \u001b[1;32mis\u001b[0m \u001b[1;32mNone\u001b[0m\u001b[1;33m:\u001b[0m\u001b[1;33m\u001b[0m\u001b[1;33m\u001b[0m\u001b[0m\n\u001b[1;32m--> 187\u001b[1;33m                 raise RuntimeError('The classifier does not expose '\n\u001b[0m\u001b[0;32m    188\u001b[0m                                    \u001b[1;34m'\"coef_\" or \"feature_importances_\" '\u001b[0m\u001b[1;33m\u001b[0m\u001b[1;33m\u001b[0m\u001b[0m\n\u001b[0;32m    189\u001b[0m                                    'attributes')\n",
      "\u001b[1;31mRuntimeError\u001b[0m: The classifier does not expose \"coef_\" or \"feature_importances_\" attributes"
     ]
    }
   ],
   "source": [
    "from sklearn.feature_selection import RFE\n",
    "\n",
    "# feature extraction\n",
    "\n",
    "model = GaussianNB()\n",
    "\n",
    "rfe = RFE(model, 5)\n",
    "\n",
    "fit = rfe.fit(X, y)\n",
    "\n",
    "print(fit.support_)\n",
    "print(fit.ranking_)"
   ]
  },
  {
   "cell_type": "code",
   "execution_count": 25,
   "metadata": {},
   "outputs": [
    {
     "ename": "RuntimeError",
     "evalue": "The classifier does not expose \"coef_\" or \"feature_importances_\" attributes",
     "output_type": "error",
     "traceback": [
      "\u001b[1;31m---------------------------------------------------------------------------\u001b[0m",
      "\u001b[1;31mRuntimeError\u001b[0m                              Traceback (most recent call last)",
      "\u001b[1;32m<ipython-input-25-7f9196097dda>\u001b[0m in \u001b[0;36m<module>\u001b[1;34m\u001b[0m\n\u001b[0;32m      7\u001b[0m \u001b[0mrfe\u001b[0m \u001b[1;33m=\u001b[0m \u001b[0mRFE\u001b[0m\u001b[1;33m(\u001b[0m\u001b[0mmodel\u001b[0m\u001b[1;33m,\u001b[0m \u001b[1;36m5\u001b[0m\u001b[1;33m)\u001b[0m\u001b[1;33m\u001b[0m\u001b[1;33m\u001b[0m\u001b[0m\n\u001b[0;32m      8\u001b[0m \u001b[1;33m\u001b[0m\u001b[0m\n\u001b[1;32m----> 9\u001b[1;33m \u001b[0mfit\u001b[0m \u001b[1;33m=\u001b[0m \u001b[0mrfe\u001b[0m\u001b[1;33m.\u001b[0m\u001b[0mfit\u001b[0m\u001b[1;33m(\u001b[0m\u001b[0mX\u001b[0m\u001b[1;33m,\u001b[0m \u001b[0my\u001b[0m\u001b[1;33m)\u001b[0m\u001b[1;33m\u001b[0m\u001b[1;33m\u001b[0m\u001b[0m\n\u001b[0m\u001b[0;32m     10\u001b[0m \u001b[1;33m\u001b[0m\u001b[0m\n\u001b[0;32m     11\u001b[0m \u001b[0mprint\u001b[0m\u001b[1;33m(\u001b[0m\u001b[0mfit\u001b[0m\u001b[1;33m.\u001b[0m\u001b[0msupport_\u001b[0m\u001b[1;33m)\u001b[0m\u001b[1;33m\u001b[0m\u001b[1;33m\u001b[0m\u001b[0m\n",
      "\u001b[1;32mc:\\program files (x86)\\python37-32\\lib\\site-packages\\sklearn\\feature_selection\\rfe.py\u001b[0m in \u001b[0;36mfit\u001b[1;34m(self, X, y)\u001b[0m\n\u001b[0;32m    138\u001b[0m             \u001b[0mThe\u001b[0m \u001b[0mtarget\u001b[0m \u001b[0mvalues\u001b[0m\u001b[1;33m.\u001b[0m\u001b[1;33m\u001b[0m\u001b[1;33m\u001b[0m\u001b[0m\n\u001b[0;32m    139\u001b[0m         \"\"\"\n\u001b[1;32m--> 140\u001b[1;33m         \u001b[1;32mreturn\u001b[0m \u001b[0mself\u001b[0m\u001b[1;33m.\u001b[0m\u001b[0m_fit\u001b[0m\u001b[1;33m(\u001b[0m\u001b[0mX\u001b[0m\u001b[1;33m,\u001b[0m \u001b[0my\u001b[0m\u001b[1;33m)\u001b[0m\u001b[1;33m\u001b[0m\u001b[1;33m\u001b[0m\u001b[0m\n\u001b[0m\u001b[0;32m    141\u001b[0m \u001b[1;33m\u001b[0m\u001b[0m\n\u001b[0;32m    142\u001b[0m     \u001b[1;32mdef\u001b[0m \u001b[0m_fit\u001b[0m\u001b[1;33m(\u001b[0m\u001b[0mself\u001b[0m\u001b[1;33m,\u001b[0m \u001b[0mX\u001b[0m\u001b[1;33m,\u001b[0m \u001b[0my\u001b[0m\u001b[1;33m,\u001b[0m \u001b[0mstep_score\u001b[0m\u001b[1;33m=\u001b[0m\u001b[1;32mNone\u001b[0m\u001b[1;33m)\u001b[0m\u001b[1;33m:\u001b[0m\u001b[1;33m\u001b[0m\u001b[1;33m\u001b[0m\u001b[0m\n",
      "\u001b[1;32mc:\\program files (x86)\\python37-32\\lib\\site-packages\\sklearn\\feature_selection\\rfe.py\u001b[0m in \u001b[0;36m_fit\u001b[1;34m(self, X, y, step_score)\u001b[0m\n\u001b[0;32m    185\u001b[0m                 \u001b[0mcoefs\u001b[0m \u001b[1;33m=\u001b[0m \u001b[0mgetattr\u001b[0m\u001b[1;33m(\u001b[0m\u001b[0mestimator\u001b[0m\u001b[1;33m,\u001b[0m \u001b[1;34m'feature_importances_'\u001b[0m\u001b[1;33m,\u001b[0m \u001b[1;32mNone\u001b[0m\u001b[1;33m)\u001b[0m\u001b[1;33m\u001b[0m\u001b[1;33m\u001b[0m\u001b[0m\n\u001b[0;32m    186\u001b[0m             \u001b[1;32mif\u001b[0m \u001b[0mcoefs\u001b[0m \u001b[1;32mis\u001b[0m \u001b[1;32mNone\u001b[0m\u001b[1;33m:\u001b[0m\u001b[1;33m\u001b[0m\u001b[1;33m\u001b[0m\u001b[0m\n\u001b[1;32m--> 187\u001b[1;33m                 raise RuntimeError('The classifier does not expose '\n\u001b[0m\u001b[0;32m    188\u001b[0m                                    \u001b[1;34m'\"coef_\" or \"feature_importances_\" '\u001b[0m\u001b[1;33m\u001b[0m\u001b[1;33m\u001b[0m\u001b[0m\n\u001b[0;32m    189\u001b[0m                                    'attributes')\n",
      "\u001b[1;31mRuntimeError\u001b[0m: The classifier does not expose \"coef_\" or \"feature_importances_\" attributes"
     ]
    }
   ],
   "source": [
    "from sklearn.feature_selection import RFE\n",
    "\n",
    "# feature extraction\n",
    "\n",
    "model = KNeighborsClassifier(n_neighbors=3)\n",
    "\n",
    "rfe = RFE(model, 5)\n",
    "\n",
    "fit = rfe.fit(X, y)\n",
    "\n",
    "print(fit.support_)\n",
    "print(fit.ranking_)"
   ]
  },
  {
   "cell_type": "code",
   "execution_count": 20,
   "metadata": {},
   "outputs": [
    {
     "name": "stdout",
     "output_type": "stream",
     "text": [
      "[ True False  True  True  True False False False False False False  True]\n",
      "[1 2 1 1 1 7 4 5 6 8 3 1]\n"
     ]
    }
   ],
   "source": [
    "from sklearn.feature_selection import RFE\n",
    "\n",
    "# feature extraction\n",
    "\n",
    "model = RandomForestClassifier(n_estimators=110, n_jobs=-1)\n",
    "\n",
    "rfe = RFE(model, 5)\n",
    "\n",
    "fit = rfe.fit(X, y)\n",
    "\n",
    "print(fit.support_)\n",
    "print(fit.ranking_)"
   ]
  },
  {
   "cell_type": "code",
   "execution_count": 21,
   "metadata": {},
   "outputs": [
    {
     "name": "stdout",
     "output_type": "stream",
     "text": [
      "[8.53058831e-02 6.22283305e-02 2.43701342e-01 3.89189587e-01\n",
      " 1.10765195e-01 7.97376868e-06 1.09443022e-02 9.23973924e-03\n",
      " 5.05599881e-04 2.28735107e-07 1.65006485e-02 7.16111701e-02]\n"
     ]
    }
   ],
   "source": [
    "model.fit(X_train, y_train)\n",
    "print(model.feature_importances_)"
   ]
  },
  {
   "cell_type": "code",
   "execution_count": 23,
   "metadata": {},
   "outputs": [
    {
     "name": "stdout",
     "output_type": "stream",
     "text": [
      "[0.08530588306641887, 0.0622283304962079, 0.24370134209733088, 0.3891895872459452, 0.1107651946800349, 7.973768684740595e-06, 0.010944302165200714, 0.009239739239372593, 0.0005055998810595914, 2.287351066524885e-07, 0.016500648493218154, 0.07161117013141977]\n"
     ]
    }
   ],
   "source": [
    "l = model.feature_importances_.tolist()\n",
    "print(l)\n",
    "l.sort()\n",
    "\n"
   ]
  },
  {
   "cell_type": "code",
   "execution_count": null,
   "metadata": {},
   "outputs": [],
   "source": [
    "data.head()"
   ]
  },
  {
   "cell_type": "code",
   "execution_count": 26,
   "metadata": {},
   "outputs": [
    {
     "data": {
      "text/html": [
       "<div>\n",
       "<style scoped>\n",
       "    .dataframe tbody tr th:only-of-type {\n",
       "        vertical-align: middle;\n",
       "    }\n",
       "\n",
       "    .dataframe tbody tr th {\n",
       "        vertical-align: top;\n",
       "    }\n",
       "\n",
       "    .dataframe thead th {\n",
       "        text-align: right;\n",
       "    }\n",
       "</style>\n",
       "<table border=\"1\" class=\"dataframe\">\n",
       "  <thead>\n",
       "    <tr style=\"text-align: right;\">\n",
       "      <th></th>\n",
       "      <th>step</th>\n",
       "      <th>type</th>\n",
       "      <th>amount</th>\n",
       "      <th>oldbalanceOrg</th>\n",
       "      <th>isFraud</th>\n",
       "      <th>hour</th>\n",
       "      <th>merchant</th>\n",
       "      <th>LTR</th>\n",
       "      <th>IZoB</th>\n",
       "    </tr>\n",
       "  </thead>\n",
       "  <tbody>\n",
       "    <tr>\n",
       "      <th>0</th>\n",
       "      <td>1</td>\n",
       "      <td>4</td>\n",
       "      <td>181.00</td>\n",
       "      <td>181.0</td>\n",
       "      <td>1</td>\n",
       "      <td>1</td>\n",
       "      <td>0</td>\n",
       "      <td>0</td>\n",
       "      <td>1</td>\n",
       "    </tr>\n",
       "    <tr>\n",
       "      <th>1</th>\n",
       "      <td>1</td>\n",
       "      <td>1</td>\n",
       "      <td>181.00</td>\n",
       "      <td>181.0</td>\n",
       "      <td>1</td>\n",
       "      <td>1</td>\n",
       "      <td>0</td>\n",
       "      <td>0</td>\n",
       "      <td>1</td>\n",
       "    </tr>\n",
       "    <tr>\n",
       "      <th>2</th>\n",
       "      <td>1</td>\n",
       "      <td>3</td>\n",
       "      <td>7107.77</td>\n",
       "      <td>183195.0</td>\n",
       "      <td>0</td>\n",
       "      <td>1</td>\n",
       "      <td>1</td>\n",
       "      <td>0</td>\n",
       "      <td>0</td>\n",
       "    </tr>\n",
       "    <tr>\n",
       "      <th>3</th>\n",
       "      <td>1</td>\n",
       "      <td>3</td>\n",
       "      <td>671.64</td>\n",
       "      <td>15123.0</td>\n",
       "      <td>0</td>\n",
       "      <td>1</td>\n",
       "      <td>1</td>\n",
       "      <td>0</td>\n",
       "      <td>0</td>\n",
       "    </tr>\n",
       "    <tr>\n",
       "      <th>4</th>\n",
       "      <td>1</td>\n",
       "      <td>3</td>\n",
       "      <td>1373.43</td>\n",
       "      <td>13854.0</td>\n",
       "      <td>0</td>\n",
       "      <td>1</td>\n",
       "      <td>1</td>\n",
       "      <td>0</td>\n",
       "      <td>0</td>\n",
       "    </tr>\n",
       "  </tbody>\n",
       "</table>\n",
       "</div>"
      ],
      "text/plain": [
       "   step  type   amount  oldbalanceOrg  isFraud  hour  merchant  LTR  IZoB\n",
       "0     1     4   181.00          181.0        1     1         0    0     1\n",
       "1     1     1   181.00          181.0        1     1         0    0     1\n",
       "2     1     3  7107.77       183195.0        0     1         1    0     0\n",
       "3     1     3   671.64        15123.0        0     1         1    0     0\n",
       "4     1     3  1373.43        13854.0        0     1         1    0     0"
      ]
     },
     "execution_count": 26,
     "metadata": {},
     "output_type": "execute_result"
    }
   ],
   "source": [
    "data.drop('newSender', axis=1, inplace=True)\n",
    "data.drop('fraudsEarly', axis=1, inplace=True)\n",
    "data.drop('LTS', axis=1, inplace=True)\n",
    "data.drop('newReceiver', axis=1, inplace=True)\n",
    "data.head()"
   ]
  },
  {
   "cell_type": "code",
   "execution_count": 27,
   "metadata": {},
   "outputs": [
    {
     "name": "stdout",
     "output_type": "stream",
     "text": [
      "GaussianNB\n",
      "Acc: 0.963544150158221\n",
      "Pre: 0.5527950310559007\n",
      "Re: 0.18379990821477743\n",
      "F1: 0.2758739452385053\n",
      "[[110339    648]\n",
      " [  3557    801]]\n",
      "KNeighborsClassifier\n",
      "Acc: 0.995916598031991\n",
      "Pre: 0.9567567567567568\n",
      "Re: 0.9341441027994493\n",
      "F1: 0.94531522117729\n",
      "[[110803    184]\n",
      " [   287   4071]]\n",
      "RandomForestClassifier\n",
      "Acc: 0.9928648836100394\n",
      "Pre: 0.9750067186240258\n",
      "Re: 0.8324919687930243\n",
      "F1: 0.8981309568015843\n",
      "[[110894     93]\n",
      " [   730   3628]]\n"
     ]
    }
   ],
   "source": [
    "\n",
    "model = GaussianNB()\n",
    "modExec()\n",
    "\n",
    "\n",
    "model = KNeighborsClassifier(n_neighbors=3)\n",
    "modExec()\n",
    "\n",
    "\n",
    "model = RandomForestClassifier(n_estimators=110, n_jobs=-1)\n",
    "modExec()"
   ]
  },
  {
   "cell_type": "code",
   "execution_count": null,
   "metadata": {},
   "outputs": [],
   "source": [
    "data.drop('merchant', axis=1, inplace=True)\n",
    "data.drop('LTR', axis=1, inplace=True)\n",
    "\n",
    "data.head()"
   ]
  },
  {
   "cell_type": "code",
   "execution_count": null,
   "metadata": {},
   "outputs": [],
   "source": [
    "data.drop('step', axis=1, inplace=True)\n",
    "data.head()"
   ]
  },
  {
   "cell_type": "code",
   "execution_count": null,
   "metadata": {},
   "outputs": [],
   "source": [
    "model = GaussianNB()\n",
    "modExec()\n",
    "\n",
    "\n",
    "model = KNeighborsClassifier(n_neighbors=3)\n",
    "modExec()\n",
    "\n",
    "\n",
    "model = RandomForestClassifier(n_estimators=110, n_jobs=-1)\n",
    "modExec()"
   ]
  },
  {
   "cell_type": "code",
   "execution_count": null,
   "metadata": {},
   "outputs": [],
   "source": [
    "data.drop('hour', axis=1, inplace=True)\n",
    "data.head()"
   ]
  },
  {
   "cell_type": "code",
   "execution_count": null,
   "metadata": {},
   "outputs": [],
   "source": [
    "model = GaussianNB()\n",
    "modExec()\n",
    "\n",
    "\n",
    "model = KNeighborsClassifier(n_neighbors=3)\n",
    "modExec()\n",
    "\n",
    "\n",
    "model = RandomForestClassifier(n_estimators=110, n_jobs=-1)\n",
    "modExec()"
   ]
  },
  {
   "cell_type": "code",
   "execution_count": 28,
   "metadata": {},
   "outputs": [
    {
     "name": "stdout",
     "output_type": "stream",
     "text": [
      "GaussianNB\n",
      "Acc: 0.9634661233690234\n",
      "Pre: 0.547682119205298\n",
      "Re: 0.18976594768242314\n",
      "F1: 0.28186775732788\n",
      "[[110304    683]\n",
      " [  3531    827]]\n",
      "KNeighborsClassifier\n",
      "Acc: 0.9967575534266765\n",
      "Pre: 0.9556267154620312\n",
      "Re: 0.9586966498393759\n",
      "F1: 0.9571592210767469\n",
      "[[110793    194]\n",
      " [   180   4178]]\n",
      "RandomForestClassifier\n",
      "Acc: 0.9962720534050024\n",
      "Pre: 0.9856577645895154\n",
      "Re: 0.9146397430013767\n",
      "F1: 0.9488217091168769\n",
      "[[110929     58]\n",
      " [   372   3986]]\n"
     ]
    },
    {
     "data": {
      "text/html": [
       "<div>\n",
       "<style scoped>\n",
       "    .dataframe tbody tr th:only-of-type {\n",
       "        vertical-align: middle;\n",
       "    }\n",
       "\n",
       "    .dataframe tbody tr th {\n",
       "        vertical-align: top;\n",
       "    }\n",
       "\n",
       "    .dataframe thead th {\n",
       "        text-align: right;\n",
       "    }\n",
       "</style>\n",
       "<table border=\"1\" class=\"dataframe\">\n",
       "  <thead>\n",
       "    <tr style=\"text-align: right;\">\n",
       "      <th></th>\n",
       "      <th>type</th>\n",
       "      <th>amount</th>\n",
       "      <th>oldbalanceOrg</th>\n",
       "      <th>isFraud</th>\n",
       "      <th>hour</th>\n",
       "      <th>IZoB</th>\n",
       "    </tr>\n",
       "  </thead>\n",
       "  <tbody>\n",
       "    <tr>\n",
       "      <th>0</th>\n",
       "      <td>4</td>\n",
       "      <td>181.00</td>\n",
       "      <td>181.0</td>\n",
       "      <td>1</td>\n",
       "      <td>1</td>\n",
       "      <td>1</td>\n",
       "    </tr>\n",
       "    <tr>\n",
       "      <th>1</th>\n",
       "      <td>1</td>\n",
       "      <td>181.00</td>\n",
       "      <td>181.0</td>\n",
       "      <td>1</td>\n",
       "      <td>1</td>\n",
       "      <td>1</td>\n",
       "    </tr>\n",
       "    <tr>\n",
       "      <th>2</th>\n",
       "      <td>3</td>\n",
       "      <td>7107.77</td>\n",
       "      <td>183195.0</td>\n",
       "      <td>0</td>\n",
       "      <td>1</td>\n",
       "      <td>0</td>\n",
       "    </tr>\n",
       "    <tr>\n",
       "      <th>3</th>\n",
       "      <td>3</td>\n",
       "      <td>671.64</td>\n",
       "      <td>15123.0</td>\n",
       "      <td>0</td>\n",
       "      <td>1</td>\n",
       "      <td>0</td>\n",
       "    </tr>\n",
       "    <tr>\n",
       "      <th>4</th>\n",
       "      <td>3</td>\n",
       "      <td>1373.43</td>\n",
       "      <td>13854.0</td>\n",
       "      <td>0</td>\n",
       "      <td>1</td>\n",
       "      <td>0</td>\n",
       "    </tr>\n",
       "  </tbody>\n",
       "</table>\n",
       "</div>"
      ],
      "text/plain": [
       "   type   amount  oldbalanceOrg  isFraud  hour  IZoB\n",
       "0     4   181.00          181.0        1     1     1\n",
       "1     1   181.00          181.0        1     1     1\n",
       "2     3  7107.77       183195.0        0     1     0\n",
       "3     3   671.64        15123.0        0     1     0\n",
       "4     3  1373.43        13854.0        0     1     0"
      ]
     },
     "execution_count": 28,
     "metadata": {},
     "output_type": "execute_result"
    }
   ],
   "source": [
    "path = \"newFilt500k.csv\"\n",
    "data = read(path, delimiter=\",\")\n",
    "data.drop('isFlaggedFraud', axis=1, inplace=True)\n",
    "data.drop('nameOrig', axis=1, inplace=True)\n",
    "data.drop('nameDest', axis=1, inplace=True)\n",
    "data.drop('newbalanceOrig', axis=1, inplace=True)\n",
    "data.drop('newbalanceDest', axis=1, inplace=True)\n",
    "data.drop('newSender', axis=1, inplace=True)\n",
    "data.drop('fraudsEarly', axis=1, inplace=True)\n",
    "data.drop('LTS', axis=1, inplace=True)\n",
    "data.drop('newReceiver', axis=1, inplace=True)\n",
    "data.drop('step', axis=1, inplace=True)\n",
    "data.drop('merchant', axis=1, inplace=True)\n",
    "data.drop('LTR', axis=1, inplace=True)\n",
    "data.drop('oldbalanceDest', axis=1, inplace=True)\n",
    "\n",
    "\n",
    "data.head()\n",
    "\n",
    "from sklearn.preprocessing import LabelEncoder\n",
    "\n",
    "le = LabelEncoder()\n",
    "data['type'] = le.fit_transform(data['type'])\n",
    "\n",
    "X = data.loc[:, data.columns != 'isFraud'].values\n",
    "y = data.loc[:, 'isFraud'].values\n",
    "\n",
    "y=y.astype('int') # не совсем понял, почему https://stackoverflow.com/questions/45346550/valueerror-unknown-label-type-unknown\n",
    "\n",
    "from sklearn.model_selection import train_test_split as train\n",
    "\n",
    "X_train, X_test, y_train, y_test = train(X, y, shuffle=False)\n",
    "\n",
    "from sklearn import preprocessing\n",
    "# normalize the data attributes\n",
    "normalized_X = preprocessing.normalize(X)\n",
    "# standardize the data attributes\n",
    "standardized_X = preprocessing.scale(X)\n",
    "\n",
    "model = GaussianNB()\n",
    "modExec()\n",
    "\n",
    "\n",
    "model = KNeighborsClassifier(n_neighbors=3)\n",
    "modExec()\n",
    "\n",
    "\n",
    "model = RandomForestClassifier(n_estimators=110, n_jobs=-1)\n",
    "modExec()\n",
    "data.head()"
   ]
  },
  {
   "cell_type": "code",
   "execution_count": 31,
   "metadata": {},
   "outputs": [
    {
     "name": "stdout",
     "output_type": "stream",
     "text": [
      "f1=0.948 auc=0.996 ap=0.995\n",
      "f1=0.957 auc=0.971 ap=0.948\n"
     ]
    },
    {
     "data": {
      "image/png": "[encoded data removed]",
      "text/plain": [
       "<Figure size 432x288 with 1 Axes>"
      ]
     },
     "metadata": {
      "needs_background": "light"
     },
     "output_type": "display_data"
    }
   ],
   "source": [
    "import random\n",
    "\n",
    "models = []\n",
    "models.append(RandomForestClassifier(n_estimators=110, n_jobs=-1))\n",
    "models.append(KNeighborsClassifier(n_neighbors=3))\n",
    "models.append(GaussianNB())\n",
    "\n",
    "for model in models:\n",
    "    \n",
    "    model.fit(X_train, y_train)\n",
    "    expected = y_test\n",
    "    predicted = model.predict(X_test)\n",
    "    \n",
    "    pobas = model.predict_proba(X_test)\n",
    "    preds = pobas[:, 1]\n",
    "    \n",
    "    name = type(model).__name__\n",
    "    \n",
    "    precision, recall, thresholds = precision_recall_curve(expected, preds)\n",
    "    # calculate F1 score\n",
    "    f1 = f1_score(expected, predicted)\n",
    "    # calculate precision-recall AUC\n",
    "    au = auc(recall, precision)\n",
    "    # calculate average precision score\n",
    "    ap = average_precision_score(expected, preds)\n",
    "    s = 'f1=%.3f auc=%.3f ap=%.3f' % (f1, au, ap)\n",
    "    print(s)\n",
    "    # plot the precision-recall curve for the model\n",
    "    plt.title(\"Precision-recall curve\")\n",
    "\n",
    "    plt.plot(recall, precision, 'b', label=f'PR {name}\\n{s}',  color=(random.uniform(0,1), random.uniform(0, 1), random.uniform(0, 1)))\n",
    "    plt.legend(loc = 'lower left')\n",
    "\n",
    "    plt.xlabel('Recall')\n",
    "    plt.ylabel('Precision')\n",
    "\n",
    "\n",
    "plt.savefig(\"PR.png\")"
   ]
  }
 ],
 "metadata": {
  "kernelspec": {
   "display_name": "Python 3",
   "language": "python",
   "name": "python3"
  },
  "language_info": {
   "codemirror_mode": {
    "name": "ipython",
    "version": 3
   },
   "file_extension": ".py",
   "mimetype": "text/x-python",
   "name": "python",
   "nbconvert_exporter": "python",
   "pygments_lexer": "ipython3",
   "version": "3.7.3"
  }
 },
 "nbformat": 4,
 "nbformat_minor": 2
}
