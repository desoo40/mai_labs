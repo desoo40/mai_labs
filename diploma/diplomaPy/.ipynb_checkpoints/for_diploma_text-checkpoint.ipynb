{
 "cells": [
  {
   "cell_type": "markdown",
   "metadata": {},
   "source": [
    "# Импорт библиотек"
   ]
  },
  {
   "cell_type": "code",
   "execution_count": 1,
   "metadata": {},
   "outputs": [],
   "source": [
    "from pandas import read_csv as read\n",
    "import pandas as pd\n",
    "import random\n",
    "\n",
    "import numpy as np\n",
    "import seaborn as sns; sns.set(color_codes=True)\n",
    "import matplotlib.pyplot as plt\n",
    "\n",
    "from sklearn import metrics\n",
    "from sklearn.metrics import make_scorer, accuracy_score, precision_score, recall_score, f1_score\n",
    "from sklearn.metrics import precision_recall_curve\n",
    "from sklearn.metrics import auc\n",
    "from sklearn.metrics import average_precision_score\n",
    "\n",
    "\n",
    "from sklearn.preprocessing import LabelEncoder\n",
    "from sklearn.model_selection import train_test_split as train\n",
    "\n",
    "from sklearn.feature_selection import RFE\n",
    "\n",
    "from sklearn.naive_bayes import GaussianNB\n",
    "from sklearn.neighbors import KNeighborsClassifier\n",
    "from sklearn.ensemble import RandomForestClassifier, GradientBoostingClassifier\n",
    "from sklearn.tree import DecisionTreeClassifier\n",
    "\n",
    "\n",
    "from plot import pltPRcurve, pltROCcurve"
   ]
  },
  {
   "cell_type": "markdown",
   "metadata": {},
   "source": [
    "# Используемые модели"
   ]
  },
  {
   "cell_type": "code",
   "execution_count": 2,
   "metadata": {},
   "outputs": [],
   "source": [
    "models = []\n",
    "models.append(RandomForestClassifier(n_estimators=110, n_jobs=-1))\n",
    "models.append(KNeighborsClassifier(n_neighbors=3))\n",
    "models.append(GaussianNB())\n",
    "#models.append(GradientBoostingClassifier(max_depth=4))\n",
    "#models.append(DecisionTreeClassifier())\n"
   ]
  },
  {
   "cell_type": "markdown",
   "metadata": {},
   "source": [
    "# Вспомогательные функции"
   ]
  },
  {
   "cell_type": "code",
   "execution_count": 3,
   "metadata": {},
   "outputs": [],
   "source": [
    "def plot_confusion_matrix(y_true, y_pred, classes,\n",
    "                          normalize=False,\n",
    "                          title=None,\n",
    "                          cmap=plt.cm.Blues):\n",
    "    \"\"\"\n",
    "    This function prints and plots the confusion matrix.\n",
    "    Normalization can be applied by setting `normalize=True`.\n",
    "    \"\"\"\n",
    "    if not title:\n",
    "        if normalize:\n",
    "            title = 'Normalized confusion matrix'\n",
    "        else:\n",
    "            title = 'Confusion matrix, without normalization'\n",
    "\n",
    "    # Compute confusion matrix\n",
    "    cm = metrics.confusion_matrix(y_true, y_pred)\n",
    "    # Only use the labels that appear in the data\n",
    "    #classes = classes[unique_labels(y_true, y_pred)]\n",
    "    if normalize:\n",
    "        cm = cm.astype('float') / cm.sum(axis=1)[:, np.newaxis]\n",
    "        print(\"Normalized confusion matrix\")\n",
    "    else:\n",
    "        print('Confusion matrix, without normalization')\n",
    "\n",
    "    print(cm)\n",
    "\n",
    "    fig, ax = plt.subplots()\n",
    "    im = ax.imshow(cm, interpolation='nearest', cmap=cmap)\n",
    "    ax.figure.colorbar(im, ax=ax)\n",
    "    # We want to show all ticks...\n",
    "    ax.set(xticks=np.arange(cm.shape[1]),\n",
    "           yticks=np.arange(cm.shape[0]),\n",
    "           # ... and label them with the respective list entries\n",
    "           xticklabels=classes, yticklabels=classes,\n",
    "           title=title,\n",
    "           ylabel='Ожидаемые значения',\n",
    "           xlabel='Предсказанные значения')\n",
    "\n",
    "    # Rotate the tick labels and set their alignment.\n",
    "    plt.setp(ax.get_xticklabels(), rotation=45, ha=\"right\",\n",
    "             rotation_mode=\"anchor\")\n",
    "\n",
    "    # Loop over data dimensions and create text annotations.\n",
    "    fmt = '.2f' if normalize else 'd'\n",
    "    thresh = cm.max() / 2.\n",
    "    for i in range(cm.shape[0]):\n",
    "        for j in range(cm.shape[1]):\n",
    "            ax.text(j, i, format(cm[i, j], fmt),\n",
    "                    ha=\"center\", va=\"center\",\n",
    "                    color=\"white\" if cm[i, j] > thresh else \"black\")\n",
    "    fig.tight_layout()\n",
    "   \n",
    "\n",
    "    return ax\n",
    "\n",
    "    \n"
   ]
  },
  {
   "cell_type": "code",
   "execution_count": 4,
   "metadata": {},
   "outputs": [],
   "source": [
    "def plot_corr():\n",
    "    correlation_matrix = data.corr()\n",
    "    plt.figure(figsize=(10,8))\n",
    "    ax = sns.heatmap(correlation_matrix, vmax=1, square=True, annot=True,fmt='.2f', cmap ='GnBu', cbar_kws={\"shrink\": .5}, robust=True)\n",
    "    plt.title('Correlation matrix between the features', fontsize=20)\n",
    "    plt.savefig(\"cor.png\")\n",
    "    plt.show()"
   ]
  },
  {
   "cell_type": "code",
   "execution_count": 5,
   "metadata": {},
   "outputs": [],
   "source": [
    "def modExec():\n",
    "    model.fit(X_train, y_train)\n",
    "    expected = y_test\n",
    "    predicted = model.predict(X_test)\n",
    "\n",
    "    pobas = model.predict_proba(X_test)\n",
    "    preds = pobas[:, 1]\n",
    "\n",
    "    report = metrics.classification_report(expected, predicted)\n",
    "    conf_matrix = metrics.confusion_matrix(expected, predicted)\n",
    "\n",
    "    print(type(model).__name__)\n",
    "    print(f\"Acc:\\t{accuracy_score(expected, predicted)}\")\n",
    "    print(f\"Pre:\\t{precision_score(expected, predicted)}\")\n",
    "    print(f\"Re:\\t{recall_score(expected, predicted)}\")\n",
    "    print(f\"F1:\\t{f1_score(expected, predicted)}\")\n",
    "    \n",
    "    print(conf_matrix)"
   ]
  },
  {
   "cell_type": "code",
   "execution_count": 11,
   "metadata": {},
   "outputs": [],
   "source": [
    "def modExec1(models, drawPR=False, drawRoc=False):\n",
    "    for model in models:\n",
    "\n",
    "        model.fit(X_train, y_train)\n",
    "        expected = y_test\n",
    "        predicted = model.predict(X_test)\n",
    "\n",
    "        pobas = model.predict_proba(X_test)\n",
    "        preds = pobas[:, 1]\n",
    "\n",
    "        name = type(model).__name__\n",
    "        \n",
    "        if name == 'RandomForestClassifier'\n",
    "            name = 'Случайный лес'\n",
    "        \n",
    "        if name == 'KNeighborsClassifier'\n",
    "            name = 'k-ближайших соседей'\n",
    "            \n",
    "        if name == 'GaussianNB'\n",
    "            name = 'Наивный байесовский классификатор'\n",
    "        \n",
    "        if drawPR:\n",
    "            pltPRcurve(expected, predicted, preds, name)\n",
    "        \n",
    "        if drawRoc:\n",
    "            pltROCcurve(expected, predicted, preds, name)\n",
    "        \n",
    "        report = metrics.classification_report(expected, predicted)\n",
    "        conf_matrix = metrics.confusion_matrix(expected, predicted)\n",
    "\n",
    "        print(name)\n",
    "        print(f\"Acc: {accuracy_score(expected, predicted)}\")\n",
    "        print(f\"Pre: {precision_score(expected, predicted)}\")\n",
    "        print(f\"Re: {recall_score(expected, predicted)}\")\n",
    "        print(f\"F1: {f1_score(expected, predicted)}\")\n",
    "\n",
    "        # Plot non-normalized confusion matrix\n",
    "        plot_confusion_matrix(expected, predicted, classes=['Не мош.', 'Мош.'],\n",
    "                          title=f'{name}')\n",
    "        plt.grid(False)\n",
    "        plt.savefig(f\"conf{name}.png\", dpi=300)\n",
    "        plt.close()\n",
    "\n",
    "        print(conf_matrix)\n",
    "        print()\n",
    "        "
   ]
  },
  {
   "cell_type": "markdown",
   "metadata": {},
   "source": [
    "# Анализ на сырых данных"
   ]
  },
  {
   "cell_type": "code",
   "execution_count": 7,
   "metadata": {},
   "outputs": [],
   "source": [
    "path = \"filtData500k.csv\"\n",
    "data = read(path, delimiter=\",\")"
   ]
  },
  {
   "cell_type": "code",
   "execution_count": 8,
   "metadata": {},
   "outputs": [],
   "source": [
    "data.drop('isFlaggedFraud', axis=1, inplace=True)\n",
    "data.drop('nameOrig', axis=1, inplace=True)\n",
    "data.drop('nameDest', axis=1, inplace=True)\n",
    "\n",
    "le = LabelEncoder()\n",
    "data['type'] = le.fit_transform(data['type'])"
   ]
  },
  {
   "cell_type": "code",
   "execution_count": 9,
   "metadata": {},
   "outputs": [],
   "source": [
    "X = data.loc[:, data.columns != 'isFraud'].values\n",
    "y = data.loc[:, 'isFraud'].values\n",
    "\n",
    "y=y.astype('int') # не совсем понял, почему https://stackoverflow.com/questions/45346550/valueerror-unknown-label-type-unknown\n",
    "\n",
    "X_train, X_test, y_train, y_test = train(X, y, shuffle=False)"
   ]
  },
  {
   "cell_type": "code",
   "execution_count": 12,
   "metadata": {},
   "outputs": [
    {
     "name": "stdout",
     "output_type": "stream",
     "text": [
      "RandomForestClassifier\n",
      "Acc: 0.9927608478911093\n",
      "Pre: 0.9966168593177333\n",
      "Re: 0.8111519045433685\n",
      "F1: 0.8943706514864009\n",
      "Confusion matrix, without normalization\n",
      "[[110975     12]\n",
      " [   823   3535]]\n",
      "[[110975     12]\n",
      " [   823   3535]]\n",
      "\n",
      "KNeighborsClassifier\n",
      "Acc: 0.9908188478044129\n",
      "Pre: 0.9545329291815927\n",
      "Re: 0.7948600275355667\n",
      "F1: 0.8674095405033178\n",
      "Confusion matrix, without normalization\n",
      "[[110822    165]\n",
      " [   894   3464]]\n",
      "[[110822    165]\n",
      " [   894   3464]]\n",
      "\n",
      "GaussianNB\n",
      "Acc: 0.964697212709697\n",
      "Pre: 0.595460614152203\n",
      "Re: 0.20468104635153742\n",
      "F1: 0.3046448087431694\n",
      "Confusion matrix, without normalization\n",
      "[[110381    606]\n",
      " [  3466    892]]\n",
      "[[110381    606]\n",
      " [  3466    892]]\n",
      "\n"
     ]
    }
   ],
   "source": [
    " modExec1(models)"
   ]
  },
  {
   "cell_type": "code",
   "execution_count": null,
   "metadata": {},
   "outputs": [],
   "source": [
    "plot_corr()"
   ]
  },
  {
   "cell_type": "code",
   "execution_count": null,
   "metadata": {},
   "outputs": [],
   "source": [
    "data.head()"
   ]
  },
  {
   "cell_type": "code",
   "execution_count": null,
   "metadata": {},
   "outputs": [],
   "source": [
    "data.drop('newbalanceOrig', axis=1, inplace=True)\n",
    "data.drop('newbalanceDest', axis=1, inplace=True)\n",
    "data.drop('oldbalanceDest', axis=1, inplace=True)\n",
    "\n",
    "\n",
    "plot_corr()"
   ]
  },
  {
   "cell_type": "markdown",
   "metadata": {},
   "source": [
    "# Проектирование признаков"
   ]
  },
  {
   "cell_type": "code",
   "execution_count": null,
   "metadata": {},
   "outputs": [],
   "source": [
    "path = \"newFilt500k.csv\"\n",
    "data = read(path, delimiter=\",\")\n",
    "data.drop('isFlaggedFraud', axis=1, inplace=True)\n",
    "data.drop('nameOrig', axis=1, inplace=True)\n",
    "data.drop('nameDest', axis=1, inplace=True)\n",
    "data.drop('newbalanceOrig', axis=1, inplace=True)\n",
    "data.drop('newbalanceDest', axis=1, inplace=True)\n",
    "data.drop('oldbalanceDest', axis=1, inplace=True)"
   ]
  },
  {
   "cell_type": "code",
   "execution_count": null,
   "metadata": {},
   "outputs": [],
   "source": [
    "le = LabelEncoder()\n",
    "data['type'] = le.fit_transform(data['type'])\n",
    "\n",
    "X = data.loc[:, data.columns != 'isFraud'].values\n",
    "y = data.loc[:, 'isFraud'].values\n",
    "\n",
    "y=y.astype('int') # не совсем понял, почему https://stackoverflow.com/questions/45346550/valueerror-unknown-label-type-unknown\n",
    "\n",
    "\n",
    "X_train, X_test, y_train, y_test = train(X, y, shuffle=False)"
   ]
  },
  {
   "cell_type": "markdown",
   "metadata": {},
   "source": [
    "### Отбор признаков рекурсивным исключением"
   ]
  },
  {
   "cell_type": "code",
   "execution_count": null,
   "metadata": {},
   "outputs": [],
   "source": [
    "# feature extraction\n",
    "\n",
    "model = RandomForestClassifier(n_estimators=110, n_jobs=-1)\n",
    "\n",
    "rfe = RFE(model, 5)\n",
    "\n",
    "fit = rfe.fit(X_train, y_train)\n",
    "\n",
    "print(fit.support_)\n",
    "print(fit.ranking_)"
   ]
  },
  {
   "cell_type": "code",
   "execution_count": null,
   "metadata": {},
   "outputs": [],
   "source": [
    "model.fit(X_train, y_train)\n",
    "print(model.feature_importances_)"
   ]
  },
  {
   "cell_type": "code",
   "execution_count": null,
   "metadata": {},
   "outputs": [],
   "source": [
    "l = model.feature_importances_.tolist()\n",
    "print(l)"
   ]
  },
  {
   "cell_type": "code",
   "execution_count": null,
   "metadata": {},
   "outputs": [],
   "source": [
    "data.head()"
   ]
  },
  {
   "cell_type": "code",
   "execution_count": null,
   "metadata": {},
   "outputs": [],
   "source": [
    "data.drop('newSender', axis=1, inplace=True)\n",
    "data.drop('fraudsEarly', axis=1, inplace=True)\n",
    "data.drop('LTS', axis=1, inplace=True)\n",
    "data.drop('newReceiver', axis=1, inplace=True)\n",
    "data.head()"
   ]
  },
  {
   "cell_type": "code",
   "execution_count": null,
   "metadata": {},
   "outputs": [],
   "source": [
    "data.drop('merchant', axis=1, inplace=True)\n",
    "data.drop('LTR', axis=1, inplace=True)\n",
    "\n",
    "data.head()"
   ]
  },
  {
   "cell_type": "code",
   "execution_count": null,
   "metadata": {},
   "outputs": [],
   "source": [
    "data.drop('step', axis=1, inplace=True)\n",
    "data.head()"
   ]
  },
  {
   "cell_type": "code",
   "execution_count": null,
   "metadata": {},
   "outputs": [],
   "source": [
    "data.drop('hour', axis=1, inplace=True)\n",
    "data.head()"
   ]
  },
  {
   "cell_type": "code",
   "execution_count": null,
   "metadata": {},
   "outputs": [],
   "source": [
    "modExec1(models)"
   ]
  },
  {
   "cell_type": "markdown",
   "metadata": {},
   "source": [
    "# Нормализация"
   ]
  },
  {
   "cell_type": "code",
   "execution_count": null,
   "metadata": {},
   "outputs": [],
   "source": [
    "path = \"newFilt500k.csv\"\n",
    "data = read(path, delimiter=\",\")\n",
    "\n",
    "data.drop('isFlaggedFraud', axis=1, inplace=True)\n",
    "data.drop('nameOrig', axis=1, inplace=True)\n",
    "data.drop('nameDest', axis=1, inplace=True)\n",
    "data.drop('newbalanceOrig', axis=1, inplace=True)\n",
    "data.drop('newbalanceDest', axis=1, inplace=True)\n",
    "data.drop('newSender', axis=1, inplace=True)\n",
    "data.drop('fraudsEarly', axis=1, inplace=True)\n",
    "data.drop('LTS', axis=1, inplace=True)\n",
    "data.drop('newReceiver', axis=1, inplace=True)\n",
    "data.drop('step', axis=1, inplace=True)\n",
    "data.drop('merchant', axis=1, inplace=True)\n",
    "data.drop('LTR', axis=1, inplace=True)\n",
    "data.drop('oldbalanceDest', axis=1, inplace=True)\n",
    "\n",
    "le = LabelEncoder()\n",
    "data['type'] = le.fit_transform(data['type'])\n",
    "\n",
    "X = data.loc[:, data.columns != 'isFraud'].values\n",
    "y = data.loc[:, 'isFraud'].values\n",
    "\n",
    "y=y.astype('int') # не совсем понял, почему https://stackoverflow.com/questions/45346550/valueerror-unknown-label-type-unknown\n",
    "data.head()"
   ]
  },
  {
   "cell_type": "code",
   "execution_count": null,
   "metadata": {},
   "outputs": [],
   "source": [
    "X_train, X_test, y_train, y_test = train(X, y, shuffle=False)"
   ]
  },
  {
   "cell_type": "code",
   "execution_count": null,
   "metadata": {},
   "outputs": [],
   "source": [
    "modExec1(models)"
   ]
  },
  {
   "cell_type": "code",
   "execution_count": null,
   "metadata": {},
   "outputs": [],
   "source": [
    "dataset = pd.DataFrame({'type':X[:,0],'amount':X[:,1], 'hour':X[:,2], 'iZoB':X[:,3]})\n",
    "dataset.head()"
   ]
  },
  {
   "cell_type": "code",
   "execution_count": null,
   "metadata": {},
   "outputs": [],
   "source": [
    "from sklearn import preprocessing\n",
    "\n",
    "normalized_X = preprocessing.normalize(X)\n",
    "standardized_X = preprocessing.scale(X)"
   ]
  },
  {
   "cell_type": "code",
   "execution_count": null,
   "metadata": {},
   "outputs": [],
   "source": [
    "dataset = pd.DataFrame({'type':normalized_X[:,0],'amount':normalized_X[:,1], 'hour':normalized_X[:,2], 'iZoB':normalized_X[:,3]})\n",
    "dataset.head()"
   ]
  },
  {
   "cell_type": "code",
   "execution_count": null,
   "metadata": {},
   "outputs": [],
   "source": [
    "X = normalized_X\n",
    "X_train, X_test, y_train, y_test = train(X, y, shuffle=False)\n",
    "\n",
    "modExec1(models, True, False)"
   ]
  },
  {
   "cell_type": "code",
   "execution_count": null,
   "metadata": {},
   "outputs": [],
   "source": [
    "X = standardized_X\n",
    "X_train, X_test, y_train, y_test = train(X, y, shuffle=False)\n",
    "\n",
    "modExec1(models)"
   ]
  },
  {
   "cell_type": "markdown",
   "metadata": {},
   "source": [
    "# Попытки amount и oldbalanceOrg на amountToOld"
   ]
  },
  {
   "cell_type": "code",
   "execution_count": null,
   "metadata": {},
   "outputs": [],
   "source": [
    "path = \"newFilt500k.csv\"\n",
    "data = read(path, delimiter=\",\")\n",
    "\n",
    "data.drop('isFlaggedFraud', axis=1, inplace=True)\n",
    "data.drop('nameOrig', axis=1, inplace=True)\n",
    "data.drop('nameDest', axis=1, inplace=True)\n",
    "data.drop('newbalanceOrig', axis=1, inplace=True)\n",
    "data.drop('newbalanceDest', axis=1, inplace=True)\n",
    "data.drop('newSender', axis=1, inplace=True)\n",
    "data.drop('fraudsEarly', axis=1, inplace=True)\n",
    "data.drop('LTS', axis=1, inplace=True)\n",
    "data.drop('newReceiver', axis=1, inplace=True)\n",
    "data.drop('step', axis=1, inplace=True)\n",
    "data.drop('merchant', axis=1, inplace=True)\n",
    "data.drop('LTR', axis=1, inplace=True)\n",
    "data.drop('oldbalanceDest', axis=1, inplace=True)"
   ]
  },
  {
   "cell_type": "code",
   "execution_count": null,
   "metadata": {
    "scrolled": true
   },
   "outputs": [],
   "source": [
    "data['amountToOld'] = data['amount'] / data['oldbalanceOrg']\n",
    "\n",
    "data.loc[data.amountToOld > 1000000000, 'amountToOld'] = -1\n",
    "data.fillna(-1)\n",
    "data.drop('amount', axis=1, inplace=True)\n",
    "data.drop('oldbalanceOrg', axis=1, inplace=True)\n",
    "data['amountToOld'].max()"
   ]
  },
  {
   "cell_type": "code",
   "execution_count": null,
   "metadata": {},
   "outputs": [],
   "source": [
    "le = LabelEncoder()\n",
    "data['type'] = le.fit_transform(data['type'])\n",
    "\n",
    "X = data.loc[:, data.columns != 'isFraud'].values\n",
    "y = data.loc[:, 'isFraud'].values\n",
    "\n",
    "y=y.astype('int') # не совсем понял, почему https://stackoverflow.com/questions/45346550/valueerror-unknown-label-type-unknown\n",
    "\n",
    "from sklearn.model_selection import train_test_split as train\n",
    "\n",
    "X_train, X_test, y_train, y_test = train(X, y, shuffle=False)\n",
    "\n",
    "model = GaussianNB()\n",
    "modExec()\n",
    "\n",
    "\n",
    "model = KNeighborsClassifier(n_neighbors=3)\n",
    "modExec()\n",
    "\n",
    "\n",
    "model = RandomForestClassifier(n_estimators=110, n_jobs=-1)\n",
    "modExec()\n",
    "data.head()"
   ]
  }
 ],
 "metadata": {
  "kernelspec": {
   "display_name": "Python 3",
   "language": "python",
   "name": "python3"
  },
  "language_info": {
   "codemirror_mode": {
    "name": "ipython",
    "version": 3
   },
   "file_extension": ".py",
   "mimetype": "text/x-python",
   "name": "python",
   "nbconvert_exporter": "python",
   "pygments_lexer": "ipython3",
   "version": "3.7.3"
  }
 },
 "nbformat": 4,
 "nbformat_minor": 2
}
