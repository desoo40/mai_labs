{
 "cells": [
  {
   "cell_type": "code",
   "execution_count": 2,
   "metadata": {},
   "outputs": [],
   "source": [
    "from pandas import read_csv as read\n",
    "import pandas as pd\n",
    "import random\n",
    "\n",
    "import numpy as np\n",
    "import seaborn as sns; sns.set(color_codes=True)\n",
    "import matplotlib.pyplot as plt\n",
    "\n",
    "from sklearn import metrics\n",
    "from sklearn.metrics import make_scorer, accuracy_score, precision_score, recall_score, f1_score\n",
    "from sklearn.metrics import precision_recall_curve\n",
    "from sklearn.metrics import auc\n",
    "from sklearn.metrics import average_precision_score\n",
    "\n",
    "from plot import pltPRcurve, pltROCcurve"
   ]
  },
  {
   "cell_type": "code",
   "execution_count": 3,
   "metadata": {},
   "outputs": [],
   "source": [
    "def plot_corr():\n",
    "    correlation_matrix = data.corr()\n",
    "    plt.figure(figsize=(10,8))\n",
    "    ax = sns.heatmap(correlation_matrix, vmax=1, square=True, annot=True,fmt='.2f', cmap ='GnBu', cbar_kws={\"shrink\": .5}, robust=True)\n",
    "    plt.title('Correlation matrix between the features', fontsize=20)\n",
    "    plt.savefig(\"cor.png\")\n",
    "    plt.show()"
   ]
  },
  {
   "cell_type": "code",
   "execution_count": 4,
   "metadata": {},
   "outputs": [],
   "source": [
    "def modExec():\n",
    "    model.fit(X_train, y_train)\n",
    "    expected = y_test\n",
    "    predicted = model.predict(X_test)\n",
    "\n",
    "    pobas = model.predict_proba(X_test)\n",
    "    preds = pobas[:, 1]\n",
    "\n",
    "    report = metrics.classification_report(expected, predicted)\n",
    "    conf_matrix = metrics.confusion_matrix(expected, predicted)\n",
    "\n",
    "    print(type(model).__name__)\n",
    "    print(f\"Acc: {accuracy_score(expected, predicted)}\")\n",
    "    print(f\"Pre: {precision_score(expected, predicted)}\")\n",
    "    print(f\"Re: {recall_score(expected, predicted)}\")\n",
    "    print(f\"F1: {f1_score(expected, predicted)}\")\n",
    "    \n",
    "    print(conf_matrix)"
   ]
  },
  {
   "cell_type": "code",
   "execution_count": 5,
   "metadata": {},
   "outputs": [],
   "source": [
    "path = \"filtData500k.csv\"\n",
    "data = read(path, delimiter=\",\")"
   ]
  },
  {
   "cell_type": "code",
   "execution_count": 6,
   "metadata": {},
   "outputs": [],
   "source": [
    "data.drop('isFlaggedFraud', axis=1, inplace=True)\n",
    "data.drop('nameOrig', axis=1, inplace=True)\n",
    "data.drop('nameDest', axis=1, inplace=True)\n",
    "\n",
    "from sklearn.preprocessing import LabelEncoder\n",
    "\n",
    "le = LabelEncoder()\n",
    "data['type'] = le.fit_transform(data['type'])"
   ]
  },
  {
   "cell_type": "code",
   "execution_count": 7,
   "metadata": {},
   "outputs": [],
   "source": [
    "X = data.loc[:, data.columns != 'isFraud'].values\n",
    "y = data.loc[:, 'isFraud'].values\n",
    "\n",
    "y=y.astype('int') # не совсем понял, почему https://stackoverflow.com/questions/45346550/valueerror-unknown-label-type-unknown\n",
    "\n",
    "from sklearn.model_selection import train_test_split as train\n",
    "\n",
    "X_train, X_test, y_train, y_test = train(X, y, shuffle=False)"
   ]
  },
  {
   "cell_type": "code",
   "execution_count": 8,
   "metadata": {},
   "outputs": [
    {
     "name": "stdout",
     "output_type": "stream",
     "text": [
      "GaussianNB\n",
      "Acc: 0.964697212709697\n",
      "Pre: 0.595460614152203\n",
      "Re: 0.20468104635153742\n",
      "F1: 0.3046448087431694\n",
      "[[110381    606]\n",
      " [  3466    892]]\n",
      "KNeighborsClassifier\n",
      "Acc: 0.9908188478044129\n",
      "Pre: 0.9545329291815927\n",
      "Re: 0.7948600275355667\n",
      "F1: 0.8674095405033178\n",
      "[[110822    165]\n",
      " [   894   3464]]\n",
      "RandomForestClassifier\n",
      "Acc: 0.992838874680307\n",
      "Pre: 0.9960674157303371\n",
      "Re: 0.8136759981642956\n",
      "F1: 0.8956807274564285\n",
      "[[110973     14]\n",
      " [   812   3546]]\n"
     ]
    }
   ],
   "source": [
    "from sklearn.naive_bayes import GaussianNB\n",
    "\n",
    "model = GaussianNB()\n",
    "modExec()\n",
    "\n",
    "from sklearn.neighbors import KNeighborsClassifier\n",
    "\n",
    "model = KNeighborsClassifier(n_neighbors=3)\n",
    "modExec()\n",
    "\n",
    "from sklearn.ensemble import RandomForestClassifier\n",
    "\n",
    "model = RandomForestClassifier(n_estimators=110, n_jobs=-1)\n",
    "modExec()"
   ]
  },
  {
   "cell_type": "code",
   "execution_count": null,
   "metadata": {},
   "outputs": [],
   "source": [
    "plot_corr()"
   ]
  },
  {
   "cell_type": "code",
   "execution_count": null,
   "metadata": {},
   "outputs": [],
   "source": [
    "data.head()"
   ]
  },
  {
   "cell_type": "code",
   "execution_count": null,
   "metadata": {},
   "outputs": [],
   "source": [
    "data.drop('newbalanceOrig', axis=1, inplace=True)\n",
    "data.drop('newbalanceDest', axis=1, inplace=True)\n",
    "data.drop('oldbalanceDest', axis=1, inplace=True)\n",
    "\n",
    "\n",
    "plot_corr()"
   ]
  },
  {
   "cell_type": "code",
   "execution_count": null,
   "metadata": {},
   "outputs": [],
   "source": [
    "path = \"newFilt500k.csv\"\n",
    "data = read(path, delimiter=\",\")\n",
    "data.drop('isFlaggedFraud', axis=1, inplace=True)\n",
    "data.drop('nameOrig', axis=1, inplace=True)\n",
    "data.drop('nameDest', axis=1, inplace=True)\n",
    "data.drop('newbalanceOrig', axis=1, inplace=True)\n",
    "data.drop('newbalanceDest', axis=1, inplace=True)\n",
    "data.drop('oldbalanceDest', axis=1, inplace=True)"
   ]
  },
  {
   "cell_type": "code",
   "execution_count": null,
   "metadata": {},
   "outputs": [],
   "source": [
    "data.head()"
   ]
  },
  {
   "cell_type": "code",
   "execution_count": null,
   "metadata": {},
   "outputs": [],
   "source": [
    "plot_corr()"
   ]
  },
  {
   "cell_type": "code",
   "execution_count": null,
   "metadata": {},
   "outputs": [],
   "source": [
    "from sklearn.preprocessing import LabelEncoder\n",
    "\n",
    "le = LabelEncoder()\n",
    "data['type'] = le.fit_transform(data['type'])\n",
    "\n",
    "X = data.loc[:, data.columns != 'isFraud'].values\n",
    "y = data.loc[:, 'isFraud'].values\n",
    "\n",
    "y=y.astype('int') # не совсем понял, почему https://stackoverflow.com/questions/45346550/valueerror-unknown-label-type-unknown\n",
    "\n",
    "from sklearn.model_selection import train_test_split as train\n",
    "\n",
    "X_train, X_test, y_train, y_test = train(X, y, shuffle=False)"
   ]
  },
  {
   "cell_type": "code",
   "execution_count": null,
   "metadata": {},
   "outputs": [],
   "source": [
    "from sklearn.feature_selection import RFE\n",
    "\n",
    "# feature extraction\n",
    "\n",
    "model = GaussianNB()\n",
    "\n",
    "rfe = RFE(model, 5)\n",
    "\n",
    "fit = rfe.fit(X, y)\n",
    "\n",
    "print(fit.support_)\n",
    "print(fit.ranking_)"
   ]
  },
  {
   "cell_type": "code",
   "execution_count": null,
   "metadata": {},
   "outputs": [],
   "source": [
    "from sklearn.feature_selection import RFE\n",
    "\n",
    "# feature extraction\n",
    "\n",
    "model = KNeighborsClassifier(n_neighbors=3)\n",
    "\n",
    "rfe = RFE(model, 5)\n",
    "\n",
    "fit = rfe.fit(X, y)\n",
    "\n",
    "print(fit.support_)\n",
    "print(fit.ranking_)"
   ]
  },
  {
   "cell_type": "code",
   "execution_count": null,
   "metadata": {},
   "outputs": [],
   "source": [
    "from sklearn.feature_selection import RFE\n",
    "\n",
    "# feature extraction\n",
    "\n",
    "model = RandomForestClassifier(n_estimators=110, n_jobs=-1)\n",
    "\n",
    "rfe = RFE(model, 5)\n",
    "\n",
    "fit = rfe.fit(X, y)\n",
    "\n",
    "print(fit.support_)\n",
    "print(fit.ranking_)"
   ]
  },
  {
   "cell_type": "code",
   "execution_count": null,
   "metadata": {},
   "outputs": [],
   "source": [
    "model.fit(X_train, y_train)\n",
    "print(model.feature_importances_)"
   ]
  },
  {
   "cell_type": "code",
   "execution_count": null,
   "metadata": {},
   "outputs": [],
   "source": [
    "l = model.feature_importances_.tolist()\n",
    "print(l)\n",
    "l.sort()\n",
    "\n"
   ]
  },
  {
   "cell_type": "code",
   "execution_count": null,
   "metadata": {},
   "outputs": [],
   "source": [
    "data.head()"
   ]
  },
  {
   "cell_type": "code",
   "execution_count": null,
   "metadata": {},
   "outputs": [],
   "source": [
    "data.drop('newSender', axis=1, inplace=True)\n",
    "data.drop('fraudsEarly', axis=1, inplace=True)\n",
    "data.drop('LTS', axis=1, inplace=True)\n",
    "data.drop('newReceiver', axis=1, inplace=True)\n",
    "data.head()"
   ]
  },
  {
   "cell_type": "code",
   "execution_count": null,
   "metadata": {},
   "outputs": [],
   "source": [
    "\n",
    "model = GaussianNB()\n",
    "modExec()\n",
    "\n",
    "\n",
    "model = KNeighborsClassifier(n_neighbors=3)\n",
    "modExec()\n",
    "\n",
    "\n",
    "model = RandomForestClassifier(n_estimators=110, n_jobs=-1)\n",
    "modExec()"
   ]
  },
  {
   "cell_type": "code",
   "execution_count": null,
   "metadata": {},
   "outputs": [],
   "source": [
    "data.drop('merchant', axis=1, inplace=True)\n",
    "data.drop('LTR', axis=1, inplace=True)\n",
    "\n",
    "data.head()"
   ]
  },
  {
   "cell_type": "code",
   "execution_count": null,
   "metadata": {},
   "outputs": [],
   "source": [
    "data.drop('step', axis=1, inplace=True)\n",
    "data.head()"
   ]
  },
  {
   "cell_type": "code",
   "execution_count": null,
   "metadata": {},
   "outputs": [],
   "source": [
    "model = GaussianNB()\n",
    "modExec()\n",
    "\n",
    "\n",
    "model = KNeighborsClassifier(n_neighbors=3)\n",
    "modExec()\n",
    "\n",
    "\n",
    "model = RandomForestClassifier(n_estimators=110, n_jobs=-1)\n",
    "modExec()"
   ]
  },
  {
   "cell_type": "code",
   "execution_count": null,
   "metadata": {},
   "outputs": [],
   "source": [
    "data.drop('hour', axis=1, inplace=True)\n",
    "data.head()"
   ]
  },
  {
   "cell_type": "code",
   "execution_count": null,
   "metadata": {},
   "outputs": [],
   "source": [
    "model = GaussianNB()\n",
    "modExec()\n",
    "\n",
    "\n",
    "model = KNeighborsClassifier(n_neighbors=3)\n",
    "modExec()\n",
    "\n",
    "\n",
    "model = RandomForestClassifier(n_estimators=110, n_jobs=-1)\n",
    "modExec()"
   ]
  },
  {
   "cell_type": "code",
   "execution_count": 9,
   "metadata": {},
   "outputs": [
    {
     "name": "stdout",
     "output_type": "stream",
     "text": [
      "GaussianNB\n",
      "Acc: 0.9634661233690234\n",
      "Pre: 0.547682119205298\n",
      "Re: 0.18976594768242314\n",
      "F1: 0.28186775732788\n",
      "[[110304    683]\n",
      " [  3531    827]]\n",
      "KNeighborsClassifier\n",
      "Acc: 0.9967575534266765\n",
      "Pre: 0.9556267154620312\n",
      "Re: 0.9586966498393759\n",
      "F1: 0.9571592210767469\n",
      "[[110793    194]\n",
      " [   180   4178]]\n",
      "RandomForestClassifier\n",
      "Acc: 0.9962460444752699\n",
      "Pre: 0.9854068760821172\n",
      "Re: 0.914180816888481\n",
      "F1: 0.9484585168432329\n",
      "[[110928     59]\n",
      " [   374   3984]]\n"
     ]
    },
    {
     "data": {
      "text/html": [
       "<div>\n",
       "<style scoped>\n",
       "    .dataframe tbody tr th:only-of-type {\n",
       "        vertical-align: middle;\n",
       "    }\n",
       "\n",
       "    .dataframe tbody tr th {\n",
       "        vertical-align: top;\n",
       "    }\n",
       "\n",
       "    .dataframe thead th {\n",
       "        text-align: right;\n",
       "    }\n",
       "</style>\n",
       "<table border=\"1\" class=\"dataframe\">\n",
       "  <thead>\n",
       "    <tr style=\"text-align: right;\">\n",
       "      <th></th>\n",
       "      <th>type</th>\n",
       "      <th>amount</th>\n",
       "      <th>oldbalanceOrg</th>\n",
       "      <th>isFraud</th>\n",
       "      <th>hour</th>\n",
       "      <th>IZoB</th>\n",
       "    </tr>\n",
       "  </thead>\n",
       "  <tbody>\n",
       "    <tr>\n",
       "      <th>0</th>\n",
       "      <td>4</td>\n",
       "      <td>181.00</td>\n",
       "      <td>181.0</td>\n",
       "      <td>1</td>\n",
       "      <td>1</td>\n",
       "      <td>1</td>\n",
       "    </tr>\n",
       "    <tr>\n",
       "      <th>1</th>\n",
       "      <td>1</td>\n",
       "      <td>181.00</td>\n",
       "      <td>181.0</td>\n",
       "      <td>1</td>\n",
       "      <td>1</td>\n",
       "      <td>1</td>\n",
       "    </tr>\n",
       "    <tr>\n",
       "      <th>2</th>\n",
       "      <td>3</td>\n",
       "      <td>7107.77</td>\n",
       "      <td>183195.0</td>\n",
       "      <td>0</td>\n",
       "      <td>1</td>\n",
       "      <td>0</td>\n",
       "    </tr>\n",
       "    <tr>\n",
       "      <th>3</th>\n",
       "      <td>3</td>\n",
       "      <td>671.64</td>\n",
       "      <td>15123.0</td>\n",
       "      <td>0</td>\n",
       "      <td>1</td>\n",
       "      <td>0</td>\n",
       "    </tr>\n",
       "    <tr>\n",
       "      <th>4</th>\n",
       "      <td>3</td>\n",
       "      <td>1373.43</td>\n",
       "      <td>13854.0</td>\n",
       "      <td>0</td>\n",
       "      <td>1</td>\n",
       "      <td>0</td>\n",
       "    </tr>\n",
       "  </tbody>\n",
       "</table>\n",
       "</div>"
      ],
      "text/plain": [
       "   type   amount  oldbalanceOrg  isFraud  hour  IZoB\n",
       "0     4   181.00          181.0        1     1     1\n",
       "1     1   181.00          181.0        1     1     1\n",
       "2     3  7107.77       183195.0        0     1     0\n",
       "3     3   671.64        15123.0        0     1     0\n",
       "4     3  1373.43        13854.0        0     1     0"
      ]
     },
     "execution_count": 9,
     "metadata": {},
     "output_type": "execute_result"
    }
   ],
   "source": [
    "path = \"newFilt500k.csv\"\n",
    "data = read(path, delimiter=\",\")\n",
    "data.drop('isFlaggedFraud', axis=1, inplace=True)\n",
    "data.drop('nameOrig', axis=1, inplace=True)\n",
    "data.drop('nameDest', axis=1, inplace=True)\n",
    "data.drop('newbalanceOrig', axis=1, inplace=True)\n",
    "data.drop('newbalanceDest', axis=1, inplace=True)\n",
    "data.drop('newSender', axis=1, inplace=True)\n",
    "data.drop('fraudsEarly', axis=1, inplace=True)\n",
    "data.drop('LTS', axis=1, inplace=True)\n",
    "data.drop('newReceiver', axis=1, inplace=True)\n",
    "data.drop('step', axis=1, inplace=True)\n",
    "data.drop('merchant', axis=1, inplace=True)\n",
    "data.drop('LTR', axis=1, inplace=True)\n",
    "data.drop('oldbalanceDest', axis=1, inplace=True)\n",
    "\n",
    "\n",
    "data.head()\n",
    "\n",
    "from sklearn.preprocessing import LabelEncoder\n",
    "\n",
    "le = LabelEncoder()\n",
    "data['type'] = le.fit_transform(data['type'])\n",
    "\n",
    "X = data.loc[:, data.columns != 'isFraud'].values\n",
    "y = data.loc[:, 'isFraud'].values\n",
    "\n",
    "y=y.astype('int') # не совсем понял, почему https://stackoverflow.com/questions/45346550/valueerror-unknown-label-type-unknown\n",
    "\n",
    "from sklearn.model_selection import train_test_split as train\n",
    "\n",
    "X_train, X_test, y_train, y_test = train(X, y, shuffle=False)\n",
    "\n",
    "from sklearn import preprocessing\n",
    "# normalize the data attributes\n",
    "normalized_X = preprocessing.normalize(X)\n",
    "# standardize the data attributes\n",
    "standardized_X = preprocessing.scale(X)\n",
    "\n",
    "model = GaussianNB()\n",
    "modExec()\n",
    "\n",
    "\n",
    "model = KNeighborsClassifier(n_neighbors=3)\n",
    "modExec()\n",
    "\n",
    "\n",
    "model = RandomForestClassifier(n_estimators=110, n_jobs=-1)\n",
    "modExec()\n",
    "data.head()"
   ]
  },
  {
   "cell_type": "code",
   "execution_count": null,
   "metadata": {},
   "outputs": [],
   "source": [
    "import random\n",
    "\n",
    "models = []\n",
    "models.append(RandomForestClassifier(n_estimators=110, n_jobs=-1))\n",
    "models.append(KNeighborsClassifier(n_neighbors=3))\n",
    "models.append(GaussianNB())\n",
    "\n",
    "for model in models:\n",
    "    \n",
    "    model.fit(X_train, y_train)\n",
    "    expected = y_test\n",
    "    predicted = model.predict(X_test)\n",
    "    \n",
    "    pobas = model.predict_proba(X_test)\n",
    "    preds = pobas[:, 1]\n",
    "    \n",
    "    name = type(model).__name__\n",
    "    \n",
    "    precision, recall, thresholds = precision_recall_curve(expected, preds)\n",
    "    # calculate F1 score\n",
    "    f1 = f1_score(expected, predicted)\n",
    "    # calculate precision-recall AUC\n",
    "    au = auc(recall, precision)\n",
    "    # calculate average precision score\n",
    "    ap = average_precision_score(expected, preds)\n",
    "    s = 'f1=%.3f auc=%.3f' % (f1, au)\n",
    "    print(s)\n",
    "    # plot the precision-recall curve for the model\n",
    "    plt.title(\"Precision-recall curve\")\n",
    "\n",
    "    plt.plot(recall, precision, 'b', label=f'PR {name}\\n{s}',  color=(random.uniform(0,1), random.uniform(0, 1), random.uniform(0, 1)))\n",
    "    plt.legend(loc = 'lower left')\n",
    "\n",
    "    plt.xlabel('Recall')\n",
    "    plt.ylabel('Precision')\n",
    "\n",
    "\n",
    "plt.savefig(\"PR.png\")"
   ]
  },
  {
   "cell_type": "code",
   "execution_count": 11,
   "metadata": {},
   "outputs": [
    {
     "name": "stdout",
     "output_type": "stream",
     "text": [
      "GaussianNB\n",
      "Acc: 0.9615414625688153\n",
      "Pre: 0.1953125\n",
      "Re: 0.005736576411197797\n",
      "F1: 0.011145786892554615\n",
      "[[110884    103]\n",
      " [  4333     25]]\n",
      "KNeighborsClassifier\n",
      "Acc: 0.9989596428106984\n",
      "Pre: 0.9976514795678723\n",
      "Re: 0.9747590637907297\n",
      "F1: 0.9860724233983287\n",
      "[[110977     10]\n",
      " [   110   4248]]\n",
      "RandomForestClassifier\n",
      "Acc: 0.9998005982053838\n",
      "Pre: 0.9997694258704174\n",
      "Re: 0.9949518127581459\n",
      "F1: 0.9973548016101208\n",
      "[[110986      1]\n",
      " [    22   4336]]\n"
     ]
    },
    {
     "data": {
      "text/html": [
       "<div>\n",
       "<style scoped>\n",
       "    .dataframe tbody tr th:only-of-type {\n",
       "        vertical-align: middle;\n",
       "    }\n",
       "\n",
       "    .dataframe tbody tr th {\n",
       "        vertical-align: top;\n",
       "    }\n",
       "\n",
       "    .dataframe thead th {\n",
       "        text-align: right;\n",
       "    }\n",
       "</style>\n",
       "<table border=\"1\" class=\"dataframe\">\n",
       "  <thead>\n",
       "    <tr style=\"text-align: right;\">\n",
       "      <th></th>\n",
       "      <th>type</th>\n",
       "      <th>amount</th>\n",
       "      <th>oldbalanceOrg</th>\n",
       "      <th>isFraud</th>\n",
       "      <th>hour</th>\n",
       "      <th>IZoB</th>\n",
       "    </tr>\n",
       "  </thead>\n",
       "  <tbody>\n",
       "    <tr>\n",
       "      <th>0</th>\n",
       "      <td>4</td>\n",
       "      <td>181.00</td>\n",
       "      <td>181.0</td>\n",
       "      <td>1</td>\n",
       "      <td>1</td>\n",
       "      <td>1</td>\n",
       "    </tr>\n",
       "    <tr>\n",
       "      <th>1</th>\n",
       "      <td>1</td>\n",
       "      <td>181.00</td>\n",
       "      <td>181.0</td>\n",
       "      <td>1</td>\n",
       "      <td>1</td>\n",
       "      <td>1</td>\n",
       "    </tr>\n",
       "    <tr>\n",
       "      <th>2</th>\n",
       "      <td>3</td>\n",
       "      <td>7107.77</td>\n",
       "      <td>183195.0</td>\n",
       "      <td>0</td>\n",
       "      <td>1</td>\n",
       "      <td>0</td>\n",
       "    </tr>\n",
       "    <tr>\n",
       "      <th>3</th>\n",
       "      <td>3</td>\n",
       "      <td>671.64</td>\n",
       "      <td>15123.0</td>\n",
       "      <td>0</td>\n",
       "      <td>1</td>\n",
       "      <td>0</td>\n",
       "    </tr>\n",
       "    <tr>\n",
       "      <th>4</th>\n",
       "      <td>3</td>\n",
       "      <td>1373.43</td>\n",
       "      <td>13854.0</td>\n",
       "      <td>0</td>\n",
       "      <td>1</td>\n",
       "      <td>0</td>\n",
       "    </tr>\n",
       "  </tbody>\n",
       "</table>\n",
       "</div>"
      ],
      "text/plain": [
       "   type   amount  oldbalanceOrg  isFraud  hour  IZoB\n",
       "0     4   181.00          181.0        1     1     1\n",
       "1     1   181.00          181.0        1     1     1\n",
       "2     3  7107.77       183195.0        0     1     0\n",
       "3     3   671.64        15123.0        0     1     0\n",
       "4     3  1373.43        13854.0        0     1     0"
      ]
     },
     "execution_count": 11,
     "metadata": {},
     "output_type": "execute_result"
    }
   ],
   "source": [
    "X = normalized_X\n",
    "X_train, X_test, y_train, y_test = train(X, y, shuffle=False)\n",
    "\n",
    "model = GaussianNB()\n",
    "modExec()\n",
    "\n",
    "\n",
    "model = KNeighborsClassifier(n_neighbors=3)\n",
    "modExec()\n",
    "\n",
    "\n",
    "model = RandomForestClassifier(n_estimators=110, n_jobs=-1)\n",
    "modExec()\n",
    "data.head()"
   ]
  },
  {
   "cell_type": "code",
   "execution_count": 12,
   "metadata": {},
   "outputs": [
    {
     "name": "stdout",
     "output_type": "stream",
     "text": [
      "GaussianNB\n",
      "Acc: 0.9601976678659673\n",
      "Pre: 0.4589644240929905\n",
      "Re: 0.2989903625516292\n",
      "F1: 0.3620953174934\n",
      "[[109451   1536]\n",
      " [  3055   1303]]\n",
      "KNeighborsClassifier\n",
      "Acc: 0.9910702674584941\n",
      "Pre: 0.956140350877193\n",
      "Re: 0.8003671408903167\n",
      "F1: 0.8713464901324007\n",
      "[[110827    160]\n",
      " [   870   3488]]\n",
      "RandomForestClassifier\n",
      "Acc: 0.9962026962590489\n",
      "Pre: 0.9861111111111112\n",
      "Re: 0.9123451124368976\n",
      "F1: 0.9477949940405244\n",
      "[[110931     56]\n",
      " [   382   3976]]\n"
     ]
    },
    {
     "data": {
      "text/html": [
       "<div>\n",
       "<style scoped>\n",
       "    .dataframe tbody tr th:only-of-type {\n",
       "        vertical-align: middle;\n",
       "    }\n",
       "\n",
       "    .dataframe tbody tr th {\n",
       "        vertical-align: top;\n",
       "    }\n",
       "\n",
       "    .dataframe thead th {\n",
       "        text-align: right;\n",
       "    }\n",
       "</style>\n",
       "<table border=\"1\" class=\"dataframe\">\n",
       "  <thead>\n",
       "    <tr style=\"text-align: right;\">\n",
       "      <th></th>\n",
       "      <th>type</th>\n",
       "      <th>amount</th>\n",
       "      <th>oldbalanceOrg</th>\n",
       "      <th>isFraud</th>\n",
       "      <th>hour</th>\n",
       "      <th>IZoB</th>\n",
       "    </tr>\n",
       "  </thead>\n",
       "  <tbody>\n",
       "    <tr>\n",
       "      <th>0</th>\n",
       "      <td>4</td>\n",
       "      <td>181.00</td>\n",
       "      <td>181.0</td>\n",
       "      <td>1</td>\n",
       "      <td>1</td>\n",
       "      <td>1</td>\n",
       "    </tr>\n",
       "    <tr>\n",
       "      <th>1</th>\n",
       "      <td>1</td>\n",
       "      <td>181.00</td>\n",
       "      <td>181.0</td>\n",
       "      <td>1</td>\n",
       "      <td>1</td>\n",
       "      <td>1</td>\n",
       "    </tr>\n",
       "    <tr>\n",
       "      <th>2</th>\n",
       "      <td>3</td>\n",
       "      <td>7107.77</td>\n",
       "      <td>183195.0</td>\n",
       "      <td>0</td>\n",
       "      <td>1</td>\n",
       "      <td>0</td>\n",
       "    </tr>\n",
       "    <tr>\n",
       "      <th>3</th>\n",
       "      <td>3</td>\n",
       "      <td>671.64</td>\n",
       "      <td>15123.0</td>\n",
       "      <td>0</td>\n",
       "      <td>1</td>\n",
       "      <td>0</td>\n",
       "    </tr>\n",
       "    <tr>\n",
       "      <th>4</th>\n",
       "      <td>3</td>\n",
       "      <td>1373.43</td>\n",
       "      <td>13854.0</td>\n",
       "      <td>0</td>\n",
       "      <td>1</td>\n",
       "      <td>0</td>\n",
       "    </tr>\n",
       "  </tbody>\n",
       "</table>\n",
       "</div>"
      ],
      "text/plain": [
       "   type   amount  oldbalanceOrg  isFraud  hour  IZoB\n",
       "0     4   181.00          181.0        1     1     1\n",
       "1     1   181.00          181.0        1     1     1\n",
       "2     3  7107.77       183195.0        0     1     0\n",
       "3     3   671.64        15123.0        0     1     0\n",
       "4     3  1373.43        13854.0        0     1     0"
      ]
     },
     "execution_count": 12,
     "metadata": {},
     "output_type": "execute_result"
    }
   ],
   "source": [
    "X = standardized_X\n",
    "X_train, X_test, y_train, y_test = train(X, y, shuffle=False)\n",
    "\n",
    "model = GaussianNB()\n",
    "modExec()\n",
    "\n",
    "\n",
    "model = KNeighborsClassifier(n_neighbors=3)\n",
    "modExec()\n",
    "\n",
    "\n",
    "model = RandomForestClassifier(n_estimators=110, n_jobs=-1)\n",
    "modExec()\n",
    "data.head()"
   ]
  },
  {
   "cell_type": "code",
   "execution_count": 55,
   "metadata": {},
   "outputs": [],
   "source": [
    "path = \"newFilt500k.csv\"\n",
    "data = read(path, delimiter=\",\")\n",
    "data.drop('isFlaggedFraud', axis=1, inplace=True)\n",
    "data.drop('nameOrig', axis=1, inplace=True)\n",
    "data.drop('nameDest', axis=1, inplace=True)\n",
    "data.drop('newbalanceOrig', axis=1, inplace=True)\n",
    "data.drop('newbalanceDest', axis=1, inplace=True)\n",
    "data.drop('newSender', axis=1, inplace=True)\n",
    "data.drop('fraudsEarly', axis=1, inplace=True)\n",
    "data.drop('LTS', axis=1, inplace=True)\n",
    "data.drop('newReceiver', axis=1, inplace=True)\n",
    "data.drop('step', axis=1, inplace=True)\n",
    "data.drop('merchant', axis=1, inplace=True)\n",
    "data.drop('LTR', axis=1, inplace=True)\n",
    "data.drop('oldbalanceDest', axis=1, inplace=True)"
   ]
  },
  {
   "cell_type": "code",
   "execution_count": 56,
   "metadata": {
    "scrolled": true
   },
   "outputs": [
    {
     "data": {
      "text/plain": [
       "438304.595"
      ]
     },
     "execution_count": 56,
     "metadata": {},
     "output_type": "execute_result"
    }
   ],
   "source": [
    "data['amountToOld'] = data['amount'] / data['oldbalanceOrg']\n",
    "\n",
    "data.loc[data.amountToOld > 1000000000, 'amountToOld'] = -1\n",
    "data.fillna(-1)\n",
    "data.drop('amount', axis=1, inplace=True)\n",
    "data.drop('oldbalanceOrg', axis=1, inplace=True)\n",
    "data['amountToOld'].max()"
   ]
  },
  {
   "cell_type": "code",
   "execution_count": 57,
   "metadata": {},
   "outputs": [
    {
     "ename": "ValueError",
     "evalue": "Input contains NaN, infinity or a value too large for dtype('float64').",
     "output_type": "error",
     "traceback": [
      "\u001b[1;31m---------------------------------------------------------------------------\u001b[0m",
      "\u001b[1;31mValueError\u001b[0m                                Traceback (most recent call last)",
      "\u001b[1;32m<ipython-input-57-1cb493ebbad0>\u001b[0m in \u001b[0;36m<module>\u001b[1;34m\u001b[0m\n\u001b[0;32m     12\u001b[0m \u001b[1;33m\u001b[0m\u001b[0m\n\u001b[0;32m     13\u001b[0m \u001b[0mmodel\u001b[0m \u001b[1;33m=\u001b[0m \u001b[0mGaussianNB\u001b[0m\u001b[1;33m(\u001b[0m\u001b[1;33m)\u001b[0m\u001b[1;33m\u001b[0m\u001b[0m\n\u001b[1;32m---> 14\u001b[1;33m \u001b[0mmodExec\u001b[0m\u001b[1;33m(\u001b[0m\u001b[1;33m)\u001b[0m\u001b[1;33m\u001b[0m\u001b[0m\n\u001b[0m\u001b[0;32m     15\u001b[0m \u001b[1;33m\u001b[0m\u001b[0m\n\u001b[0;32m     16\u001b[0m \u001b[1;33m\u001b[0m\u001b[0m\n",
      "\u001b[1;32m<ipython-input-4-2d12f007e729>\u001b[0m in \u001b[0;36mmodExec\u001b[1;34m()\u001b[0m\n\u001b[0;32m      1\u001b[0m \u001b[1;32mdef\u001b[0m \u001b[0mmodExec\u001b[0m\u001b[1;33m(\u001b[0m\u001b[1;33m)\u001b[0m\u001b[1;33m:\u001b[0m\u001b[1;33m\u001b[0m\u001b[0m\n\u001b[1;32m----> 2\u001b[1;33m     \u001b[0mmodel\u001b[0m\u001b[1;33m.\u001b[0m\u001b[0mfit\u001b[0m\u001b[1;33m(\u001b[0m\u001b[0mX_train\u001b[0m\u001b[1;33m,\u001b[0m \u001b[0my_train\u001b[0m\u001b[1;33m)\u001b[0m\u001b[1;33m\u001b[0m\u001b[0m\n\u001b[0m\u001b[0;32m      3\u001b[0m     \u001b[0mexpected\u001b[0m \u001b[1;33m=\u001b[0m \u001b[0my_test\u001b[0m\u001b[1;33m\u001b[0m\u001b[0m\n\u001b[0;32m      4\u001b[0m     \u001b[0mpredicted\u001b[0m \u001b[1;33m=\u001b[0m \u001b[0mmodel\u001b[0m\u001b[1;33m.\u001b[0m\u001b[0mpredict\u001b[0m\u001b[1;33m(\u001b[0m\u001b[0mX_test\u001b[0m\u001b[1;33m)\u001b[0m\u001b[1;33m\u001b[0m\u001b[0m\n\u001b[0;32m      5\u001b[0m \u001b[1;33m\u001b[0m\u001b[0m\n",
      "\u001b[1;32mc:\\program files (x86)\\python36-32\\lib\\site-packages\\sklearn\\naive_bayes.py\u001b[0m in \u001b[0;36mfit\u001b[1;34m(self, X, y, sample_weight)\u001b[0m\n\u001b[0;32m    188\u001b[0m         \u001b[0mself\u001b[0m \u001b[1;33m:\u001b[0m \u001b[0mobject\u001b[0m\u001b[1;33m\u001b[0m\u001b[0m\n\u001b[0;32m    189\u001b[0m         \"\"\"\n\u001b[1;32m--> 190\u001b[1;33m         \u001b[0mX\u001b[0m\u001b[1;33m,\u001b[0m \u001b[0my\u001b[0m \u001b[1;33m=\u001b[0m \u001b[0mcheck_X_y\u001b[0m\u001b[1;33m(\u001b[0m\u001b[0mX\u001b[0m\u001b[1;33m,\u001b[0m \u001b[0my\u001b[0m\u001b[1;33m)\u001b[0m\u001b[1;33m\u001b[0m\u001b[0m\n\u001b[0m\u001b[0;32m    191\u001b[0m         return self._partial_fit(X, y, np.unique(y), _refit=True,\n\u001b[0;32m    192\u001b[0m                                  sample_weight=sample_weight)\n",
      "\u001b[1;32mc:\\program files (x86)\\python36-32\\lib\\site-packages\\sklearn\\utils\\validation.py\u001b[0m in \u001b[0;36mcheck_X_y\u001b[1;34m(X, y, accept_sparse, accept_large_sparse, dtype, order, copy, force_all_finite, ensure_2d, allow_nd, multi_output, ensure_min_samples, ensure_min_features, y_numeric, warn_on_dtype, estimator)\u001b[0m\n\u001b[0;32m    754\u001b[0m                     \u001b[0mensure_min_features\u001b[0m\u001b[1;33m=\u001b[0m\u001b[0mensure_min_features\u001b[0m\u001b[1;33m,\u001b[0m\u001b[1;33m\u001b[0m\u001b[0m\n\u001b[0;32m    755\u001b[0m                     \u001b[0mwarn_on_dtype\u001b[0m\u001b[1;33m=\u001b[0m\u001b[0mwarn_on_dtype\u001b[0m\u001b[1;33m,\u001b[0m\u001b[1;33m\u001b[0m\u001b[0m\n\u001b[1;32m--> 756\u001b[1;33m                     estimator=estimator)\n\u001b[0m\u001b[0;32m    757\u001b[0m     \u001b[1;32mif\u001b[0m \u001b[0mmulti_output\u001b[0m\u001b[1;33m:\u001b[0m\u001b[1;33m\u001b[0m\u001b[0m\n\u001b[0;32m    758\u001b[0m         y = check_array(y, 'csr', force_all_finite=True, ensure_2d=False,\n",
      "\u001b[1;32mc:\\program files (x86)\\python36-32\\lib\\site-packages\\sklearn\\utils\\validation.py\u001b[0m in \u001b[0;36mcheck_array\u001b[1;34m(array, accept_sparse, accept_large_sparse, dtype, order, copy, force_all_finite, ensure_2d, allow_nd, ensure_min_samples, ensure_min_features, warn_on_dtype, estimator)\u001b[0m\n\u001b[0;32m    571\u001b[0m         \u001b[1;32mif\u001b[0m \u001b[0mforce_all_finite\u001b[0m\u001b[1;33m:\u001b[0m\u001b[1;33m\u001b[0m\u001b[0m\n\u001b[0;32m    572\u001b[0m             _assert_all_finite(array,\n\u001b[1;32m--> 573\u001b[1;33m                                allow_nan=force_all_finite == 'allow-nan')\n\u001b[0m\u001b[0;32m    574\u001b[0m \u001b[1;33m\u001b[0m\u001b[0m\n\u001b[0;32m    575\u001b[0m     \u001b[0mshape_repr\u001b[0m \u001b[1;33m=\u001b[0m \u001b[0m_shape_repr\u001b[0m\u001b[1;33m(\u001b[0m\u001b[0marray\u001b[0m\u001b[1;33m.\u001b[0m\u001b[0mshape\u001b[0m\u001b[1;33m)\u001b[0m\u001b[1;33m\u001b[0m\u001b[0m\n",
      "\u001b[1;32mc:\\program files (x86)\\python36-32\\lib\\site-packages\\sklearn\\utils\\validation.py\u001b[0m in \u001b[0;36m_assert_all_finite\u001b[1;34m(X, allow_nan)\u001b[0m\n\u001b[0;32m     54\u001b[0m                 not allow_nan and not np.isfinite(X).all()):\n\u001b[0;32m     55\u001b[0m             \u001b[0mtype_err\u001b[0m \u001b[1;33m=\u001b[0m \u001b[1;34m'infinity'\u001b[0m \u001b[1;32mif\u001b[0m \u001b[0mallow_nan\u001b[0m \u001b[1;32melse\u001b[0m \u001b[1;34m'NaN, infinity'\u001b[0m\u001b[1;33m\u001b[0m\u001b[0m\n\u001b[1;32m---> 56\u001b[1;33m             \u001b[1;32mraise\u001b[0m \u001b[0mValueError\u001b[0m\u001b[1;33m(\u001b[0m\u001b[0mmsg_err\u001b[0m\u001b[1;33m.\u001b[0m\u001b[0mformat\u001b[0m\u001b[1;33m(\u001b[0m\u001b[0mtype_err\u001b[0m\u001b[1;33m,\u001b[0m \u001b[0mX\u001b[0m\u001b[1;33m.\u001b[0m\u001b[0mdtype\u001b[0m\u001b[1;33m)\u001b[0m\u001b[1;33m)\u001b[0m\u001b[1;33m\u001b[0m\u001b[0m\n\u001b[0m\u001b[0;32m     57\u001b[0m \u001b[1;33m\u001b[0m\u001b[0m\n\u001b[0;32m     58\u001b[0m \u001b[1;33m\u001b[0m\u001b[0m\n",
      "\u001b[1;31mValueError\u001b[0m: Input contains NaN, infinity or a value too large for dtype('float64')."
     ]
    }
   ],
   "source": [
    "le = LabelEncoder()\n",
    "data['type'] = le.fit_transform(data['type'])\n",
    "\n",
    "X = data.loc[:, data.columns != 'isFraud'].values\n",
    "y = data.loc[:, 'isFraud'].values\n",
    "\n",
    "y=y.astype('int') # не совсем понял, почему https://stackoverflow.com/questions/45346550/valueerror-unknown-label-type-unknown\n",
    "\n",
    "from sklearn.model_selection import train_test_split as train\n",
    "\n",
    "X_train, X_test, y_train, y_test = train(X, y, shuffle=False)\n",
    "\n",
    "model = GaussianNB()\n",
    "modExec()\n",
    "\n",
    "\n",
    "model = KNeighborsClassifier(n_neighbors=3)\n",
    "modExec()\n",
    "\n",
    "\n",
    "model = RandomForestClassifier(n_estimators=110, n_jobs=-1)\n",
    "modExec()\n",
    "data.head()"
   ]
  }
 ],
 "metadata": {
  "kernelspec": {
   "display_name": "Python 3",
   "language": "python",
   "name": "python3"
  },
  "language_info": {
   "codemirror_mode": {
    "name": "ipython",
    "version": 3
   },
   "file_extension": ".py",
   "mimetype": "text/x-python",
   "name": "python",
   "nbconvert_exporter": "python",
   "pygments_lexer": "ipython3",
   "version": "3.6.3"
  }
 },
 "nbformat": 4,
 "nbformat_minor": 2
}
