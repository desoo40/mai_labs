{
 "cells": [
  {
   "cell_type": "code",
   "execution_count": 1,
   "metadata": {},
   "outputs": [
    {
     "name": "stdout",
     "output_type": "stream",
     "text": [
      "Avg no fraud:  178883.52594637612\n",
      "Avg fraud:  1467967.299140387\n"
     ]
    }
   ],
   "source": [
    "import numpy as np\n",
    "import pandas as pd\n",
    "import seaborn as sns; sns.set(color_codes=True)\n",
    "import matplotlib.pyplot as plt\n",
    "from pandas import read_csv as read\n",
    "\n",
    "path = \"filtData.csv\"\n",
    "data = read(path, delimiter=\",\", usecols=['amount', 'isFraud'])\n",
    "\n",
    "X = data.values\n",
    "\n",
    "sum_no_fraud = 0\n",
    "sum_fraud = 0\n",
    "\n",
    "cnt_no_fraud = 0\n",
    "cnt_fraud = 0\n",
    "\n",
    "fr = []\n",
    "n_fr = []\n",
    "\n",
    "for x in X:\n",
    "    if x[1] == 1:\n",
    "        cnt_fraud += 1\n",
    "        sum_fraud += x[0]\n",
    "        fr.append(x[0])\n",
    "    else:\n",
    "        cnt_no_fraud += 1\n",
    "        sum_no_fraud += x[0]\n",
    "        n_fr.append(x[0])\n",
    "\n",
    "print(\"Avg no fraud: \", sum_no_fraud / cnt_no_fraud)\n",
    "print(\"Avg fraud: \", sum_fraud / cnt_fraud)"
   ]
  },
  {
   "cell_type": "code",
   "execution_count": 20,
   "metadata": {},
   "outputs": [
    {
     "data": {
      "text/plain": [
       "array([[<matplotlib.axes._subplots.AxesSubplot object at 0x05523D50>]],\n",
       "      dtype=object)"
      ]
     },
     "execution_count": 20,
     "metadata": {},
     "output_type": "execute_result"
    },
    {
     "data": {
      "image/png": "[encoded data removed]",
      "text/plain": [
       "<Figure size 432x288 with 1 Axes>"
      ]
     },
     "metadata": {
      "needs_background": "light"
     },
     "output_type": "display_data"
    }
   ],
   "source": [
    "data.hist('amount', range=[1000000, 15000000])"
   ]
  },
  {
   "cell_type": "code",
   "execution_count": null,
   "metadata": {},
   "outputs": [],
   "source": []
  }
 ],
 "metadata": {
  "kernelspec": {
   "display_name": "Python 3",
   "language": "python",
   "name": "python3"
  },
  "language_info": {
   "codemirror_mode": {
    "name": "ipython",
    "version": 3
   },
   "file_extension": ".py",
   "mimetype": "text/x-python",
   "name": "python",
   "nbconvert_exporter": "python",
   "pygments_lexer": "ipython3",
   "version": "3.6.3"
  }
 },
 "nbformat": 4,
 "nbformat_minor": 2
}
