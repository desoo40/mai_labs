{
 "cells": [
  {
   "cell_type": "markdown",
   "metadata": {},
   "source": [
    "<center>\n",
    "\n",
    "# Курс \"Основы Python для анализа данных\"\n",
    "\n",
    "## Артамонов Игорь Михайлович\n",
    "## Факультет \"Прикладная математика\" МАИ\n",
    "\n",
    "### Занятие № 1 \n",
    "\n",
    "</center>\n"
   ]
  },
  {
   "cell_type": "markdown",
   "metadata": {},
   "source": [
    "## Организационные вопросы"
   ]
  },
  {
   "cell_type": "markdown",
   "metadata": {},
   "source": [
    "### Общение / вопросы по курсу\n",
    "\n",
    "Платформа для групповой работы Atlassian Confluence факультета \"Прикладная математика\"\n",
    "\n",
    "https://mai.moscow/display/PYTML "
   ]
  },
  {
   "cell_type": "markdown",
   "metadata": {},
   "source": [
    "### Оценка\n",
    "\n",
    "<b>Используется балльная оценка</b>\n",
    "\n",
    "|Критерий| Максимальное количество баллов|\n",
    "|---|---|\n",
    "|Посещаемость | 15 баллов|\n",
    "|Недельные задания | 15 баллов |\n",
    "|Промежуточные практические работы (<i>коллоквиумы</i>) | 30 баллов |\n",
    "|Мини-исследовательские работы (<i>проекты</i>) | 40 баллов |\n",
    "|Внешние курсы | 40 баллов |\n",
    "|Экзамен | 30 баллов |\n",
    "\n",
    "<b>Конвертация балльнай оценки в итоговую</b>\n",
    "\n",
    "| Сумма баллов | Оценка |\n",
    "|---|---|\n",
    "| 65+ баллов | <b>3</b><br> |\n",
    "| 75+ баллов | <b>4</b><br> |\n",
    "| 85+ баллов | <b>5</b><br> |\n"
   ]
  },
  {
   "cell_type": "markdown",
   "metadata": {},
   "source": [
    "### Как упростить сдачу\n",
    "#### Мини-исследовательские работы и учебные работы\n",
    "* Самостоятельный проект\n",
    "* Kaggle\n",
    "* https://mlcourse.ai/ (бывший mail.ru и ODS - <b>начался 02.09!</b>)\n",
    "* coursera.org\n",
    "    * Яндекс - специализация \"Машинное обучение и анализ данных\"\n",
    "    * coursera - курс \"Machine learning\" Andrew Ng (English)"
   ]
  },
  {
   "cell_type": "markdown",
   "metadata": {},
   "source": [
    "### Важно!\n",
    "\n",
    "Deadline (крайний срок сдачи):\n",
    "  * 23.59 <b>\\<\\></b> 00:00\n",
    "  * считается момент <b>доставки / получения / размещения</b>\n",
    "  * 0<b>+</b> баллов - <b>до</b>\n",
    "  * 0 баллов - <b>после</b>"
   ]
  },
  {
   "cell_type": "markdown",
   "metadata": {},
   "source": [
    "### Предварительные знания"
   ]
  },
  {
   "cell_type": "markdown",
   "metadata": {},
   "source": [
    "* Математический анализ\n",
    "* Линейная алгебра\n",
    "* Теория вероятности и статистика\n",
    "* Методы оптимизации\n",
    "* Программирование"
   ]
  },
  {
   "cell_type": "markdown",
   "metadata": {},
   "source": [
    "# Содержание курса\n",
    "## Курс состоит из 3х модулей\n",
    "###     Модуль 1.  Введение в Python\n",
    "###     Модуль 2.  Анализ данных\n",
    "###     Модуль 3.  Машинное обучение"
   ]
  },
  {
   "cell_type": "markdown",
   "metadata": {},
   "source": [
    "## Модуль 1. Введение в Python и средства разработки"
   ]
  },
  {
   "cell_type": "markdown",
   "metadata": {},
   "source": [
    "* <b>Занятие 1</b>\n",
    "     * Рабочее окружение: Ubuntu, virtualenv, PyCharm, Anaconda\n",
    "     * Работа Jupyter Notebook\n",
    "     * Система контроля версий git\n",
    "     * Сервисы GitHub, BitBucket и \n",
    "     * Kaggle\n",
    "     * Типы данных и операции с ними\n",
    "     * Операторы, условные конструкции, циклы\n",
    "     * Функции, аргументы и сигнатуры"
   ]
  },
  {
   "cell_type": "markdown",
   "metadata": {},
   "source": [
    "* <b>Занятие 2. Основные типы данных. Обработка исключений.</b>\n",
    "     * Последовательности: строка, список, кортеж, множество\n",
    "     * Словарь\n",
    "     * Стеки, очередь, дерево\n",
    "     * Случайные величины\n",
    "     * Исключения и их обработка"
   ]
  },
  {
   "cell_type": "markdown",
   "metadata": {},
   "source": [
    "* <b>Занятие  3. Объекто-ориентированное и функциональное программирование на Python</b>\n",
    "     * Основные положения ООП\n",
    "     * Классы и объекты\n",
    "     * Наследование\n",
    "     * Видимость переменных\n",
    "     * Основные положения ФП\n",
    "     * Итераторы и генераторы\n",
    "     * itertools\n",
    "     * functools\n",
    "     * lambda-функции"
   ]
  },
  {
   "cell_type": "markdown",
   "metadata": {},
   "source": [
    "* <b>Занятие  4. Ввод и вывод. Работа с реляционными базами данных</b>\n",
    "     * Ввод и вывод из файлов\n",
    "     * Форматированный вывод\n",
    "     * Подключение к Oracle\n",
    "     * Отображение запросов на типы Python\n",
    "     * Запросы на получение данных\n",
    "     * Запросы на изменение\n",
    "     * Путь обработки данных с РСУБД и Python"
   ]
  },
  {
   "cell_type": "markdown",
   "metadata": {},
   "source": [
    "* <b>Занятие  5. Numpy</b>\n",
    "     * Многомерные массисы\n",
    "     * Выборка и сечения (slicing)\n",
    "     * Условное индексирование\n",
    "     * Массив-ориентированное программирование\n",
    "     * Ввод и вывод массивов\n",
    "     * Широковещательные операции (broadcasting)\n",
    "     * Линейная алгебра"
   ]
  },
  {
   "cell_type": "markdown",
   "metadata": {},
   "source": [
    "* <b>Коллоквиум № 1</b>\n",
    "    - Общие знания\n",
    "    - Линейная алгебра\n",
    "    - Случайные величины\n",
    "    - numpy\n",
    "    <br><br>"
   ]
  },
  {
   "cell_type": "markdown",
   "metadata": {},
   "source": [
    "## Система контроля версий git"
   ]
  },
  {
   "cell_type": "markdown",
   "metadata": {},
   "source": [
    "<i>«Система управления версиями (от англ. Version Control System, VCS или Revision Control System) — \n",
    "программное обеспечение для облегчения работы с изменяющейся информацией. \n",
    "Система управления версиями позволяет хранить несколько версий одного и того же документа, \n",
    "при необходимости возвращаться к более ранним версиям, определять, кто и когда сделал\n",
    "то или иное изменение, и многое другое.»</i>\n",
    "<p>  (из wikipedia.com)</p>"
   ]
  },
  {
   "cell_type": "markdown",
   "metadata": {},
   "source": [
    "<b>git</b> - это <b>децентрализованная</b> система контроля версий. В них клиенты не просто скачивают снимок всех файлов\n",
    "(состояние файлов на определённый момент времени): они полностью копируют репозиторий. В этом случае, если\n",
    "один из серверов, через который разработчики обменивались данными, умрёт, любой клиентский репозиторий может\n",
    "быть скопирован на другой сервер для продолжения работы. Каждая копия репозитория является полным бэкапом\n",
    "всех данных."
   ]
  },
  {
   "cell_type": "markdown",
   "metadata": {},
   "source": [
    "Клонируем репозиторий:\n",
    "\n",
    "><p><i><b>git clone https://github.com/<< name >>/<< repo_name >>.git</b></i></p>\n",
    "\n",
    "><p><i><b>git add << file >>.py</b></i></p>\n",
    "\n",
    "Зафиксируем внесенные изменения в локальном репозитарии\n",
    "\n",
    "><p><i><b>git commit -m \"<< описание >>\"</b></i></p>\n",
    "\n",
    "Отправляем изменения на сервер в ветку master\n",
    "\n",
    "><p><i><b>git push -u origin master </b></i></p>\n"
   ]
  },
  {
   "cell_type": "markdown",
   "metadata": {},
   "source": [
    "### Веб-сервисы для хостинга IT-проектов и их совместной разработки\n",
    "\n",
    "GitHub\n",
    "* https://github.com\n",
    " \n",
    "BitBucket\n",
    "* https://bitbucket.org"
   ]
  },
  {
   "cell_type": "markdown",
   "metadata": {},
   "source": [
    "### ЗАДАНИЕ\n",
    "\n",
    "* Зарегистрироваться на любом из сервисов хостинга IT-проектов git\n",
    "* Создать свой репозиторий\n",
    "* Загрузить туда файл"
   ]
  },
  {
   "cell_type": "markdown",
   "metadata": {},
   "source": [
    "### Графические оболочки для Git (Windows / MacOS / Linux)"
   ]
  },
  {
   "cell_type": "markdown",
   "metadata": {},
   "source": [
    "SmartGit \n",
    "    <p><href a='https://www.syntevo.com/smartgit/'>https://www.syntevo.com/smartgit/</href></p>\n",
    "  \n",
    "GitEye\n",
    "    <p><href a='https://www.collab.net/downloads/giteye'>https://www.collab.net/downloads/giteye</href></p>\n"
   ]
  },
  {
   "cell_type": "markdown",
   "metadata": {},
   "source": [
    "### Полезные ресурсы\n",
    "\n",
    "<b>Pro Git v.2 by Scott Chacon and Ben Straub на русском</b>\n",
    "\n",
    "https://git-scm.com/book/ru/v2\n",
    "\n",
    "<b>Git How-To</b> - интерактивное введение в Git (English)\n",
    "\n",
    "https://githowto.com"
   ]
  },
  {
   "cell_type": "markdown",
   "metadata": {},
   "source": [
    "### Последовательность работы с данными\n",
    "\n",
    "* Получение \"сырых\" данных (симуляция, эксперимент, сбор)\n",
    "* Препроцессинг (обработка и манипуляция) данными\n",
    "* Визуализация данных в виде, понятном для понимания, отчетов и публикация"
   ]
  },
  {
   "cell_type": "markdown",
   "metadata": {},
   "source": [
    "### Why Python?"
   ]
  },
  {
   "cell_type": "markdown",
   "metadata": {},
   "source": [
    "* Входит в 5 наиболее популярных языков (Tiobe index: Sep 2018 - #3, Sep 2017 - #5)\n",
    "* Низкий порог вхождения\n",
    "* Пологая кривая обучения (Shallow learning curve)\n",
    "* Поддерживает много парадигм (императивный, объектно-ориентированный, функциональный)\n",
    "* Большое количество библиотек (язык, как способ доступа к библиотекам)\n",
    "* Отличное community"
   ]
  },
  {
   "cell_type": "markdown",
   "metadata": {},
   "source": [
    "### Библиотеки, используемые в курсе:\n",
    "\n",
    "* <b>Numpy</b> - базовый пакет для научных вычислений  для Python:\n",
    "    - эффективная работа с векторами, матрицами и тензорами\n",
    "    - \"широковещятельные\" функции выполнения операций (broadcasting)\n",
    "    - средства для интеграции с кодом C/C++ и Fortran\n",
    "    - линейная алгебра, преобразование Фурье, работа со случайными числами\n",
    "\n",
    "* <b>Pandas</b> - ключевой пакте для эффективного анализа анализа данных, построенный на базе аналога DataFrame из языка R. Позволяет быстро, гибко и удобно работать с реляционными и \"помеченными\" данными самой разной природы. В качестве цели его создатели ставят создание наиболее мощного и гибкого средства для анализа и манипуляции данных, независимо от языка программирования.\n",
    "\n",
    "* <b>Scikit-learn</b> - реализация всех наиболее распространенных методов машинного обучения и анализа данных (data mining). Отличительная особенность - отличная документация и множество примеров.\n",
    "\n",
    "* <b>SciPy</b> - высокоуровневая библиотека научных вычислений. Оптимизация, решение дифференциальных уравнений, интегрирование, линейная алгебра, оптимизация, обработка сигналов и изображений, работа с геоданными и статистикой.\n",
    "\n",
    "* <b>matplotlib</b> - библиотека визаулизации данных, в основном двухмерная графика (хотя есть и удобный \"псевдо-3D\"). Широкие возможности по изменению внешнего вида.\n",
    "\n",
    "* <b>seaborn</b> - библиотека визаулизации статистических данных."
   ]
  },
  {
   "cell_type": "markdown",
   "metadata": {},
   "source": [
    "## Делаем virtualenv и запускаем Jupyter notebook"
   ]
  },
  {
   "cell_type": "markdown",
   "metadata": {},
   "source": [
    "`$ conda -V\n",
    "\n",
    "conda update conda\n",
    "\n",
    "conda search \"^python$\"\n",
    "\n",
    "conda create -n yourenvname python=x.x anaconda\n",
    "\n",
    "source activate yourenvname\n",
    "\n",
    "conda install -n yourenvname [package]\n",
    "`"
   ]
  },
  {
   "cell_type": "markdown",
   "metadata": {},
   "source": [
    "### Python как калькулятор"
   ]
  },
  {
   "cell_type": "code",
   "execution_count": 1,
   "metadata": {},
   "outputs": [],
   "source": [
    "%config IPCompleter.greedy=True"
   ]
  },
  {
   "cell_type": "markdown",
   "metadata": {},
   "source": [
    "Python - язык со строгой типизацией\n",
    "Прочитать про окружения"
   ]
  },
  {
   "cell_type": "code",
   "execution_count": 2,
   "metadata": {},
   "outputs": [
    {
     "data": {
      "text/plain": [
       "4"
      ]
     },
     "execution_count": 2,
     "metadata": {},
     "output_type": "execute_result"
    }
   ],
   "source": [
    "2 * 2"
   ]
  },
  {
   "cell_type": "code",
   "execution_count": 3,
   "metadata": {},
   "outputs": [
    {
     "name": "stdout",
     "output_type": "stream",
     "text": [
      "16\n"
     ]
    }
   ],
   "source": [
    "i=2\n",
    "j=4\n",
    "print(i**j)"
   ]
  },
  {
   "cell_type": "code",
   "execution_count": 4,
   "metadata": {},
   "outputs": [
    {
     "data": {
      "text/plain": [
       "(4, 10, 121)"
      ]
     },
     "execution_count": 4,
     "metadata": {},
     "output_type": "execute_result"
    }
   ],
   "source": [
    "2*2, 3+7, 11**2"
   ]
  },
  {
   "cell_type": "code",
   "execution_count": 5,
   "metadata": {},
   "outputs": [],
   "source": [
    "(a, b, c) = 2*2, 3+7, 11**2"
   ]
  },
  {
   "cell_type": "code",
   "execution_count": 6,
   "metadata": {},
   "outputs": [
    {
     "name": "stdout",
     "output_type": "stream",
     "text": [
      "4 10 121\n"
     ]
    }
   ],
   "source": [
    "print(a, b, c)"
   ]
  },
  {
   "cell_type": "code",
   "execution_count": 7,
   "metadata": {},
   "outputs": [
    {
     "ename": "NameError",
     "evalue": "name 'sin' is not defined",
     "output_type": "error",
     "traceback": [
      "\u001b[1;31m---------------------------------------------------------------------------\u001b[0m",
      "\u001b[1;31mNameError\u001b[0m                                 Traceback (most recent call last)",
      "\u001b[1;32m<ipython-input-7-52ee457cd2c9>\u001b[0m in \u001b[0;36m<module>\u001b[1;34m\u001b[0m\n\u001b[1;32m----> 1\u001b[1;33m \u001b[1;36m2\u001b[0m \u001b[1;33m*\u001b[0m \u001b[0msin\u001b[0m\u001b[1;33m(\u001b[0m\u001b[1;36m3.14159\u001b[0m \u001b[1;33m/\u001b[0m \u001b[1;36m2\u001b[0m\u001b[1;33m)\u001b[0m\u001b[1;33m\u001b[0m\u001b[1;33m\u001b[0m\u001b[0m\n\u001b[0m",
      "\u001b[1;31mNameError\u001b[0m: name 'sin' is not defined"
     ]
    }
   ],
   "source": [
    "2 * sin(3.14159 / 2)"
   ]
  },
  {
   "cell_type": "code",
   "execution_count": null,
   "metadata": {},
   "outputs": [],
   "source": [
    "import math"
   ]
  },
  {
   "cell_type": "code",
   "execution_count": null,
   "metadata": {},
   "outputs": [],
   "source": [
    "2 * math.sin(math.pi / 2)"
   ]
  },
  {
   "cell_type": "code",
   "execution_count": null,
   "metadata": {},
   "outputs": [],
   "source": [
    "from math import sin, cos, pi"
   ]
  },
  {
   "cell_type": "code",
   "execution_count": null,
   "metadata": {},
   "outputs": [],
   "source": [
    "2 * sin(pi / 2)"
   ]
  },
  {
   "cell_type": "code",
   "execution_count": null,
   "metadata": {},
   "outputs": [],
   "source": [
    "# определим функцию\n",
    "def pi(n):\n",
    "    return math.pi * n\n",
    "\n",
    "2 * sin(pi(1/2))"
   ]
  },
  {
   "cell_type": "code",
   "execution_count": null,
   "metadata": {},
   "outputs": [],
   "source": [
    "import sympy as sym #дифф, интегралы и проч\n",
    "\n",
    "x = sym.Symbol('x')\n",
    "\n",
    "# 2-я производная sin(2*x)\n",
    "sym.diff(sym.sin(2 * x), x, 2)"
   ]
  },
  {
   "cell_type": "code",
   "execution_count": null,
   "metadata": {},
   "outputs": [],
   "source": [
    "!pip install sympy"
   ]
  },
  {
   "cell_type": "markdown",
   "metadata": {},
   "source": [
    "## Cтрогая динамическая типизация "
   ]
  },
  {
   "cell_type": "code",
   "execution_count": null,
   "metadata": {},
   "outputs": [],
   "source": [
    "i = 2\n",
    "i, type(i)"
   ]
  },
  {
   "cell_type": "code",
   "execution_count": null,
   "metadata": {},
   "outputs": [],
   "source": [
    "s = 'This is a string '\n",
    "j = '4'\n",
    "s, type(s), j, type(j)"
   ]
  },
  {
   "cell_type": "code",
   "execution_count": null,
   "metadata": {},
   "outputs": [],
   "source": [
    "s + j + '!'"
   ]
  },
  {
   "cell_type": "code",
   "execution_count": null,
   "metadata": {},
   "outputs": [],
   "source": [
    "i + j"
   ]
  },
  {
   "cell_type": "code",
   "execution_count": null,
   "metadata": {},
   "outputs": [],
   "source": [
    "i + int(j)float()"
   ]
  },
  {
   "cell_type": "code",
   "execution_count": null,
   "metadata": {},
   "outputs": [],
   "source": [
    "s + i"
   ]
  },
  {
   "cell_type": "code",
   "execution_count": null,
   "metadata": {},
   "outputs": [],
   "source": [
    "s + str(i)"
   ]
  },
  {
   "cell_type": "code",
   "execution_count": null,
   "metadata": {},
   "outputs": [],
   "source": [
    "float(i) + float(j)"
   ]
  },
  {
   "cell_type": "markdown",
   "metadata": {},
   "source": [
    "### Зарезервированные имена"
   ]
  },
  {
   "cell_type": "code",
   "execution_count": null,
   "metadata": {},
   "outputs": [],
   "source": [
    "s = 'abc'\n",
    "i = 10"
   ]
  },
  {
   "cell_type": "code",
   "execution_count": null,
   "metadata": {},
   "outputs": [],
   "source": [
    "while = 'abc'"
   ]
  },
  {
   "cell_type": "markdown",
   "metadata": {},
   "source": [
    "## Булевские значения и операции"
   ]
  },
  {
   "cell_type": "code",
   "execution_count": null,
   "metadata": {},
   "outputs": [],
   "source": [
    "x = 2\n",
    "x == 3"
   ]
  },
  {
   "cell_type": "code",
   "execution_count": null,
   "metadata": {},
   "outputs": [],
   "source": [
    "x_is_2 = x == 2\n",
    "x_is_3 = x == 3\n",
    "x_is_2, x_is_3, type(x_is_2)"
   ]
  },
  {
   "cell_type": "code",
   "execution_count": null,
   "metadata": {},
   "outputs": [],
   "source": [
    "bool(0), bool(1), bool(2*8)"
   ]
  },
  {
   "cell_type": "code",
   "execution_count": null,
   "metadata": {},
   "outputs": [],
   "source": [
    "int(True), int(False)"
   ]
  },
  {
   "cell_type": "markdown",
   "metadata": {},
   "source": [
    "## Условный оператор"
   ]
  },
  {
   "cell_type": "markdown",
   "metadata": {},
   "source": [
    "```python\n",
    "if expression1:\n",
    "   statement(s)\n",
    "elif expression2:\n",
    "   statement(s)\n",
    "elif expression3:\n",
    "   statement(s)\n",
    "else:\n",
    "   statement(s)\n",
    "```"
   ]
  },
  {
   "cell_type": "code",
   "execution_count": 8,
   "metadata": {
    "scrolled": true
   },
   "outputs": [
    {
     "name": "stdout",
     "output_type": "stream",
     "text": [
      "3<=a<6\n"
     ]
    }
   ],
   "source": [
    "import random\n",
    "\n",
    "a = random.uniform(0, 10)\n",
    "if a < 3:\n",
    "    print(\"a<3\")\n",
    "elif a < 6:\n",
    "    print (\"3<=a<6\")\n",
    "else:\n",
    "    print (\"a>=6\")"
   ]
  },
  {
   "cell_type": "markdown",
   "metadata": {},
   "source": [
    "## ЗАДАНИЕ\n",
    "* Создайте строку<br>\n",
    "* Проверьте, начитается ли строка с 3х символов \"ААА\" и заканчивается строкой \"RRR\"<br>\n",
    "* Используйте str.startwith() , str.endwith()"
   ]
  },
  {
   "cell_type": "code",
   "execution_count": 16,
   "metadata": {},
   "outputs": [
    {
     "name": "stdout",
     "output_type": "stream",
     "text": [
      "Not today\n"
     ]
    }
   ],
   "source": [
    "mystr = \"AAskdfsfksjklafklRRR\"\n",
    "\n",
    "if mystr.startswith(\"AAA\") and mystr.endswith(\"RRR\"):\n",
    "    print(\"Yes\")\n",
    "else:\n",
    "    print(\"Not today\")"
   ]
  },
  {
   "cell_type": "markdown",
   "metadata": {},
   "source": [
    "## Циклы"
   ]
  },
  {
   "cell_type": "markdown",
   "metadata": {},
   "source": [
    "```python\n",
    "while expression:\n",
    "   statement(s)\n",
    "```"
   ]
  },
  {
   "cell_type": "code",
   "execution_count": 17,
   "metadata": {},
   "outputs": [
    {
     "name": "stdout",
     "output_type": "stream",
     "text": [
      "3628800\n"
     ]
    }
   ],
   "source": [
    "n = 1\n",
    "n_fac = 10\n",
    "fac =  1\n",
    "while n <= n_fac:\n",
    "    fac *= n\n",
    "    n += 1\n",
    "print(fac)"
   ]
  },
  {
   "cell_type": "markdown",
   "metadata": {},
   "source": [
    "## ЗАДАНИЕ\n",
    "* Определите, насколько значение экспоненты отличается от полученного после 10 элементов\n",
    "ряда в абсолютном и относительном значении от максимально точного для python\n",
    "* для проверки используйте пакет <b><i>math.exp</i></b>"
   ]
  },
  {
   "cell_type": "markdown",
   "metadata": {},
   "source": [
    "$$e = (1+\\frac{1}{n})^n$$"
   ]
  },
  {
   "cell_type": "code",
   "execution_count": 28,
   "metadata": {},
   "outputs": [
    {
     "name": "stdout",
     "output_type": "stream",
     "text": [
      "21.765181994816743\n",
      "2.718281828459045\n"
     ]
    }
   ],
   "source": [
    "import math\n",
    "\n",
    "##доделать"
   ]
  },
  {
   "cell_type": "markdown",
   "metadata": {},
   "source": [
    "```python\n",
    "for iterating_var in sequence:\n",
    "   statements(s)\n",
    "```"
   ]
  },
  {
   "cell_type": "markdown",
   "metadata": {},
   "source": [
    "### Управление выполнением цикла"
   ]
  },
  {
   "cell_type": "markdown",
   "metadata": {},
   "source": [
    "```python\n",
    "break\n",
    "\n",
    "continue\n",
    "```"
   ]
  },
  {
   "cell_type": "code",
   "execution_count": 29,
   "metadata": {},
   "outputs": [
    {
     "name": "stdout",
     "output_type": "stream",
     "text": [
      "val =   1\n",
      "val =   3\n",
      "val =   5\n",
      "val =   7\n",
      "val =  11\n",
      "val =  13\n",
      "val =  15\n",
      "val =  17\n",
      "val =  21\n",
      "val =  23\n",
      "val =  25\n",
      "val =  27\n",
      "val =  31\n",
      "val =  33\n",
      "val =  35\n",
      "val =  37\n",
      "val =  41\n",
      "val =  43\n",
      "val =  45\n",
      "val =  47\n",
      "val =  51\n",
      "val =  53\n",
      "val =  55\n",
      "val =  57\n",
      "val =  61\n",
      "val =  63\n",
      "val =  65\n",
      "val =  67\n"
     ]
    }
   ],
   "source": [
    "for i in range(10):\n",
    "    for j in range(10):\n",
    "        val = (i * 10 + j)\n",
    "        if j == 8:\n",
    "            break\n",
    "        elif val % 2 == 0:\n",
    "            continue\n",
    "        else:\n",
    "            print('val = {:3d}'.format(val))\n",
    "    if i > 5:\n",
    "        break"
   ]
  },
  {
   "cell_type": "markdown",
   "metadata": {},
   "source": [
    "## ЗАДАНИЕ\n",
    "* Найдите и распечатайте простые числа до 1000"
   ]
  },
  {
   "cell_type": "code",
   "execution_count": 38,
   "metadata": {},
   "outputs": [
    {
     "name": "stdout",
     "output_type": "stream",
     "text": [
      "0\n",
      "1\n",
      "2\n",
      "3\n",
      "5\n",
      "7\n",
      "11\n",
      "13\n",
      "17\n",
      "19\n",
      "23\n",
      "29\n",
      "31\n",
      "37\n",
      "41\n",
      "43\n",
      "47\n",
      "53\n",
      "59\n",
      "61\n",
      "67\n",
      "71\n",
      "73\n",
      "79\n",
      "83\n",
      "89\n",
      "97\n",
      "101\n",
      "103\n",
      "107\n",
      "109\n",
      "113\n",
      "127\n",
      "131\n",
      "137\n",
      "139\n",
      "149\n",
      "151\n",
      "157\n",
      "163\n",
      "167\n",
      "173\n",
      "179\n",
      "181\n",
      "191\n",
      "193\n",
      "197\n",
      "199\n",
      "211\n",
      "223\n",
      "227\n",
      "229\n",
      "233\n",
      "239\n",
      "241\n",
      "251\n",
      "257\n",
      "263\n",
      "269\n",
      "271\n",
      "277\n",
      "281\n",
      "283\n",
      "293\n",
      "307\n",
      "311\n",
      "313\n",
      "317\n",
      "331\n",
      "337\n",
      "347\n",
      "349\n",
      "353\n",
      "359\n",
      "367\n",
      "373\n",
      "379\n",
      "383\n",
      "389\n",
      "397\n",
      "401\n",
      "409\n",
      "419\n",
      "421\n",
      "431\n",
      "433\n",
      "439\n",
      "443\n",
      "449\n",
      "457\n",
      "461\n",
      "463\n",
      "467\n",
      "479\n",
      "487\n",
      "491\n",
      "499\n",
      "503\n",
      "509\n",
      "521\n",
      "523\n",
      "541\n",
      "547\n",
      "557\n",
      "563\n",
      "569\n",
      "571\n",
      "577\n",
      "587\n",
      "593\n",
      "599\n",
      "601\n",
      "607\n",
      "613\n",
      "617\n",
      "619\n",
      "631\n",
      "641\n",
      "643\n",
      "647\n",
      "653\n",
      "659\n",
      "661\n",
      "673\n",
      "677\n",
      "683\n",
      "691\n",
      "701\n",
      "709\n",
      "719\n",
      "727\n",
      "733\n",
      "739\n",
      "743\n",
      "751\n",
      "757\n",
      "761\n",
      "769\n",
      "773\n",
      "787\n",
      "797\n",
      "809\n",
      "811\n",
      "821\n",
      "823\n",
      "827\n",
      "829\n",
      "839\n",
      "853\n",
      "857\n",
      "859\n",
      "863\n",
      "877\n",
      "881\n",
      "883\n",
      "887\n",
      "907\n",
      "911\n",
      "919\n",
      "929\n",
      "937\n",
      "941\n",
      "947\n",
      "953\n",
      "967\n",
      "971\n",
      "977\n",
      "983\n",
      "991\n",
      "997\n"
     ]
    }
   ],
   "source": [
    "def IsPrime(n):\n",
    "   d = 2\n",
    "   while d * d <= n and n % d != 0:\n",
    "       d += 1\n",
    "   return d * d > n\n",
    "\n",
    "for i in range(1001):\n",
    "    if IsPrime(i):\n",
    "        print(i)\n"
   ]
  },
  {
   "cell_type": "markdown",
   "metadata": {},
   "source": [
    "### Unicode для переменных (избегайте этого!)"
   ]
  },
  {
   "cell_type": "code",
   "execution_count": 39,
   "metadata": {},
   "outputs": [],
   "source": [
    "переменная = 7\n",
    "str_переменная = 'Oops! I did it again!'"
   ]
  },
  {
   "cell_type": "code",
   "execution_count": 40,
   "metadata": {},
   "outputs": [
    {
     "name": "stdout",
     "output_type": "stream",
     "text": [
      "7 <class 'int'> \n",
      " Oops! I did it again! <class 'str'>\n"
     ]
    }
   ],
   "source": [
    "print(переменная, type(переменная), '\\n', str_переменная, type(str_переменная))"
   ]
  },
  {
   "cell_type": "markdown",
   "metadata": {},
   "source": [
    "\n",
    "## Функции, аргументы и сигнатуры"
   ]
  },
  {
   "cell_type": "markdown",
   "metadata": {},
   "source": [
    "```python\n",
    "def func(first, second, third='something'):\n",
    "    pass\n",
    "```"
   ]
  },
  {
   "cell_type": "markdown",
   "metadata": {},
   "source": [
    "```python\n",
    "def func(*args):\n",
    "     return args\n",
    "```"
   ]
  },
  {
   "cell_type": "markdown",
   "metadata": {},
   "source": [
    "```python\n",
    "def func(**kwargs):\n",
    "     return kwargs\n",
    "```"
   ]
  },
  {
   "cell_type": "markdown",
   "metadata": {},
   "source": [
    " Разобраться что за pass такой\n"
   ]
  },
  {
   "cell_type": "code",
   "execution_count": 48,
   "metadata": {},
   "outputs": [],
   "source": [
    "from inspect import signature \n",
    "\n",
    "def func(first, second, third='something'):\n",
    "    \"\"\"\n",
    "    Description\n",
    "    1.\n",
    "    2. \n",
    "    3.\n",
    "    \"\"\"\n",
    "    pass # оператор-заглушка\n"
   ]
  },
  {
   "cell_type": "code",
   "execution_count": 47,
   "metadata": {},
   "outputs": [
    {
     "name": "stdout",
     "output_type": "stream",
     "text": [
      "Help on function func in module __main__:\n",
      "\n",
      "func(first, second, third='something')\n",
      "    Description\n",
      "    1.\n",
      "    2. \n",
      "    3.\n",
      "\n"
     ]
    }
   ],
   "source": [
    "help(func)\n"
   ]
  },
  {
   "cell_type": "code",
   "execution_count": 49,
   "metadata": {
    "scrolled": true
   },
   "outputs": [
    {
     "name": "stdout",
     "output_type": "stream",
     "text": [
      "(first, second, third='something')\n"
     ]
    }
   ],
   "source": [
    "sig = signature(func)\n",
    "print(sig)"
   ]
  },
  {
   "cell_type": "code",
   "execution_count": null,
   "metadata": {},
   "outputs": [],
   "source": []
  },
  {
   "cell_type": "markdown",
   "metadata": {},
   "source": [
    "## Экзаменационные вопросы"
   ]
  },
  {
   "cell_type": "markdown",
   "metadata": {},
   "source": [
    "* Общая структура программы Python\n",
    "* Управляющие структуры Python\n",
    "* Простые типы в Python\n",
    "* Система управления версиями Git"
   ]
  },
  {
   "cell_type": "markdown",
   "metadata": {},
   "source": [
    "### <b>Задание №1</b>\n",
    "- завести свой репозиторий на GitHub или BitBucket\n",
    "- создать там проект по данному курсу\n",
    "- загрузить данный файл по ссылке ...\n",
    "- разместить данные на GitHub\n",
    "\n",
    "><b>deadline: </b>"
   ]
  },
  {
   "cell_type": "markdown",
   "metadata": {},
   "source": [
    "# This is the end, my friend! "
   ]
  }
 ],
 "metadata": {
  "kernelspec": {
   "display_name": "Python 3",
   "language": "python",
   "name": "python3"
  },
  "language_info": {
   "codemirror_mode": {
    "name": "ipython",
    "version": 3
   },
   "file_extension": ".py",
   "mimetype": "text/x-python",
   "name": "python",
   "nbconvert_exporter": "python",
   "pygments_lexer": "ipython3",
   "version": "3.7.4"
  }
 },
 "nbformat": 4,
 "nbformat_minor": 2
}
