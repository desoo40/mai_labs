{
 "cells": [
  {
   "cell_type": "code",
   "execution_count": 1,
   "metadata": {},
   "outputs": [],
   "source": [
    "import numpy as np\n",
    "import pandas as pd\n",
    "import matplotlib.pyplot as plt\n",
    "import scipy as sc\n",
    "%matplotlib inline"
   ]
  },
  {
   "cell_type": "markdown",
   "metadata": {},
   "source": [
    "## <font color=red>ЗАДАНИЕ</font>"
   ]
  },
  {
   "cell_type": "markdown",
   "metadata": {},
   "source": [
    "Реализуйте класс клеток (cell) со следующими функциями:<br>\n",
    "* при создании у клетки задается имя (строка)\n",
    "* hello - клетка печатает \"Клетка:\" плюс свое имя\n",
    "* die - клетка погибает\n",
    "* divide - возвращяет tuple из двух новых клеток, к имени старой клетки добавлются 0 и 1\n",
    "    старая клетка погибает\n",
    "* Надо сохранять количество клеток в переменной класса"
   ]
  },
  {
   "cell_type": "code",
   "execution_count": 2,
   "metadata": {},
   "outputs": [],
   "source": [
    "class Cell:\n",
    "    qty = 0\n",
    "    \n",
    "    def __init__(self, name):\n",
    "        self.name = name\n",
    "        Cell.qty += 1\n",
    "    \n",
    "    def hello(self):\n",
    "        print(f\"Cell: {self.name}\")\n",
    "    \n",
    "    def die(self):\n",
    "        print(f\"{self.name} die\")\n",
    "        Cell.qty -= 1\n",
    "        del self\n",
    "        \n",
    "    def divide(self):\n",
    "        tpl = (Cell(self.name + \"0\"), Cell(self.name + \"1\"))\n",
    "        self.die()\n",
    "        return tpl\n"
   ]
  },
  {
   "cell_type": "code",
   "execution_count": 3,
   "metadata": {},
   "outputs": [
    {
     "name": "stdout",
     "output_type": "stream",
     "text": [
      "Cell: Zigota\n"
     ]
    }
   ],
   "source": [
    "c = Cell(\"Zigota\")\n",
    "c.hello()"
   ]
  },
  {
   "cell_type": "code",
   "execution_count": 4,
   "metadata": {},
   "outputs": [
    {
     "name": "stdout",
     "output_type": "stream",
     "text": [
      "Zigota die\n",
      "Cell: Zigota0\n",
      "Cell: Zigota1\n"
     ]
    }
   ],
   "source": [
    "tp = c.divide()\n",
    "tp[0].hello()\n",
    "tp[1].hello()"
   ]
  },
  {
   "cell_type": "code",
   "execution_count": 5,
   "metadata": {},
   "outputs": [
    {
     "data": {
      "text/plain": [
       "2"
      ]
     },
     "execution_count": 5,
     "metadata": {},
     "output_type": "execute_result"
    }
   ],
   "source": [
    "Cell.qty"
   ]
  },
  {
   "cell_type": "markdown",
   "metadata": {},
   "source": [
    "## <font color=red>ЗАДАНИЕ</font>"
   ]
  },
  {
   "cell_type": "markdown",
   "metadata": {},
   "source": [
    "Реализуйте класс, принимающий имя функции в виде строки и функцию, связанную с этой строкой. <br>\n",
    "При выполнении метода __execute__ с кодом и переменной или значением выполняет функцию, связанную с кодом.<br>\n",
    "Если кода нет, то методы генерирует прерывание __KeyError__"
   ]
  },
  {
   "cell_type": "code",
   "execution_count": 17,
   "metadata": {},
   "outputs": [],
   "source": [
    "class FDict():\n",
    "    def __init__(self):\n",
    "        self.f_to_c_dct = {}\n",
    "        self.c_to_f_dct = {}\n",
    "\n",
    "    # добавляет функцию с кодом\n",
    "    def add(self, code, func):\n",
    "        self.dict[func] = code\n",
    "    \n",
    "    # удаляет функцию по коду\n",
    "    def remove(self, code):\n",
    "        pass\n",
    "\n",
    "    # выполняет функцию с аргументом\n",
    "    def execute(self, code, arg):\n",
    "        return 1\n",
    "    \n",
    "    # возвращает функцию по коду\n",
    "    def get_func(self, code):\n",
    "        pass\n",
    "    \n",
    "    # получает 2*N аргументов (код, значение, код, значение ..) и возвращает кортеж из значений\n",
    "    def execute_many(self, *args):\n",
    "        return tuple([1] * int(len(args)/2) )"
   ]
  },
  {
   "cell_type": "markdown",
   "metadata": {},
   "source": [
    "Проверьте функционирование Вашего кода. Проверьте работу с отсутствующим кодом и добавьте обработку исключения."
   ]
  },
  {
   "cell_type": "code",
   "execution_count": 16,
   "metadata": {
    "scrolled": true
   },
   "outputs": [
    {
     "ename": "NameError",
     "evalue": "name 'FDict' is not defined",
     "output_type": "error",
     "traceback": [
      "\u001b[0;31m---------------------------------------------------------------------------\u001b[0m",
      "\u001b[0;31mNameError\u001b[0m                                 Traceback (most recent call last)",
      "\u001b[0;32m<ipython-input-16-ce8b24d64bfa>\u001b[0m in \u001b[0;36m<module>\u001b[0;34m()\u001b[0m\n\u001b[1;32m      4\u001b[0m \u001b[0mx\u001b[0m \u001b[0;34m=\u001b[0m \u001b[0mmath\u001b[0m\u001b[0;34m.\u001b[0m\u001b[0mpi\u001b[0m \u001b[0;34m/\u001b[0m \u001b[0;36m3\u001b[0m\u001b[0;34m\u001b[0m\u001b[0m\n\u001b[1;32m      5\u001b[0m \u001b[0;34m\u001b[0m\u001b[0m\n\u001b[0;32m----> 6\u001b[0;31m \u001b[0mfunc_dict\u001b[0m \u001b[0;34m=\u001b[0m \u001b[0mFDict\u001b[0m\u001b[0;34m(\u001b[0m\u001b[0;34m)\u001b[0m\u001b[0;34m\u001b[0m\u001b[0m\n\u001b[0m\u001b[1;32m      7\u001b[0m \u001b[0mfunc_dict\u001b[0m\u001b[0;34m.\u001b[0m\u001b[0madd\u001b[0m\u001b[0;34m(\u001b[0m\u001b[0;34m'sin'\u001b[0m\u001b[0;34m,\u001b[0m \u001b[0mmath\u001b[0m\u001b[0;34m.\u001b[0m\u001b[0msin\u001b[0m\u001b[0;34m)\u001b[0m\u001b[0;34m\u001b[0m\u001b[0m\n\u001b[1;32m      8\u001b[0m \u001b[0mfunc_dict\u001b[0m\u001b[0;34m.\u001b[0m\u001b[0madd\u001b[0m\u001b[0;34m(\u001b[0m\u001b[0;34m'cos'\u001b[0m\u001b[0;34m,\u001b[0m \u001b[0mmath\u001b[0m\u001b[0;34m.\u001b[0m\u001b[0mcos\u001b[0m\u001b[0;34m)\u001b[0m\u001b[0;34m\u001b[0m\u001b[0m\n",
      "\u001b[0;31mNameError\u001b[0m: name 'FDict' is not defined"
     ]
    }
   ],
   "source": [
    "import math\n",
    "from math import sin, cos\n",
    "\n",
    "x = math.pi / 3\n",
    "\n",
    "func_dict = FDict()\n",
    "func_dict.add('sin', math.sin)\n",
    "func_dict.add('cos', math.cos)\n",
    "\n",
    "y1 = func_dict.execute('sin', x)\n",
    "y2 = func_dict.execute('cos', x)\n",
    "\n",
    "print(\"1. sin({0:.4f})={1:.4f}, cos({0:.4f})={2:.4f}\".format(x, y1, y2))\n",
    "\n",
    "y1, y2 = func_dict.execute_many('sin', x*2, 'cos', x*3)\n",
    "print(\"2. sin({0:4f})={1:4f}, cos({0:4f})={2:4f}\".format(x, y1, y2))"
   ]
  }
 ],
 "metadata": {
  "kernelspec": {
   "display_name": "Python 3",
   "language": "python",
   "name": "python3"
  },
  "language_info": {
   "codemirror_mode": {
    "name": "ipython",
    "version": 3
   },
   "file_extension": ".py",
   "mimetype": "text/x-python",
   "name": "python",
   "nbconvert_exporter": "python",
   "pygments_lexer": "ipython3",
   "version": "3.7.4"
  }
 },
 "nbformat": 4,
 "nbformat_minor": 2
}
