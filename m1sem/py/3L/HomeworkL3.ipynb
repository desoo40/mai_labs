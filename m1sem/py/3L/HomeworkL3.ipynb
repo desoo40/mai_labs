{
 "cells": [
  {
   "cell_type": "code",
   "execution_count": 1,
   "metadata": {},
   "outputs": [],
   "source": [
    "class StrBinTree:\n",
    "    '''\n",
    "    Класс бинарного дерева с функциями поиска и выдачи расстояния до ближайшей сохраненной строки:\n",
    "     '''\n",
    "    def __init__(self):\n",
    "        self.node_string = None\n",
    "        self.left_node = StrBinTree()\n",
    "        self.right_node = StrBinTree()\n",
    "    \n",
    "    def add(self, s):\n",
    "        '''\n",
    "        добавляет строку в дерево\n",
    "        '''\n",
    "        if self.node_string == None:\n",
    "            self.node_string = s\n",
    "        elif s == self.node_string:\n",
    "            print(f\"{s} is already in tree\")\n",
    "            return\n",
    "        elif s > self.node_string:\n",
    "            self.right_node.add(s)\n",
    "        else:\n",
    "            self.left_node.add(s)\n",
    "    \n",
    "    # Каков смысл этой функции?\n",
    "    def __add__(self, s):\n",
    "        '''\n",
    "        ваше описание\n",
    "        '''\n",
    "        self.add(s)\n",
    "    \n",
    "    def isin(self, s):\n",
    "        '''\n",
    "        возвращает True, если есть точно такая же строка, или False, если её нет\n",
    "        '''\n",
    "        if self.node_string == None:\n",
    "            return False\n",
    "        elif self.node_string == s:\n",
    "            return True\n",
    "        elif s > self.node_string:\n",
    "            self.right_node.isin(s)\n",
    "        else:\n",
    "            self.left_node.isin(s)\n",
    "        \n",
    "    def remove(self, str):\n",
    "        '''\n",
    "        удаляет строку. Удаление производится только в случае точного совпадения\n",
    "        строки с указанной. Возвращает 0, если удаление выполнено, и 1 в остальных случаях\n",
    "        '''\n",
    "        pass\n",
    "        \n",
    "    def get(self, str):\n",
    "        '''\n",
    "        возвращает ближайшую с лексической точки зрения строку и расстояние строки-аргумента\n",
    "        до нее\n",
    "        '''\n",
    "        pass\n",
    "\n",
    "    def __len__(self):\n",
    "        '''\n",
    "        возвращает количество строк в дереве\n",
    "        '''\n",
    "        pass\n",
    "    \n",
    "    def to_list(self):\n",
    "        '''\n",
    "        возвращает все строки в виде упорядоченного списка\n",
    "        '''\n",
    "        pass"
   ]
  },
  {
   "cell_type": "code",
   "execution_count": 2,
   "metadata": {},
   "outputs": [
    {
     "ename": "RecursionError",
     "evalue": "maximum recursion depth exceeded",
     "output_type": "error",
     "traceback": [
      "\u001b[1;31m---------------------------------------------------------------------------\u001b[0m",
      "\u001b[1;31mRecursionError\u001b[0m                            Traceback (most recent call last)",
      "\u001b[1;32m<ipython-input-2-b8f550c3a12a>\u001b[0m in \u001b[0;36m<module>\u001b[1;34m\u001b[0m\n\u001b[1;32m----> 1\u001b[1;33m \u001b[0mtree\u001b[0m \u001b[1;33m=\u001b[0m \u001b[0mStrBinTree\u001b[0m\u001b[1;33m(\u001b[0m\u001b[1;33m)\u001b[0m\u001b[1;33m\u001b[0m\u001b[1;33m\u001b[0m\u001b[0m\n\u001b[0m\u001b[0;32m      2\u001b[0m \u001b[1;33m\u001b[0m\u001b[0m\n\u001b[0;32m      3\u001b[0m \u001b[0mtree\u001b[0m\u001b[1;33m.\u001b[0m\u001b[0madd\u001b[0m\u001b[1;33m(\u001b[0m\u001b[1;34m\"sdfkksd\"\u001b[0m\u001b[1;33m)\u001b[0m\u001b[1;33m\u001b[0m\u001b[1;33m\u001b[0m\u001b[0m\n",
      "\u001b[1;32m<ipython-input-1-f897bf067223>\u001b[0m in \u001b[0;36m__init__\u001b[1;34m(self)\u001b[0m\n\u001b[0;32m      5\u001b[0m     \u001b[1;32mdef\u001b[0m \u001b[0m__init__\u001b[0m\u001b[1;33m(\u001b[0m\u001b[0mself\u001b[0m\u001b[1;33m)\u001b[0m\u001b[1;33m:\u001b[0m\u001b[1;33m\u001b[0m\u001b[1;33m\u001b[0m\u001b[0m\n\u001b[0;32m      6\u001b[0m         \u001b[0mself\u001b[0m\u001b[1;33m.\u001b[0m\u001b[0mnode_string\u001b[0m \u001b[1;33m=\u001b[0m \u001b[1;32mNone\u001b[0m\u001b[1;33m\u001b[0m\u001b[1;33m\u001b[0m\u001b[0m\n\u001b[1;32m----> 7\u001b[1;33m         \u001b[0mself\u001b[0m\u001b[1;33m.\u001b[0m\u001b[0mleft_node\u001b[0m \u001b[1;33m=\u001b[0m \u001b[0mStrBinTree\u001b[0m\u001b[1;33m(\u001b[0m\u001b[1;33m)\u001b[0m\u001b[1;33m\u001b[0m\u001b[1;33m\u001b[0m\u001b[0m\n\u001b[0m\u001b[0;32m      8\u001b[0m         \u001b[0mself\u001b[0m\u001b[1;33m.\u001b[0m\u001b[0mright_node\u001b[0m \u001b[1;33m=\u001b[0m \u001b[0mStrBinTree\u001b[0m\u001b[1;33m(\u001b[0m\u001b[1;33m)\u001b[0m\u001b[1;33m\u001b[0m\u001b[1;33m\u001b[0m\u001b[0m\n\u001b[0;32m      9\u001b[0m \u001b[1;33m\u001b[0m\u001b[0m\n",
      "... last 1 frames repeated, from the frame below ...\n",
      "\u001b[1;32m<ipython-input-1-f897bf067223>\u001b[0m in \u001b[0;36m__init__\u001b[1;34m(self)\u001b[0m\n\u001b[0;32m      5\u001b[0m     \u001b[1;32mdef\u001b[0m \u001b[0m__init__\u001b[0m\u001b[1;33m(\u001b[0m\u001b[0mself\u001b[0m\u001b[1;33m)\u001b[0m\u001b[1;33m:\u001b[0m\u001b[1;33m\u001b[0m\u001b[1;33m\u001b[0m\u001b[0m\n\u001b[0;32m      6\u001b[0m         \u001b[0mself\u001b[0m\u001b[1;33m.\u001b[0m\u001b[0mnode_string\u001b[0m \u001b[1;33m=\u001b[0m \u001b[1;32mNone\u001b[0m\u001b[1;33m\u001b[0m\u001b[1;33m\u001b[0m\u001b[0m\n\u001b[1;32m----> 7\u001b[1;33m         \u001b[0mself\u001b[0m\u001b[1;33m.\u001b[0m\u001b[0mleft_node\u001b[0m \u001b[1;33m=\u001b[0m \u001b[0mStrBinTree\u001b[0m\u001b[1;33m(\u001b[0m\u001b[1;33m)\u001b[0m\u001b[1;33m\u001b[0m\u001b[1;33m\u001b[0m\u001b[0m\n\u001b[0m\u001b[0;32m      8\u001b[0m         \u001b[0mself\u001b[0m\u001b[1;33m.\u001b[0m\u001b[0mright_node\u001b[0m \u001b[1;33m=\u001b[0m \u001b[0mStrBinTree\u001b[0m\u001b[1;33m(\u001b[0m\u001b[1;33m)\u001b[0m\u001b[1;33m\u001b[0m\u001b[1;33m\u001b[0m\u001b[0m\n\u001b[0;32m      9\u001b[0m \u001b[1;33m\u001b[0m\u001b[0m\n",
      "\u001b[1;31mRecursionError\u001b[0m: maximum recursion depth exceeded"
     ]
    }
   ],
   "source": [
    "tree = StrBinTree()\n",
    "\n",
    "tree.add(\"sdfkksd\")"
   ]
  }
 ],
 "metadata": {
  "kernelspec": {
   "display_name": "Python 3",
   "language": "python",
   "name": "python3"
  },
  "language_info": {
   "codemirror_mode": {
    "name": "ipython",
    "version": 3
   },
   "file_extension": ".py",
   "mimetype": "text/x-python",
   "name": "python",
   "nbconvert_exporter": "python",
   "pygments_lexer": "ipython3",
   "version": "3.7.4"
  }
 },
 "nbformat": 4,
 "nbformat_minor": 2
}
