{
 "cells": [
  {
   "cell_type": "code",
   "execution_count": 1,
   "metadata": {},
   "outputs": [],
   "source": [
    "from pandas import read_csv as read\n",
    "import pandas as pd\n",
    "import random\n",
    "import numpy as np\n",
    "import seaborn as sns; sns.set(color_codes=True)\n",
    "import matplotlib.pyplot as plt\n",
    "from sklearn import metrics\n",
    "from sklearn.metrics import precision_recall_curve\n",
    "from sklearn.metrics import f1_score\n",
    "from sklearn.metrics import auc\n",
    "from sklearn.metrics import average_precision_score\n",
    "from plot import pltPRcurve, pltROCcurve "
   ]
  },
  {
   "cell_type": "code",
   "execution_count": 11,
   "metadata": {},
   "outputs": [
    {
     "data": {
      "text/html": [
       "<div>\n",
       "<style scoped>\n",
       "    .dataframe tbody tr th:only-of-type {\n",
       "        vertical-align: middle;\n",
       "    }\n",
       "\n",
       "    .dataframe tbody tr th {\n",
       "        vertical-align: top;\n",
       "    }\n",
       "\n",
       "    .dataframe thead th {\n",
       "        text-align: right;\n",
       "    }\n",
       "</style>\n",
       "<table border=\"1\" class=\"dataframe\">\n",
       "  <thead>\n",
       "    <tr style=\"text-align: right;\">\n",
       "      <th></th>\n",
       "      <th>type</th>\n",
       "      <th>amount</th>\n",
       "      <th>oldbalanceDest</th>\n",
       "      <th>IZoB</th>\n",
       "    </tr>\n",
       "  </thead>\n",
       "  <tbody>\n",
       "    <tr>\n",
       "      <th>0</th>\n",
       "      <td>3</td>\n",
       "      <td>9839.64</td>\n",
       "      <td>0.0</td>\n",
       "      <td>0</td>\n",
       "    </tr>\n",
       "    <tr>\n",
       "      <th>1</th>\n",
       "      <td>4</td>\n",
       "      <td>181.00</td>\n",
       "      <td>0.0</td>\n",
       "      <td>1</td>\n",
       "    </tr>\n",
       "    <tr>\n",
       "      <th>2</th>\n",
       "      <td>1</td>\n",
       "      <td>181.00</td>\n",
       "      <td>21182.0</td>\n",
       "      <td>1</td>\n",
       "    </tr>\n",
       "    <tr>\n",
       "      <th>3</th>\n",
       "      <td>3</td>\n",
       "      <td>9478.39</td>\n",
       "      <td>0.0</td>\n",
       "      <td>0</td>\n",
       "    </tr>\n",
       "    <tr>\n",
       "      <th>4</th>\n",
       "      <td>3</td>\n",
       "      <td>3454.08</td>\n",
       "      <td>0.0</td>\n",
       "      <td>0</td>\n",
       "    </tr>\n",
       "  </tbody>\n",
       "</table>\n",
       "</div>"
      ],
      "text/plain": [
       "   type   amount  oldbalanceDest  IZoB\n",
       "0     3  9839.64             0.0     0\n",
       "1     4   181.00             0.0     1\n",
       "2     1   181.00         21182.0     1\n",
       "3     3  9478.39             0.0     0\n",
       "4     3  3454.08             0.0     0"
      ]
     },
     "execution_count": 11,
     "metadata": {},
     "output_type": "execute_result"
    }
   ],
   "source": [
    "path = \"newFilt.csv\"\n",
    "data = read(path, delimiter=\",\")\n",
    "\n",
    "data.drop('isFlaggedFraud', axis=1, inplace=True)\n",
    "data.drop('nameOrig', axis=1, inplace=True)\n",
    "data.drop('nameDest', axis=1, inplace=True)\n",
    "\n",
    "data.drop('step', axis=1, inplace=True)\n",
    "data.drop('newbalanceOrig', axis=1, inplace=True)\n",
    "data.drop('newbalanceDest', axis=1, inplace=True)\n",
    "data.drop('hour', axis=1, inplace=True)\n",
    "data.drop('newSender', axis=1, inplace=True)\n",
    "data.drop('newReceiver', axis=1, inplace=True)\n",
    "data.drop('merchant', axis=1, inplace=True)\n",
    "data.drop('fraudsEarly', axis=1, inplace=True)\n",
    "data.drop('LTS', axis=1, inplace=True)\n",
    "data.drop('LTR', axis=1, inplace=True)\n",
    "data.drop('oldbalanceOrg', axis=1, inplace=True)\n",
    "##data.drop('newbalanceDest', axis=1, inplace=True)\n",
    "##data.drop('oldbalanceDest', axis=1, inplace=True)\n",
    "\n",
    "##data = pd.get_dummies(data)\n",
    "\n",
    "from sklearn.preprocessing import LabelEncoder\n",
    "\n",
    "le = LabelEncoder()\n",
    "data['type'] = le.fit_transform(data['type'])\n",
    "\n",
    "data.head()\n",
    "\n",
    "target = data['isFraud']\n",
    "\n",
    "target.head()\n",
    "\n",
    "train = data.drop('isFraud', axis=1)\n",
    "\n",
    "train.head()"
   ]
  },
  {
   "cell_type": "code",
   "execution_count": 12,
   "metadata": {},
   "outputs": [
    {
     "name": "stdout",
     "output_type": "stream",
     "text": [
      "Количество шагов кросс-валидации =  5\n"
     ]
    }
   ],
   "source": [
    "from sklearn.ensemble import RandomForestClassifier\n",
    "from sklearn.linear_model import LogisticRegression\n",
    "from sklearn.model_selection import cross_val_score\n",
    "\n",
    "kfold = 5\n",
    "itog_val = {}\n",
    "\n",
    "print('Количество шагов кросс-валидации = ', kfold)"
   ]
  },
  {
   "cell_type": "code",
   "execution_count": 13,
   "metadata": {
    "scrolled": false
   },
   "outputs": [
    {
     "name": "stdout",
     "output_type": "stream",
     "text": [
      "Точность RandomForestClassifier на каждом шаге:\n",
      "[0.95875556 0.95857778 0.95977599 0.95919637 0.96044093]\n"
     ]
    }
   ],
   "source": [
    "model = RandomForestClassifier(n_estimators=110, n_jobs=-1)\n",
    " \n",
    "name = type(model).__name__\n",
    "\n",
    "scores = cross_val_score(model, train, target, cv = kfold)\n",
    "itog_val[name] = scores.min()\n",
    "\n",
    "print (f'Точность {name} на каждом шаге:')\n",
    "print (scores)\n"
   ]
  },
  {
   "cell_type": "code",
   "execution_count": 14,
   "metadata": {},
   "outputs": [
    {
     "name": "stdout",
     "output_type": "stream",
     "text": [
      "Точность KNeighborsClassifier на каждом шаге:\n",
      "[0.934      0.93386667 0.93510823 0.9266157  0.93390524]\n"
     ]
    }
   ],
   "source": [
    "from sklearn.neighbors import KNeighborsClassifier\n",
    "\n",
    "model = KNeighborsClassifier(n_neighbors=3)\n",
    "name = type(model).__name__\n",
    "\n",
    "scores = cross_val_score(model, train, target, cv = kfold)\n",
    "itog_val[name] = scores.min()\n",
    "\n",
    "print (f'Точность {name} на каждом шаге:')\n",
    "print (scores)"
   ]
  },
  {
   "cell_type": "code",
   "execution_count": 15,
   "metadata": {},
   "outputs": [
    {
     "name": "stdout",
     "output_type": "stream",
     "text": [
      "Точность GaussianNB на каждом шаге:\n",
      "[0.9372     0.93933333 0.94030846 0.92221531 0.93648324]\n"
     ]
    }
   ],
   "source": [
    "from sklearn.naive_bayes import GaussianNB\n",
    "\n",
    "model = GaussianNB()\n",
    "\n",
    "name = type(model).__name__\n",
    "\n",
    "scores = cross_val_score(model, train, target, cv = kfold)\n",
    "itog_val[name] = scores.min()\n",
    "\n",
    "print (f'Точность {name} на каждом шаге:')\n",
    "print (scores)"
   ]
  },
  {
   "cell_type": "code",
   "execution_count": 16,
   "metadata": {},
   "outputs": [
    {
     "name": "stdout",
     "output_type": "stream",
     "text": [
      "Точность GradientBoostingClassifier на каждом шаге:\n",
      "[0.96862222 0.96853333 0.9696431  0.97013068 0.97013068]\n"
     ]
    }
   ],
   "source": [
    "from sklearn.ensemble import GradientBoostingClassifier\n",
    "\n",
    "model = GradientBoostingClassifier(max_depth=4)\n",
    "\n",
    "name = type(model).__name__\n",
    "\n",
    "scores = cross_val_score(model, train, target, cv = kfold)\n",
    "itog_val[name] = scores.min()\n",
    "\n",
    "print (f'Точность {name} на каждом шаге:')\n",
    "print (scores)"
   ]
  },
  {
   "cell_type": "code",
   "execution_count": 13,
   "metadata": {},
   "outputs": [
    {
     "name": "stdout",
     "output_type": "stream",
     "text": [
      "Точность DecisionTreeClassifier на каждом шаге:\n",
      "[0.99445392 0.99626706 0.9968     0.99637333 0.99712    0.99733305\n",
      " 0.99637295 0.99839983 0.99733305 0.9965863  0.99733305 0.99647962]\n"
     ]
    }
   ],
   "source": [
    "from sklearn.tree import DecisionTreeClassifier\n",
    "\n",
    "model = DecisionTreeClassifier()\n",
    "\n",
    "name = type(model).__name__\n",
    "\n",
    "scores = cross_val_score(model, train, target, cv = kfold)\n",
    "itog_val[name] = scores.min()\n",
    "\n",
    "print (f'Точность {name} на каждом шаге:')\n",
    "print (scores)"
   ]
  },
  {
   "cell_type": "code",
   "execution_count": 12,
   "metadata": {},
   "outputs": [
    {
     "name": "stdout",
     "output_type": "stream",
     "text": [
      "Точность MLPClassifier на каждом шаге:\n",
      "[0.96235068 0.97792235 0.96096    0.93664    0.97248    0.84467677\n",
      " 0.949968   0.80477918 0.97482398 0.90046938 0.90537657 0.92703222]\n"
     ]
    }
   ],
   "source": [
    "from sklearn.neural_network import MLPClassifier\n",
    "\n",
    "model = MLPClassifier(alpha=1, max_iter=1000)\n",
    "\n",
    "name = type(model).__name__\n",
    "\n",
    "scores = cross_val_score(model, train, target, cv = kfold)\n",
    "itog_val[name] = scores.min()\n",
    "\n",
    "print (f'Точность {name} на каждом шаге:')\n",
    "print (scores)"
   ]
  },
  {
   "cell_type": "code",
   "execution_count": 14,
   "metadata": {},
   "outputs": [
    {
     "data": {
      "text/html": [
       "<div>\n",
       "<style scoped>\n",
       "    .dataframe tbody tr th:only-of-type {\n",
       "        vertical-align: middle;\n",
       "    }\n",
       "\n",
       "    .dataframe tbody tr th {\n",
       "        vertical-align: top;\n",
       "    }\n",
       "\n",
       "    .dataframe thead th {\n",
       "        text-align: right;\n",
       "    }\n",
       "</style>\n",
       "<table border=\"1\" class=\"dataframe\">\n",
       "  <thead>\n",
       "    <tr style=\"text-align: right;\">\n",
       "      <th></th>\n",
       "      <th>0</th>\n",
       "    </tr>\n",
       "  </thead>\n",
       "  <tbody>\n",
       "    <tr>\n",
       "      <th>RandomForestClassifier</th>\n",
       "      <td>0.990506</td>\n",
       "    </tr>\n",
       "    <tr>\n",
       "      <th>KNeighborsClassifier</th>\n",
       "      <td>0.985068</td>\n",
       "    </tr>\n",
       "    <tr>\n",
       "      <th>GaussianNB</th>\n",
       "      <td>0.912844</td>\n",
       "    </tr>\n",
       "    <tr>\n",
       "      <th>GradientBoostingClassifier</th>\n",
       "      <td>0.988908</td>\n",
       "    </tr>\n",
       "    <tr>\n",
       "      <th>DecisionTreeClassifier</th>\n",
       "      <td>0.994454</td>\n",
       "    </tr>\n",
       "    <tr>\n",
       "      <th>MLPClassifier</th>\n",
       "      <td>0.804779</td>\n",
       "    </tr>\n",
       "  </tbody>\n",
       "</table>\n",
       "</div>"
      ],
      "text/plain": [
       "                                   0\n",
       "RandomForestClassifier      0.990506\n",
       "KNeighborsClassifier        0.985068\n",
       "GaussianNB                  0.912844\n",
       "GradientBoostingClassifier  0.988908\n",
       "DecisionTreeClassifier      0.994454\n",
       "MLPClassifier               0.804779"
      ]
     },
     "execution_count": 14,
     "metadata": {},
     "output_type": "execute_result"
    },
    {
     "data": {
      "image/png": "[encoded data removed]",
      "text/plain": [
       "<Figure size 432x288 with 1 Axes>"
      ]
     },
     "metadata": {
      "needs_background": "light"
     },
     "output_type": "display_data"
    }
   ],
   "source": [
    "df = pd.DataFrame.from_dict(data = itog_val, orient='index')\n",
    "\n",
    "df.plot(kind='bar', legend=False)\n",
    "\n",
    "df"
   ]
  },
  {
   "cell_type": "code",
   "execution_count": null,
   "metadata": {},
   "outputs": [],
   "source": []
  }
 ],
 "metadata": {
  "kernelspec": {
   "display_name": "Python 3",
   "language": "python",
   "name": "python3"
  },
  "language_info": {
   "codemirror_mode": {
    "name": "ipython",
    "version": 3
   },
   "file_extension": ".py",
   "mimetype": "text/x-python",
   "name": "python",
   "nbconvert_exporter": "python",
   "pygments_lexer": "ipython3",
   "version": "3.7.4"
  }
 },
 "nbformat": 4,
 "nbformat_minor": 2
}
