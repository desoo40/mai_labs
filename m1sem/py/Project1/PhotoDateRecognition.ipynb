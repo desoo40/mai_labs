{
 "cells": [
  {
   "cell_type": "code",
   "execution_count": 117,
   "metadata": {},
   "outputs": [],
   "source": [
    "# import the necessary packages\n",
    "from imutils.perspective import four_point_transform\n",
    "from imutils import contours\n",
    "import imutils\n",
    "import cv2\n",
    " \n",
    "# define the dictionary of digit segments so we can identify\n",
    "# each digit on the thermostat\n",
    "DIGITS_LOOKUP = {\n",
    "\t(1, 1, 1, 0, 1, 1, 1): 0,\n",
    "\t(0, 0, 1, 0, 0, 1, 0): 1,\n",
    "\t(1, 0, 1, 1, 1, 1, 0): 2,\n",
    "\t(1, 0, 1, 1, 0, 1, 1): 3,\n",
    "\t(0, 1, 1, 1, 0, 1, 0): 4,\n",
    "\t(1, 1, 0, 1, 0, 1, 1): 5,\n",
    "\t(1, 1, 0, 1, 1, 1, 1): 6,\n",
    "\t(1, 0, 1, 0, 0, 1, 0): 7,\n",
    "\t(1, 1, 1, 1, 1, 1, 1): 8,\n",
    "\t(1, 1, 1, 1, 0, 1, 1): 9\n",
    "}"
   ]
  },
  {
   "cell_type": "code",
   "execution_count": 118,
   "metadata": {},
   "outputs": [
    {
     "data": {
      "text/plain": [
       "True"
      ]
     },
     "execution_count": 118,
     "metadata": {},
     "output_type": "execute_result"
    }
   ],
   "source": [
    "# load the example image\n",
    "image = cv2.imread(\"example3.jpg\")\n",
    "image = imutils.resize(image, height=500)\n",
    "cv2.imwrite(\"resize.jpg\", image)\n",
    "cv2.imshow('R-RGB',image[:, :, 2])\n",
    "cv2.imwrite('R-RGB.jpg',image[:, :, 2])"
   ]
  },
  {
   "cell_type": "code",
   "execution_count": 119,
   "metadata": {},
   "outputs": [
    {
     "data": {
      "text/plain": [
       "(500, 2318, 3)"
      ]
     },
     "execution_count": 119,
     "metadata": {},
     "output_type": "execute_result"
    }
   ],
   "source": [
    "image.shape"
   ]
  },
  {
   "cell_type": "code",
   "execution_count": 120,
   "metadata": {},
   "outputs": [
    {
     "data": {
      "text/plain": [
       "True"
      ]
     },
     "execution_count": 120,
     "metadata": {},
     "output_type": "execute_result"
    }
   ],
   "source": [
    "grayimg = cv2.cvtColor(image, cv2.COLOR_BGR2GRAY)\n",
    "thresh = cv2.threshold(grayimg, 0, 255, cv2.THRESH_BINARY_INV | cv2.THRESH_OTSU)[1]\n",
    "kernel = cv2.getStructuringElement(cv2.MORPH_ELLIPSE, (1, 5))\n",
    "thresh = cv2.morphologyEx(thresh, cv2.MORPH_OPEN, kernel)\n",
    "thresh = (255 - thresh)\n",
    "cv2.imwrite(\"thresh.jpg\",thresh)\n"
   ]
  },
  {
   "cell_type": "code",
   "execution_count": 121,
   "metadata": {},
   "outputs": [
    {
     "name": "stdout",
     "output_type": "stream",
     "text": [
      "162 142 50 191\n",
      "925 135 66 198\n",
      "397 128 177 213\n",
      "1109 112 157 243\n",
      "1692 97 158 244\n",
      "1976 88 150 283\n",
      "226 64 62 251\n"
     ]
    }
   ],
   "source": [
    "# find contours in the thresholded image, then initialize the\n",
    "# digit contours lists\n",
    "cnts = cv2.findContours(thresh.copy(), cv2.RETR_EXTERNAL, cv2.CHAIN_APPROX_SIMPLE)\n",
    "cnts = imutils.grab_contours(cnts)\n",
    "digitCnts = []\n",
    "\n",
    "# loop over the digit area candidates\n",
    "for c in cnts:\n",
    "    # compute the bounding box of the contour\n",
    "    (x, y, w, h) = cv2.boundingRect(c)\n",
    "    # if the contour is sufficiently large, it must be a digit\n",
    "    if w >= 50 and (h >= 150 and h <= 350):\n",
    "        digitCnts.append(c)\n",
    "        cv2.imwrite(f\"{x}.jpg\", imutils.resize(image[ y:y+h, x:x+w], height=24, width=24))\n",
    "        cv2.rectangle(image, (x, y), (x+w, y+h), (0, 255, 0), 2) \n",
    "        print(x, y, w, h)"
   ]
  },
  {
   "cell_type": "code",
   "execution_count": 122,
   "metadata": {},
   "outputs": [
    {
     "data": {
      "text/plain": [
       "7"
      ]
     },
     "execution_count": 122,
     "metadata": {},
     "output_type": "execute_result"
    }
   ],
   "source": [
    "len(digitCnts)"
   ]
  },
  {
   "cell_type": "code",
   "execution_count": 123,
   "metadata": {},
   "outputs": [
    {
     "data": {
      "text/plain": [
       "True"
      ]
     },
     "execution_count": 123,
     "metadata": {},
     "output_type": "execute_result"
    }
   ],
   "source": [
    "# imCopy =image.copy()\n",
    "\n",
    "# cv2.drawContours(image, cnts, -1, (0,255,0), 3)\n",
    "cv2.imwrite(\"count.jpg\", image) "
   ]
  },
  {
   "cell_type": "code",
   "execution_count": 124,
   "metadata": {},
   "outputs": [
    {
     "data": {
      "text/plain": [
       "7"
      ]
     },
     "execution_count": 124,
     "metadata": {},
     "output_type": "execute_result"
    }
   ],
   "source": [
    "digitCnts = contours.sort_contours(digitCnts, method=\"left-to-right\")[0]\n",
    "digits = []\n",
    "\n",
    "\n",
    "len(digitCnts)"
   ]
  },
  {
   "cell_type": "code",
   "execution_count": 125,
   "metadata": {},
   "outputs": [
    {
     "name": "stdout",
     "output_type": "stream",
     "text": [
      "[0]\n",
      "[0, 0, 0, 0, 0, 0, 0]\n",
      "[0]\n",
      "[0, 0, 0, 0, 0, 0, 0]\n",
      "[0]\n",
      "[0, 0, 0, 0, 0, 0, 0]\n",
      "[0]\n",
      "[0, 0, 0, 0, 0, 0, 0]\n",
      "[0]\n",
      "[0, 0, 0, 0, 0, 0, 0]\n",
      "[0]\n",
      "[0, 0, 0, 0, 0, 0, 0]\n",
      "[0]\n",
      "[0, 0, 0, 0, 0, 0, 0]\n"
     ]
    }
   ],
   "source": [
    "# loop over each of the digits\n",
    "for c in digitCnts:\n",
    "    # extract the digit ROI\n",
    "    (x, y, w, h) = cv2.boundingRect(c)\n",
    "    roi = thresh[y:y + h, x:x + w]\n",
    "\n",
    "    # compute the width and height of each of the 7 segments\n",
    "    # we are going to examine\n",
    "    (roiH, roiW) = roi.shape\n",
    "    (dW, dH) = (int(roiW * 0.25), int(roiH * 0.15))\n",
    "    dHC = int(roiH * 0.05)\n",
    "\n",
    "    # define the set of 7 segments\n",
    "    segments = [\n",
    "        ((0, 0), (w, dH)),\t# top\n",
    "        ((0, 0), (dW, h // 2)),\t# top-left\n",
    "        ((w - dW, 0), (w, h // 2)),\t# top-right\n",
    "        ((0, (h // 2) - dHC) , (w, (h // 2) + dHC)), # center\n",
    "        ((0, h // 2), (dW, h)),\t# bottom-left\n",
    "        ((w - dW, h // 2), (w, h)),\t# bottom-right\n",
    "        ((0, h - dH), (w, h))\t# bottom\n",
    "    ]\n",
    "    print([0])\n",
    "    on = [0] * len(segments)\n",
    "    print(on)"
   ]
  },
  {
   "cell_type": "code",
   "execution_count": 126,
   "metadata": {},
   "outputs": [
    {
     "data": {
      "text/plain": [
       "[0, 0, 0, 0, 0, 0, 0]"
      ]
     },
     "execution_count": 126,
     "metadata": {},
     "output_type": "execute_result"
    }
   ],
   "source": [
    "on"
   ]
  },
  {
   "cell_type": "code",
   "execution_count": 127,
   "metadata": {},
   "outputs": [
    {
     "name": "stdout",
     "output_type": "stream",
     "text": [
      "[1, 0, 0, 0, 0, 0, 0]\n",
      "[1, 1, 0, 0, 0, 0, 0]\n",
      "[1, 1, 1, 0, 0, 0, 0]\n",
      "[1, 1, 1, 1, 0, 0, 0]\n",
      "[1, 1, 1, 1, 1, 0, 0]\n",
      "[1, 1, 1, 1, 1, 0, 0]\n",
      "[1, 1, 1, 1, 1, 0, 0]\n"
     ]
    },
    {
     "ename": "KeyError",
     "evalue": "(1, 1, 1, 1, 1, 0, 0)",
     "output_type": "error",
     "traceback": [
      "\u001b[1;31m---------------------------------------------------------------------------\u001b[0m",
      "\u001b[1;31mKeyError\u001b[0m                                  Traceback (most recent call last)",
      "\u001b[1;32m<ipython-input-127-db2753bad6d9>\u001b[0m in \u001b[0;36m<module>\u001b[1;34m\u001b[0m\n\u001b[0;32m     14\u001b[0m     \u001b[0mprint\u001b[0m\u001b[1;33m(\u001b[0m\u001b[0mon\u001b[0m\u001b[1;33m)\u001b[0m\u001b[1;33m\u001b[0m\u001b[1;33m\u001b[0m\u001b[0m\n\u001b[0;32m     15\u001b[0m \u001b[1;31m# lookup the digit and draw it on the image\u001b[0m\u001b[1;33m\u001b[0m\u001b[1;33m\u001b[0m\u001b[1;33m\u001b[0m\u001b[0m\n\u001b[1;32m---> 16\u001b[1;33m \u001b[0mdigit\u001b[0m \u001b[1;33m=\u001b[0m \u001b[0mDIGITS_LOOKUP\u001b[0m\u001b[1;33m[\u001b[0m\u001b[0mtuple\u001b[0m\u001b[1;33m(\u001b[0m\u001b[0mon\u001b[0m\u001b[1;33m)\u001b[0m\u001b[1;33m]\u001b[0m\u001b[1;33m\u001b[0m\u001b[1;33m\u001b[0m\u001b[0m\n\u001b[0m\u001b[0;32m     17\u001b[0m \u001b[0mdigits\u001b[0m\u001b[1;33m.\u001b[0m\u001b[0mappend\u001b[0m\u001b[1;33m(\u001b[0m\u001b[0mdigit\u001b[0m\u001b[1;33m)\u001b[0m\u001b[1;33m\u001b[0m\u001b[1;33m\u001b[0m\u001b[0m\n\u001b[0;32m     18\u001b[0m \u001b[0mcv2\u001b[0m\u001b[1;33m.\u001b[0m\u001b[0mrectangle\u001b[0m\u001b[1;33m(\u001b[0m\u001b[0mimage\u001b[0m\u001b[1;33m,\u001b[0m \u001b[1;33m(\u001b[0m\u001b[0mx\u001b[0m\u001b[1;33m,\u001b[0m \u001b[0my\u001b[0m\u001b[1;33m)\u001b[0m\u001b[1;33m,\u001b[0m \u001b[1;33m(\u001b[0m\u001b[0mx\u001b[0m \u001b[1;33m+\u001b[0m \u001b[0mw\u001b[0m\u001b[1;33m,\u001b[0m \u001b[0my\u001b[0m \u001b[1;33m+\u001b[0m \u001b[0mh\u001b[0m\u001b[1;33m)\u001b[0m\u001b[1;33m,\u001b[0m \u001b[1;33m(\u001b[0m\u001b[1;36m0\u001b[0m\u001b[1;33m,\u001b[0m \u001b[1;36m255\u001b[0m\u001b[1;33m,\u001b[0m \u001b[1;36m0\u001b[0m\u001b[1;33m)\u001b[0m\u001b[1;33m,\u001b[0m \u001b[1;36m1\u001b[0m\u001b[1;33m)\u001b[0m\u001b[1;33m\u001b[0m\u001b[1;33m\u001b[0m\u001b[0m\n",
      "\u001b[1;31mKeyError\u001b[0m: (1, 1, 1, 1, 1, 0, 0)"
     ]
    }
   ],
   "source": [
    "# loop over the segments\n",
    "for (i, ((xA, yA), (xB, yB))) in enumerate(segments):\n",
    "    # extract the segment ROI, count the total number of\n",
    "    # thresholded pixels in the segment, and then compute\n",
    "    # the area of the segment\n",
    "    segROI = roi[yA:yB, xA:xB]\n",
    "    total = cv2.countNonZero(segROI)\n",
    "    area = (xB - xA) * (yB - yA)\n",
    "\n",
    "    # if the total number of non-zero pixels is greater than\n",
    "    # 50% of the area, mark the segment as \"on\"\n",
    "    if total / float(area) > 0.5:\n",
    "        on[i]= 1\n",
    "    print(on)\n",
    "# lookup the digit and draw it on the image\n",
    "digit = DIGITS_LOOKUP[tuple(on)]\n",
    "digits.append(digit)\n",
    "cv2.rectangle(image, (x, y), (x + w, y + h), (0, 255, 0), 1)\n",
    "cv2.putText(image, str(digit), (x - 10, y - 10),\n",
    "    cv2.FONT_HERSHEY_SIMPLEX, 0.65, (0, 255, 0), 2)"
   ]
  },
  {
   "cell_type": "code",
   "execution_count": 113,
   "metadata": {},
   "outputs": [],
   "source": [
    "# # pre-process the image by resizing it, converting it to\n",
    "# # graycale, blurring it, and computing an edge map\n",
    "# gray = cv2.cvtColor(image, cv2.COLOR_BGR2GRAY)\n",
    "# blurred = cv2.GaussianBlur(gray, (5, 5), 0)\n",
    "# edged = cv2.Canny(blurred, 50, 200, 255)"
   ]
  },
  {
   "cell_type": "code",
   "execution_count": 128,
   "metadata": {},
   "outputs": [
    {
     "data": {
      "text/plain": [
       "0"
      ]
     },
     "execution_count": 128,
     "metadata": {},
     "output_type": "execute_result"
    }
   ],
   "source": [
    "len(digits)"
   ]
  },
  {
   "cell_type": "code",
   "execution_count": 129,
   "metadata": {},
   "outputs": [
    {
     "data": {
      "text/plain": [
       "True"
      ]
     },
     "execution_count": 129,
     "metadata": {},
     "output_type": "execute_result"
    }
   ],
   "source": [
    "cv2.imwrite(\"result.jpg\", image) "
   ]
  },
  {
   "cell_type": "code",
   "execution_count": 130,
   "metadata": {},
   "outputs": [
    {
     "name": "stdout",
     "output_type": "stream",
     "text": [
      "[]\n"
     ]
    }
   ],
   "source": [
    "print(digits)"
   ]
  },
  {
   "cell_type": "code",
   "execution_count": null,
   "metadata": {},
   "outputs": [],
   "source": []
  }
 ],
 "metadata": {
  "kernelspec": {
   "display_name": "Python 3",
   "language": "python",
   "name": "python3"
  },
  "language_info": {
   "codemirror_mode": {
    "name": "ipython",
    "version": 3
   },
   "file_extension": ".py",
   "mimetype": "text/x-python",
   "name": "python",
   "nbconvert_exporter": "python",
   "pygments_lexer": "ipython3",
   "version": "3.7.4"
  }
 },
 "nbformat": 4,
 "nbformat_minor": 2
}
