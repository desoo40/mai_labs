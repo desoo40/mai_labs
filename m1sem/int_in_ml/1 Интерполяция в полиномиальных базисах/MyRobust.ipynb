{
 "cells": [
  {
   "cell_type": "code",
   "execution_count": 19,
   "metadata": {},
   "outputs": [],
   "source": [
    "%matplotlib inline\n",
    "\n",
    "import numpy as np\n",
    "import scipy.linalg as la\n",
    "import scipy.interpolate as interp\n",
    "import scipy.integrate as integrate\n",
    "import matplotlib as mpl\n",
    "import matplotlib.pyplot as plt\n",
    "import sympy\n",
    "\n",
    "default_dpi = mpl.rcParamsDefault['figure.dpi']\n",
    "factor = 1\n",
    "mpl.rcParams['figure.dpi'] = default_dpi * factor"
   ]
  },
  {
   "cell_type": "code",
   "execution_count": 20,
   "metadata": {},
   "outputs": [
    {
     "data": {
      "text/plain": [
       "[<matplotlib.lines.Line2D at 0xe81c50>]"
      ]
     },
     "execution_count": 20,
     "metadata": {},
     "output_type": "execute_result"
    },
    {
     "data": {
      "image/png": "[encoded data removed]",
      "text/plain": [
       "<Figure size 600x400 with 1 Axes>"
      ]
     },
     "metadata": {
      "needs_background": "light"
     },
     "output_type": "display_data"
    }
   ],
   "source": [
    "xleft = -3\n",
    "xright = 6\n",
    "n = 24\n",
    "x = np.linspace(xleft,xright,n)\n",
    "yf = np.zeros ((n))\n",
    "y = np.zeros ((n))\n",
    "yf = -1. + 0.5*x\n",
    "plt.plot (x,yf, 'o')"
   ]
  },
  {
   "cell_type": "code",
   "execution_count": 21,
   "metadata": {},
   "outputs": [
    {
     "name": "stdout",
     "output_type": "stream",
     "text": [
      "5.0\n"
     ]
    },
    {
     "data": {
      "image/png": "[encoded data removed]",
      "text/plain": [
       "<Figure size 600x400 with 1 Axes>"
      ]
     },
     "metadata": {
      "needs_background": "light"
     },
     "output_type": "display_data"
    }
   ],
   "source": [
    "Delta = 0.5 * np.random.randn(len(x))\n",
    "y = yf + Delta\n",
    "y_av = np.sum(y)/len(x)\n",
    "\n",
    "y [10] = 5.\n",
    "y [20] = 7.\n",
    "\n",
    "plt.plot (x, y, 'o')\n",
    "\n",
    "print (y[10])"
   ]
  },
  {
   "cell_type": "code",
   "execution_count": 22,
   "metadata": {},
   "outputs": [],
   "source": [
    "def BasicFunctions (num, x):\n",
    "    PhiFun = x**num\n",
    "    return PhiFun"
   ]
  },
  {
   "cell_type": "code",
   "execution_count": 23,
   "metadata": {},
   "outputs": [],
   "source": [
    "def r(pha, y):\n",
    "    return abs(pha - y)\n",
    "\n",
    "\n",
    "def SqLeastRegMy1(x, y, m, alpha):\n",
    "    global G, Phi\n",
    "    \n",
    "    n = len(x)\n",
    "    \n",
    "    Phi = np.zeros ((n,m+1))\n",
    "    \n",
    "    for k in range (0, m+1):\n",
    "        Phi[:,k] = BasicFunctions (k, x)\n",
    "    \n",
    "    PhiT = Phi.T\n",
    "    \n",
    "    a = np.linalg.solve(PhiT @ Phi, PhiT @ y)\n",
    "    \n",
    "    eps = 0.001\n",
    "    \n",
    "    for i in range(0, 10):\n",
    "        \n",
    "        a_i = a\n",
    "        \n",
    "        R = np.zeros((n, n))\n",
    "        \n",
    "        for j in (0, n - 1):\n",
    "            R[j, j] = r((Phi @ a_i)[j], y[j]) / ((Phi @ a_i)[j] - y[j])**2\n",
    "\n",
    "        \n",
    "        a = np.linalg.solve(PhiT @ R @ Phi, PhiT @ R @ y)\n",
    "        e = a - a_i\n",
    "        epsit = (sum(e**2))**0.5/len(e)\n",
    "        \n",
    "        print ('iteration', i, a, np.sign(a), epsit)\n",
    "        \n",
    "        if (epsit <= eps):\n",
    "            break\n",
    "         \n",
    "    return a"
   ]
  },
  {
   "cell_type": "code",
   "execution_count": 24,
   "metadata": {},
   "outputs": [
    {
     "name": "stdout",
     "output_type": "stream",
     "text": [
      "iteration 0 [-0.80555867  0.50379685] [-1.  1.] 0.04189203276276808\n",
      "iteration 1 [nan nan] [nan nan] nan\n",
      "iteration 2 [nan nan] [nan nan] nan\n",
      "iteration 3 [nan nan] [nan nan] nan\n",
      "iteration 4 [nan nan] [nan nan] nan\n",
      "iteration 5 [nan nan] [nan nan] nan\n",
      "iteration 6 [nan nan] [nan nan] nan\n",
      "iteration 7 [nan nan] [nan nan] nan\n",
      "iteration 8 [nan nan] [nan nan] nan\n",
      "iteration 9 [nan nan] [nan nan] nan\n",
      "Коэффициенты [nan nan]\n"
     ]
    },
    {
     "name": "stderr",
     "output_type": "stream",
     "text": [
      "c:\\program files (x86)\\python37-32\\lib\\site-packages\\ipykernel_launcher.py:28: RuntimeWarning: invalid value encountered in double_scalars\n",
      "c:\\program files (x86)\\python37-32\\lib\\site-packages\\ipykernel_launcher.py:35: RuntimeWarning: invalid value encountered in sign\n"
     ]
    },
    {
     "ename": "NameError",
     "evalue": "name 'G' is not defined",
     "output_type": "error",
     "traceback": [
      "\u001b[1;31m---------------------------------------------------------------------------\u001b[0m",
      "\u001b[1;31mNameError\u001b[0m                                 Traceback (most recent call last)",
      "\u001b[1;32m<ipython-input-24-8721a61863bf>\u001b[0m in \u001b[0;36m<module>\u001b[1;34m\u001b[0m\n\u001b[0;32m      4\u001b[0m \u001b[0mprint\u001b[0m \u001b[1;33m(\u001b[0m\u001b[1;34m'Коэффициенты'\u001b[0m\u001b[1;33m,\u001b[0m \u001b[0mPolynomCoefs\u001b[0m\u001b[1;33m)\u001b[0m\u001b[1;33m\u001b[0m\u001b[1;33m\u001b[0m\u001b[0m\n\u001b[0;32m      5\u001b[0m \u001b[1;33m\u001b[0m\u001b[0m\n\u001b[1;32m----> 6\u001b[1;33m \u001b[0mcond\u001b[0m \u001b[1;33m=\u001b[0m \u001b[0mnp\u001b[0m\u001b[1;33m.\u001b[0m\u001b[0mlinalg\u001b[0m\u001b[1;33m.\u001b[0m\u001b[0mcond\u001b[0m \u001b[1;33m(\u001b[0m\u001b[0mG\u001b[0m\u001b[1;33m)\u001b[0m\u001b[1;33m\u001b[0m\u001b[1;33m\u001b[0m\u001b[0m\n\u001b[0m\u001b[0;32m      7\u001b[0m \u001b[0mcondPhi\u001b[0m \u001b[1;33m=\u001b[0m \u001b[0mnp\u001b[0m\u001b[1;33m.\u001b[0m\u001b[0mlinalg\u001b[0m\u001b[1;33m.\u001b[0m\u001b[0mcond\u001b[0m \u001b[1;33m(\u001b[0m\u001b[0mPhi\u001b[0m\u001b[1;33m)\u001b[0m\u001b[1;33m\u001b[0m\u001b[1;33m\u001b[0m\u001b[0m\n\u001b[0;32m      8\u001b[0m \u001b[0mEigG\u001b[0m \u001b[1;33m=\u001b[0m \u001b[0mnp\u001b[0m\u001b[1;33m.\u001b[0m\u001b[0mlinalg\u001b[0m\u001b[1;33m.\u001b[0m\u001b[0meigvals\u001b[0m \u001b[1;33m(\u001b[0m\u001b[0mG\u001b[0m\u001b[1;33m)\u001b[0m\u001b[1;33m\u001b[0m\u001b[1;33m\u001b[0m\u001b[0m\n",
      "\u001b[1;31mNameError\u001b[0m: name 'G' is not defined"
     ]
    }
   ],
   "source": [
    "m = 1\n",
    "\n",
    "PolynomCoefs = SqLeastRegMy1 (x, y, m, 1)\n",
    "print ('Коэффициенты', PolynomCoefs)\n",
    "\n",
    "cond = np.linalg.cond (G)\n",
    "condPhi = np.linalg.cond (Phi)\n",
    "EigG = np.linalg.eigvals (G)\n",
    "print ('Числа обусловленности матриц G и Phi', cond, condPhi)\n",
    "\n",
    "PolynomValue = np.zeros(len(x))\n",
    "\n",
    "for i in range (0, m+1):\n",
    "    PolynomValue += PolynomCoefs[i]*x**i\n",
    "    \n",
    "plt.plot (x, y, 'o')\n",
    "plt.plot (x, PolynomValue)"
   ]
  },
  {
   "cell_type": "code",
   "execution_count": null,
   "metadata": {},
   "outputs": [],
   "source": []
  },
  {
   "cell_type": "code",
   "execution_count": null,
   "metadata": {},
   "outputs": [],
   "source": []
  },
  {
   "cell_type": "code",
   "execution_count": null,
   "metadata": {},
   "outputs": [],
   "source": []
  },
  {
   "cell_type": "code",
   "execution_count": null,
   "metadata": {},
   "outputs": [],
   "source": []
  }
 ],
 "metadata": {
  "kernelspec": {
   "display_name": "Python 3",
   "language": "python",
   "name": "python3"
  },
  "language_info": {
   "codemirror_mode": {
    "name": "ipython",
    "version": 3
   },
   "file_extension": ".py",
   "mimetype": "text/x-python",
   "name": "python",
   "nbconvert_exporter": "python",
   "pygments_lexer": "ipython3",
   "version": "3.7.4"
  }
 },
 "nbformat": 4,
 "nbformat_minor": 2
}
