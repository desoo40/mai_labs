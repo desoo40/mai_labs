{
 "cells": [
  {
   "cell_type": "markdown",
   "metadata": {},
   "source": [
    "## Тема 2. Сглаживающая аппроксимация в полиномиальных базисах. Продолжение."
   ]
  },
  {
   "cell_type": "code",
   "execution_count": 3,
   "metadata": {},
   "outputs": [],
   "source": [
    "%matplotlib inline\n",
    "\n",
    "import numpy as np\n",
    "import scipy.linalg as la\n",
    "import scipy.interpolate as interp\n",
    "import scipy.integrate as integrate\n",
    "import matplotlib as mpl\n",
    "import matplotlib.pyplot as plt\n",
    "import sympy\n",
    "\n",
    "default_dpi = mpl.rcParamsDefault['figure.dpi']\n",
    "factor = 1\n",
    "mpl.rcParams['figure.dpi'] = default_dpi * factor"
   ]
  },
  {
   "cell_type": "markdown",
   "metadata": {},
   "source": [
    "### Функции вычисления коэффициентов разложения"
   ]
  },
  {
   "cell_type": "code",
   "execution_count": 4,
   "metadata": {},
   "outputs": [],
   "source": [
    "# x(n), y(n) - массив данных\n",
    "# m - степень полинома (количество базисных функций - 1)\n",
    "\n",
    "def SqLeast (x, y, m):\n",
    "    global G, Phi\n",
    "    n = len(x)\n",
    "    Phi = np.zeros ((n,m+1))\n",
    "    for k in range (0, m+1):\n",
    "        Phi[:,k] = BasicFunctions (k, x)\n",
    "    PhiT = Phi.T\n",
    "    G = PhiT @ Phi\n",
    "    z = PhiT @ y\n",
    "    a = np.linalg.solve(G, z)\n",
    "    return a\n",
    "\n",
    "def SqLeastReg (x, y, m, alpha):\n",
    "    global G\n",
    "    n = len(x)\n",
    "    Phi = np.zeros ((n,m+1))\n",
    "    for k in range (0, m+1):\n",
    "        Phi[:,k] = BasicFunctions (k, x)\n",
    "    PhiT = Phi.T\n",
    "    \n",
    "    RegAlpha = np.eye (m+1) * alpha\n",
    "        \n",
    "    G = PhiT @ Phi + RegAlpha \n",
    "    z = PhiT @ y\n",
    "    a = np.linalg.solve(G, z)\n",
    "    return a\n",
    "\n",
    "def BasicFunctions (num, x):\n",
    "    PhiFun = x**num\n",
    "    return PhiFun"
   ]
  },
  {
   "cell_type": "markdown",
   "metadata": {},
   "source": [
    "### Функция вычисления погрешности аппроксимации"
   ]
  },
  {
   "cell_type": "code",
   "execution_count": 5,
   "metadata": {},
   "outputs": [],
   "source": [
    "def AppError (x,y,Coefs):\n",
    "    \n",
    "    PolynomValue = np.zeros(len(x))\n",
    "    for i in range (0, m+1):\n",
    "        PolynomValue += Coefs[i]*x**i\n",
    "   \n",
    "    y_av = np.sum(y)/len(x)\n",
    "    y_disp = np.sum((y-y_av)**2)/len(x)\n",
    "    \n",
    "    ResLocal = (y - PolynomValue)\n",
    "    ResLocalRel = ResLocal/y_disp**0.5\n",
    "    ResGlobal = (np.sum ((ResLocal)**2)/len(x))**0.5\n",
    "    ResGlobalRel = ResGlobal / y_disp**0.5\n",
    "    \n",
    "    yv_disp = np.sum((PolynomValue-y_av)**2)/len(x)\n",
    "    \n",
    "    R2 = yv_disp/y_disp\n",
    "        \n",
    "    return ResLocal, ResLocalRel, ResGlobal, ResGlobalRel\n",
    "\n",
    "def R2 (x, y, Coefs):\n",
    "    PolynomValue = np.zeros(len(x))\n",
    "    \n",
    "    for i in range (0, m+1):\n",
    "        PolynomValue += Coefs[i]*x**i\n",
    "   \n",
    "    y_av = np.sum(y)/len(x)\n",
    "    y_disp = np.sum((y-y_av)**2)/len(x)    \n",
    "      \n",
    "    yv_disp = np.sum((PolynomValue-y_av)**2)/len(x)\n",
    "    \n",
    "    R2 = yv_disp/y_disp\n",
    "        \n",
    "    return R2"
   ]
  },
  {
   "cell_type": "markdown",
   "metadata": {},
   "source": [
    "### Формирование набора данных"
   ]
  },
  {
   "cell_type": "code",
   "execution_count": 6,
   "metadata": {},
   "outputs": [
    {
     "data": {
      "text/plain": [
       "[<matplotlib.lines.Line2D at 0xddaed30>]"
      ]
     },
     "execution_count": 6,
     "metadata": {},
     "output_type": "execute_result"
    },
    {
     "data": {
      "image/png": "[encoded data removed]",
      "text/plain": [
       "<Figure size 432x288 with 1 Axes>"
      ]
     },
     "metadata": {
      "needs_background": "light"
     },
     "output_type": "display_data"
    }
   ],
   "source": [
    "xleft = -3\n",
    "xright = 6\n",
    "n = 24\n",
    "x = np.linspace(xleft,xright,n)\n",
    "yf = np.zeros ((n))\n",
    "y = np.zeros ((n))\n",
    "for i in range(0,n):\n",
    "    if (x[i]<0) :\n",
    "        yf[i] = 1.0*x[i] + 0.5*np.sin(2*x[i])\n",
    "    elif (x[i]<np.pi):\n",
    "        yf[i] = 1.0*x[i] + 1.0*np.sin(2*x[i])\n",
    "    else:\n",
    "        yf[i] = 1.0*x[i] + 2.0*np.sin(2*x[i])\n",
    "plt.plot (x,yf, 'o')"
   ]
  },
  {
   "cell_type": "markdown",
   "metadata": {},
   "source": [
    "### Зашумление данных"
   ]
  },
  {
   "cell_type": "code",
   "execution_count": 7,
   "metadata": {},
   "outputs": [
    {
     "data": {
      "text/plain": [
       "[<matplotlib.lines.Line2D at 0xde1c8f0>]"
      ]
     },
     "execution_count": 7,
     "metadata": {},
     "output_type": "execute_result"
    },
    {
     "data": {
      "image/png": "[encoded data removed]",
      "text/plain": [
       "<Figure size 432x288 with 1 Axes>"
      ]
     },
     "metadata": {
      "needs_background": "light"
     },
     "output_type": "display_data"
    }
   ],
   "source": [
    "Delta = 0.5 * np.random.randn(len(x))\n",
    "y = yf + Delta\n",
    "plt.plot (x, y, 'o')"
   ]
  },
  {
   "cell_type": "markdown",
   "metadata": {},
   "source": [
    "### Построение аппроксимационного полинома и оценка погрешности аппроксимации"
   ]
  },
  {
   "cell_type": "code",
   "execution_count": 8,
   "metadata": {},
   "outputs": [
    {
     "name": "stdout",
     "output_type": "stream",
     "text": [
      "Коэффициенты [ 7.77749557e-02  3.17942578e+00 -1.35737669e-01 -1.43637814e+00\n",
      "  1.25801806e-01  2.41692009e-01 -3.20652693e-02 -1.28531129e-02\n",
      "  2.34688978e-03  6.25448921e-05 -2.01829318e-05]\n",
      "Число обусловленности 6281660001150856.0 79261668.16947378\n",
      "Максимальное и минимальное собственные значения G 5032160201183615.0 0.8011434992681011\n"
     ]
    },
    {
     "data": {
      "text/plain": [
       "[<matplotlib.lines.Line2D at 0xde6fa70>]"
      ]
     },
     "execution_count": 8,
     "metadata": {},
     "output_type": "execute_result"
    },
    {
     "data": {
      "image/png": "[encoded data removed]",
      "text/plain": [
       "<Figure size 432x288 with 1 Axes>"
      ]
     },
     "metadata": {
      "needs_background": "light"
     },
     "output_type": "display_data"
    }
   ],
   "source": [
    "m = 10\n",
    "\n",
    "PolynomCoefs = SqLeast (x, y, m)\n",
    "print ('Коэффициенты', PolynomCoefs)\n",
    "\n",
    "#print ('Gmatrix',G)\n",
    "cond = np.linalg.cond (G)\n",
    "condPhi = np.linalg.cond (Phi)\n",
    "EigG = np.linalg.eigvals (G)\n",
    "print ('Число обусловленности', cond, condPhi)\n",
    "print ('Максимальное и минимальное собственные значения G', max (EigG), min (EigG))\n",
    "\n",
    "PolynomValue = np.zeros(len(x))\n",
    "for i in range (0, m+1):\n",
    "    PolynomValue += PolynomCoefs[i]*x**i   \n",
    "\n",
    "ResLocal, ResLocalRel, ResGlobal, ResGlobalRel = AppError (x,y,PolynomCoefs)\n",
    "\n",
    "plt.plot (x, y, 'o')\n",
    "plt.plot (x, PolynomValue)"
   ]
  },
  {
   "cell_type": "markdown",
   "metadata": {},
   "source": [
    "### Оценка погрешности"
   ]
  },
  {
   "cell_type": "code",
   "execution_count": 9,
   "metadata": {},
   "outputs": [
    {
     "name": "stdout",
     "output_type": "stream",
     "text": [
      "Погрешность аппроксимации\n",
      "Суммарная абсолютная, cуммарная относительная, коэффициент детерминации\n",
      "0.3579080676236081 0.14221918707532383 0.9797737027411502\n",
      "0.9999999999135161\n"
     ]
    },
    {
     "data": {
      "image/png": "[encoded data removed]",
      "text/plain": [
       "<Figure size 432x288 with 1 Axes>"
      ]
     },
     "metadata": {
      "needs_background": "light"
     },
     "output_type": "display_data"
    }
   ],
   "source": [
    "ResLocal, ResLocalRel, ResGlobal, ResGlobalRel = AppError (x,y,PolynomCoefs)\n",
    "R2 = R2 (x,y,PolynomCoefs)\n",
    "plt.plot (x, ResLocal, 'o')\n",
    "print ('Погрешность аппроксимации')\n",
    "print ('Суммарная абсолютная, cуммарная относительная, коэффициент детерминации')\n",
    "print (ResGlobal, ResGlobalRel, R2)\n",
    "print (ResGlobalRel**2+R2)"
   ]
  },
  {
   "cell_type": "markdown",
   "metadata": {},
   "source": [
    "### Разделение данных на обучающий и тестовый наборы"
   ]
  },
  {
   "cell_type": "code",
   "execution_count": 10,
   "metadata": {},
   "outputs": [
    {
     "name": "stdout",
     "output_type": "stream",
     "text": [
      "[12 16  3  7 17 11]\n",
      "0.38438012692790247 0.4316321362537705\n"
     ]
    },
    {
     "data": {
      "text/plain": [
       "[<matplotlib.lines.Line2D at 0xdf1a710>]"
      ]
     },
     "execution_count": 10,
     "metadata": {},
     "output_type": "execute_result"
    },
    {
     "data": {
      "image/png": "[encoded data removed]",
      "text/plain": [
       "<Figure size 432x288 with 2 Axes>"
      ]
     },
     "metadata": {
      "needs_background": "light"
     },
     "output_type": "display_data"
    }
   ],
   "source": [
    "n = len(x)\n",
    "ntest = int (n/4)\n",
    "ntrain = n - ntest\n",
    "xtrain = np.zeros (ntrain)\n",
    "xtest = np.zeros (ntest)\n",
    "ytrain = np.zeros (ntrain)\n",
    "ytest = np.zeros (ntest)\n",
    "#indtest = np.random.random_integers(0,n, ntest)\n",
    "indtest = np.random.choice (len(x), ntest, replace = False)\n",
    "print (indtest)\n",
    "\n",
    "itest = -1\n",
    "itrain = -1\n",
    "for i in range (0,n):\n",
    "    \n",
    "    ktest = 0\n",
    "    \n",
    "    for k in range (0, ntest): \n",
    "        if (i==indtest[k]):\n",
    "            itest += 1\n",
    "            xtest [itest] = x[i]\n",
    "            ytest [itest] = y[i]\n",
    "            ktest = 1\n",
    "            \n",
    "    if (ktest !=1 ):\n",
    "        itrain += 1\n",
    "        xtrain [itrain] = x[i]\n",
    "        ytrain [itrain] = y[i]\n",
    "             \n",
    "#print (xtest)\n",
    "#print (xtrain)\n",
    "\n",
    "PolynomCoefsTrain = SqLeast (xtrain, ytrain, m)\n",
    "    \n",
    "ResLocalTrain, ResLocalRelTrain, ResGlobalTrain, ResGlobalRelTrain = AppError (xtrain,ytrain,PolynomCoefsTrain)\n",
    "ResLocalTest, ResLocalRelTest, ResGlobalTest, ResGlobalRelTest = AppError (xtest,ytest,PolynomCoefsTrain)    \n",
    "    \n",
    "print (ResGlobalTrain, ResGlobalTest)\n",
    " \n",
    "plt.subplot (2,1,1)\n",
    "plt.plot (xtrain, ResLocalTrain, 'o')\n",
    "plt.subplot (2,1,2)\n",
    "plt.plot (xtrain, ResLocalTrain, 'o')\n",
    "plt.plot (xtest, ResLocalTest, '*')\n",
    "#num_bins = 20\n",
    "#plt.hist(ErrorLocalTrain, num_bins, density=1)"
   ]
  },
  {
   "cell_type": "markdown",
   "metadata": {},
   "source": [
    "### Проблема обусловленности"
   ]
  },
  {
   "cell_type": "code",
   "execution_count": 11,
   "metadata": {},
   "outputs": [
    {
     "name": "stdout",
     "output_type": "stream",
     "text": [
      "[[1.         0.5        0.33333333 0.25      ]\n",
      " [0.5        0.33333333 0.25       0.2       ]\n",
      " [0.33333333 0.25       0.2        0.16666667]\n",
      " [0.25       0.2        0.16666667 0.14285714]]\n",
      "Eigen values [1.50021428e+00 1.69141220e-01 6.73827361e-03 9.67023040e-05]\n",
      "b [0.25       0.58333333 0.91666667 1.25      ]\n",
      "solution [ -21.  295. -825.  595.]\n",
      "Residual [ 0.00000000e+00  9.54791801e-15 -9.43689571e-15  1.42108547e-14]\n",
      "cond 15513.738738928138 15613.793559642725 15513.738738933438\n",
      "b [0.24608813 0.58305291 0.91853936 1.24644659]\n",
      "solution [ -20.08201666  284.10693104 -798.12236849  577.26171508]\n",
      "residual [ 1.05471187e-15  3.88578059e-15 -1.01030295e-14  1.33226763e-14]\n"
     ]
    }
   ],
   "source": [
    "n = 4\n",
    "# Формирование матрицы Гильберта\n",
    "MM = np.zeros ((n,n))\n",
    "for i in range (0,n):\n",
    "    for j in range (0,n):\n",
    "        MM[i,j]=1/(i+j+1) #*10.\n",
    "print (MM)\n",
    "# Нахождение собственных значений матрицы\n",
    "Evv = np.linalg.eigvals (MM)\n",
    "print ('Eigen values', Evv)\n",
    "# Формирование правой части\n",
    "b = np.linspace (1,5,n)/n\n",
    "print ('b',b)\n",
    "# Нахождение решения системы уравнений\n",
    "xx = np.linalg.solve(MM, b)\n",
    "print ('solution',xx)\n",
    "# Вычиление невязки\n",
    "res = MM @ xx - b\n",
    "print ('Residual', res)\n",
    "\n",
    "MMinv = np.linalg.inv(MM)\n",
    "normb = np.linalg.norm (b)\n",
    "normM = np.linalg.norm (MM)\n",
    "normMi = np.linalg.norm (MMinv)\n",
    "normx = np.linalg.norm (xx)\n",
    "\n",
    "#число обусловленности\n",
    "cond = np.linalg.cond (MM)\n",
    "print ('cond', cond, normM * normMi, max(Evv)/min(Evv))\n",
    "\n",
    "#возмущение правой части\n",
    "Del = (np.random.random(n)- 0.5) * 0.01\n",
    "normDel = np.linalg.norm (Del)\n",
    "b2 = b + Del\n",
    "# Решение возмущенной системы\n",
    "xx2 = np.linalg.solve(MM, b2)\n",
    "print ('b', b2, )\n",
    "print ('solution', xx2)\n",
    "dx = xx-xx2\n",
    "normdx = np.linalg.norm (dx)\n",
    "res = MM @ xx2 - b2\n",
    "print ('residual', res)"
   ]
  },
  {
   "cell_type": "markdown",
   "metadata": {},
   "source": [
    "## Пример 3"
   ]
  },
  {
   "cell_type": "code",
   "execution_count": 15,
   "metadata": {},
   "outputs": [],
   "source": [
    "def SqLeastRegMy(x, y, m, alpha):\n",
    "    global G, Phi\n",
    "    \n",
    "    n = len(x)\n",
    "    \n",
    "    Phi = np.zeros ((n,m+1))\n",
    "    \n",
    "    for k in range (0, m+1):\n",
    "        Phi[:,k] = BasicFunctions (k, x)\n",
    "    \n",
    "    PhiT = Phi.T\n",
    "    \n",
    "    G = PhiT @ Phi\n",
    "    z = PhiT @ y\n",
    "    a = np.linalg.solve(G, z)\n",
    "    \n",
    "    eps = 0.001\n",
    "    \n",
    "    for i in range(0, 10):\n",
    "        \n",
    "        a_i = a\n",
    "        a = np.linalg.solve(G, z - alpha* np.sign(a_i))\n",
    "        e = a - a_i\n",
    "        epsit = (sum(e**2))**0.5/len(e)\n",
    "        \n",
    "        print ('iteration', i, a, np.sign(a), epsit)\n",
    "        \n",
    "        if (epsit <= eps):\n",
    "            break\n",
    "         \n",
    "    return a"
   ]
  },
  {
   "cell_type": "code",
   "execution_count": 23,
   "metadata": {
    "scrolled": true
   },
   "outputs": [
    {
     "name": "stdout",
     "output_type": "stream",
     "text": [
      "Коэффициенты точные [-5  4 -3  2 -1  0  0  0  0  1 -3  4 -5  6 -8]\n",
      "Коэффициенты МНК [-5.00122946e+00  1.06059087e+01 -1.21077763e+02  8.48111933e+02\n",
      " -3.24919031e+03  7.34830264e+03 -1.01128713e+04  8.25437452e+03\n",
      " -3.34677599e+03 -1.43480062e+02  7.91897644e+02 -3.12153750e+02\n",
      "  2.32802375e+01  1.59732085e+01 -9.95928989e+00]\n",
      "1.5754259699863257e+20\n",
      "iteration 0 [ 8.40925418e+00 -2.20321493e+05  5.79600901e+06 -5.80716609e+07\n",
      "  3.02609306e+08 -9.32180403e+08  1.80425556e+09 -2.23451531e+09\n",
      "  1.71164032e+09 -6.73287621e+08 -3.97492984e+07  1.89219840e+08\n",
      " -9.53742832e+07  2.18903228e+07 -2.01249455e+06] [ 1. -1.  1. -1.  1. -1.  1. -1.  1. -1. -1.  1. -1.  1. -1.] 237041285.44150156\n",
      "iteration 1 [ 1.48416887e+01  2.12206422e+05 -5.74322186e+06  5.87866242e+07\n",
      " -3.11149197e+08  9.68663759e+08 -1.88548366e+09  2.33371181e+09\n",
      " -1.76483120e+09  6.52585428e+08  9.52497424e+07 -2.30730458e+08\n",
      "  1.11735166e+08 -2.53224010e+07  2.31544849e+06] [ 1.  1. -1.  1. -1.  1. -1.  1. -1.  1.  1. -1.  1. -1.  1.] 483368230.46644855\n",
      "iteration 2 [-2.48649021e+01 -2.12184673e+05  5.74297398e+06 -5.87848943e+07\n",
      "  3.11142574e+08 -9.68648751e+08  1.88546289e+09 -2.33369465e+09\n",
      "  1.76482396e+09 -6.52585405e+08 -9.52482647e+07  2.30729849e+08\n",
      " -1.11735116e+08  2.53224314e+07 -2.31546823e+06] [-1. -1.  1. -1.  1. -1.  1. -1.  1. -1. -1.  1. -1.  1. -1.] 492714927.0078896\n",
      "iteration 3 [ 1.48625113e+01  2.12205907e+05 -5.74321687e+06  5.87865990e+07\n",
      " -3.11149122e+08  9.68663616e+08 -1.88548348e+09  2.33371168e+09\n",
      " -1.76483115e+09  6.52585423e+08  9.52497343e+07 -2.30730454e+08\n",
      "  1.11735165e+08 -2.53224010e+07  2.31544850e+06] [ 1.  1. -1.  1. -1.  1. -1.  1. -1.  1.  1. -1.  1. -1.  1.] 492714910.576688\n",
      "iteration 4 [-2.48649021e+01 -2.12184673e+05  5.74297398e+06 -5.87848943e+07\n",
      "  3.11142574e+08 -9.68648751e+08  1.88546289e+09 -2.33369465e+09\n",
      "  1.76482396e+09 -6.52585405e+08 -9.52482647e+07  2.30729849e+08\n",
      " -1.11735116e+08  2.53224314e+07 -2.31546823e+06] [-1. -1.  1. -1.  1. -1.  1. -1.  1. -1. -1.  1. -1.  1. -1.] 492714910.576688\n",
      "iteration 5 [ 1.48625113e+01  2.12205907e+05 -5.74321687e+06  5.87865990e+07\n",
      " -3.11149122e+08  9.68663616e+08 -1.88548348e+09  2.33371168e+09\n",
      " -1.76483115e+09  6.52585423e+08  9.52497343e+07 -2.30730454e+08\n",
      "  1.11735165e+08 -2.53224010e+07  2.31544850e+06] [ 1.  1. -1.  1. -1.  1. -1.  1. -1.  1.  1. -1.  1. -1.  1.] 492714910.576688\n",
      "iteration 6 [-2.48649021e+01 -2.12184673e+05  5.74297398e+06 -5.87848943e+07\n",
      "  3.11142574e+08 -9.68648751e+08  1.88546289e+09 -2.33369465e+09\n",
      "  1.76482396e+09 -6.52585405e+08 -9.52482647e+07  2.30729849e+08\n",
      " -1.11735116e+08  2.53224314e+07 -2.31546823e+06] [-1. -1.  1. -1.  1. -1.  1. -1.  1. -1. -1.  1. -1.  1. -1.] 492714910.576688\n",
      "iteration 7 [ 1.48625113e+01  2.12205907e+05 -5.74321687e+06  5.87865990e+07\n",
      " -3.11149122e+08  9.68663616e+08 -1.88548348e+09  2.33371168e+09\n",
      " -1.76483115e+09  6.52585423e+08  9.52497343e+07 -2.30730454e+08\n",
      "  1.11735165e+08 -2.53224010e+07  2.31544850e+06] [ 1.  1. -1.  1. -1.  1. -1.  1. -1.  1.  1. -1.  1. -1.  1.] 492714910.576688\n",
      "iteration 8 [-2.48649021e+01 -2.12184673e+05  5.74297398e+06 -5.87848943e+07\n",
      "  3.11142574e+08 -9.68648751e+08  1.88546289e+09 -2.33369465e+09\n",
      "  1.76482396e+09 -6.52585405e+08 -9.52482647e+07  2.30729849e+08\n",
      " -1.11735116e+08  2.53224314e+07 -2.31546823e+06] [-1. -1.  1. -1.  1. -1.  1. -1.  1. -1. -1.  1. -1.  1. -1.] 492714910.576688\n",
      "iteration 9 [ 1.48625113e+01  2.12205907e+05 -5.74321687e+06  5.87865990e+07\n",
      " -3.11149122e+08  9.68663616e+08 -1.88548348e+09  2.33371168e+09\n",
      " -1.76483115e+09  6.52585423e+08  9.52497343e+07 -2.30730454e+08\n",
      "  1.11735165e+08 -2.53224010e+07  2.31544850e+06] [ 1.  1. -1.  1. -1.  1. -1.  1. -1.  1.  1. -1.  1. -1.  1.] 492714910.576688\n",
      "Коэффициенты МНК с регуляризацией [ 1.48625113e+01  2.12205907e+05 -5.74321687e+06  5.87865990e+07\n",
      " -3.11149122e+08  9.68663616e+08 -1.88548348e+09  2.33371168e+09\n",
      " -1.76483115e+09  6.52585423e+08  9.52497343e+07 -2.30730454e+08\n",
      "  1.11735165e+08 -2.53224010e+07  2.31544850e+06]\n",
      "1.5754259699863257e+20\n",
      "s [2.24642583e+04 5.56763047e+02 3.69725481e+01 6.46232962e+00\n",
      " 3.00642208e+00 1.12917875e+00 3.60681989e-01 1.00343241e-01\n",
      " 2.44735155e-02 5.19609434e-03 9.45114791e-04 1.43371297e-04\n",
      " 1.73774536e-05 1.56448166e-06 8.91658918e-08]\n"
     ]
    },
    {
     "data": {
      "text/plain": [
       "[<matplotlib.lines.Line2D at 0x9efc6b0>]"
      ]
     },
     "execution_count": 23,
     "metadata": {},
     "output_type": "execute_result"
    },
    {
     "data": {
      "image/png": "[encoded data removed]",
      "text/plain": [
       "<Figure size 432x288 with 1 Axes>"
      ]
     },
     "metadata": {
      "needs_background": "light"
     },
     "output_type": "display_data"
    }
   ],
   "source": [
    "xleft = 0.0\n",
    "xright = 2.0\n",
    "n = 24\n",
    "x = np.linspace(xleft,xright,n)\n",
    "yf = np.zeros ((n))\n",
    "y = np.zeros ((n))\n",
    "\n",
    "coefs = np.array ([-5, 4, -3, 2,-1,0,0,0,0, 1, -3, 4, -5, 6, -8])\n",
    "m = len(coefs)- 1\n",
    "\n",
    "print ('Коэффициенты точные', coefs)\n",
    "\n",
    "for i in range (0, m+1):\n",
    "    yf += coefs[i]*x**i\n",
    "#plt.plot (x,yf, 'o')\n",
    "\n",
    "Delta = 0.1 * np.random.randn(len(x))\n",
    "y = yf + Delta\n",
    "#plt.plot (x, y, '*')\n",
    "\n",
    "PolynomCoefs = SqLeast (x, y, m)\n",
    "print ('Коэффициенты МНК', PolynomCoefs)\n",
    "\n",
    "#print ('Gmatrix',G)\n",
    "cond = np.linalg.cond (G)\n",
    "print (cond)\n",
    "\n",
    "PolynomValue = np.zeros(len(x))\n",
    "for i in range (0, m+1):\n",
    "    PolynomValue += PolynomCoefs[i]*x**i\n",
    "        \n",
    "#plt.plot (x, y, 'o')\n",
    "#plt.plot (x, PolynomValue)\n",
    "#plt.subplot (x, ErrorLocal)\n",
    "\n",
    "CoefsReg = SqLeastRegMy (x, y, m, 0.01)\n",
    "print ('Коэффициенты МНК с регуляризацией', CoefsReg)\n",
    "cond = np.linalg.cond (G)\n",
    "print (cond)\n",
    "\n",
    "PolynomValue = np.zeros(len(x))\n",
    "for i in range (0, m+1):\n",
    "    PolynomValue += CoefsReg[i]*x**i\n",
    "#plt.plot (x, PolynomValue)\n",
    "\n",
    "PhiInv = np.linalg.pinv(Phi, rcond = 1e-2)\n",
    "CoefsSVD = PhiInv @ y\n",
    "#print ('коэффициенты МНК SVD', CoefsSVD )\n",
    "\n",
    "U, s, Vh = np.linalg.svd(Phi)\n",
    "print ('s', s)\n",
    "#smat = np.diag(s)\n",
    "\n",
    "#plt.subplot (2,1,1)\n",
    "plt.plot (coefs)\n",
    "plt.plot (CoefsReg, '*')\n",
    "#plt.plot (PolynomCoefs, 'v')\n",
    "plt.plot (CoefsSVD, 'o')\n",
    "#plt.plot (coef2, '-')\n",
    "#plt.subplot (2,1,2)\n",
    "#plt.plot (coefs)\n",
    "#plt.plot (coef2)"
   ]
  },
  {
   "cell_type": "code",
   "execution_count": null,
   "metadata": {},
   "outputs": [],
   "source": []
  }
 ],
 "metadata": {
  "kernelspec": {
   "display_name": "Python 3",
   "language": "python",
   "name": "python3"
  },
  "language_info": {
   "codemirror_mode": {
    "name": "ipython",
    "version": 3
   },
   "file_extension": ".py",
   "mimetype": "text/x-python",
   "name": "python",
   "nbconvert_exporter": "python",
   "pygments_lexer": "ipython3",
   "version": "3.7.4"
  }
 },
 "nbformat": 4,
 "nbformat_minor": 2
}
