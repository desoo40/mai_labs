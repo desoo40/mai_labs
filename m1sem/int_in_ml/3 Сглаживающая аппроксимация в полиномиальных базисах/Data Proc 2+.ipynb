{
 "cells": [
  {
   "cell_type": "markdown",
   "metadata": {},
   "source": [
    "## Тема 2. Сглаживающая аппроксимация в полиномиальных базисах. Продолжение."
   ]
  },
  {
   "cell_type": "code",
   "execution_count": 13,
   "metadata": {},
   "outputs": [],
   "source": [
    "%matplotlib inline\n",
    "\n",
    "import numpy as np\n",
    "import scipy.linalg as la\n",
    "import scipy.interpolate as interp\n",
    "import scipy.integrate as integrate\n",
    "import matplotlib as mpl\n",
    "import matplotlib.pyplot as plt\n",
    "import sympy\n",
    "\n",
    "default_dpi = mpl.rcParamsDefault['figure.dpi']\n",
    "factor = 1\n",
    "mpl.rcParams['figure.dpi'] = default_dpi * factor"
   ]
  },
  {
   "cell_type": "markdown",
   "metadata": {},
   "source": [
    "### Функции вычисления коэффициентов разложения"
   ]
  },
  {
   "cell_type": "code",
   "execution_count": 14,
   "metadata": {},
   "outputs": [],
   "source": [
    "# x(n), y(n) - массив данных\n",
    "# m - степень полинома (количество базисных функций - 1)\n",
    "\n",
    "def SqLeast (x, y, m):\n",
    "    global G, Phi\n",
    "    n = len(x)\n",
    "    Phi = np.zeros ((n,m+1))\n",
    "    for k in range (0, m+1):\n",
    "        Phi[:,k] = BasicFunctions (k, x)\n",
    "    PhiT = Phi.T\n",
    "    G = PhiT @ Phi\n",
    "    z = PhiT @ y\n",
    "    a = np.linalg.solve(G, z)\n",
    "    return a\n",
    "\n",
    "def SqLeastReg (x, y, m, alpha):\n",
    "    global G\n",
    "    n = len(x)\n",
    "    Phi = np.zeros ((n,m+1))\n",
    "    for k in range (0, m+1):\n",
    "        Phi[:,k] = BasicFunctions (k, x)\n",
    "    PhiT = Phi.T\n",
    "    \n",
    "    RegAlpha = np.eye (m+1) * alpha\n",
    "        \n",
    "    G = PhiT @ Phi + RegAlpha \n",
    "    z = PhiT @ y\n",
    "    a = np.linalg.solve(G, z)\n",
    "    return a\n",
    "\n",
    "def BasicFunctions (num, x):\n",
    "    PhiFun = x**num\n",
    "    return PhiFun"
   ]
  },
  {
   "cell_type": "markdown",
   "metadata": {},
   "source": [
    "### Функция вычисления погрешности аппроксимации"
   ]
  },
  {
   "cell_type": "code",
   "execution_count": 15,
   "metadata": {},
   "outputs": [],
   "source": [
    "def AppError (x,y,Coefs):\n",
    "    \n",
    "    PolynomValue = np.zeros(len(x))\n",
    "    for i in range (0, m+1):\n",
    "        PolynomValue += Coefs[i]*x**i\n",
    "   \n",
    "    y_av = np.sum(y)/len(x)\n",
    "    y_disp = np.sum((y-y_av)**2)/len(x)\n",
    "    \n",
    "    ResLocal = (y - PolynomValue)\n",
    "    ResLocalRel = ResLocal/y_disp**0.5\n",
    "    ResGlobal = (np.sum ((ResLocal)**2)/len(x))**0.5\n",
    "    ResGlobalRel = ResGlobal / y_disp**0.5\n",
    "    \n",
    "    yv_disp = np.sum((PolynomValue-y_av)**2)/len(x)\n",
    "    \n",
    "    R2 = yv_disp/y_disp\n",
    "        \n",
    "    return ResLocal, ResLocalRel, ResGlobal, ResGlobalRel\n",
    "\n",
    "def R2 (x, y, Coefs):\n",
    "    PolynomValue = np.zeros(len(x))\n",
    "    \n",
    "    for i in range (0, m+1):\n",
    "        PolynomValue += Coefs[i]*x**i\n",
    "   \n",
    "    y_av = np.sum(y)/len(x)\n",
    "    y_disp = np.sum((y-y_av)**2)/len(x)    \n",
    "      \n",
    "    yv_disp = np.sum((PolynomValue-y_av)**2)/len(x)\n",
    "    \n",
    "    R2 = yv_disp/y_disp\n",
    "        \n",
    "    return R2"
   ]
  },
  {
   "cell_type": "markdown",
   "metadata": {},
   "source": [
    "### Формирование набора данных"
   ]
  },
  {
   "cell_type": "code",
   "execution_count": 16,
   "metadata": {},
   "outputs": [
    {
     "data": {
      "text/plain": [
       "[<matplotlib.lines.Line2D at 0xb3912e8>]"
      ]
     },
     "execution_count": 16,
     "metadata": {},
     "output_type": "execute_result"
    },
    {
     "data": {
      "image/png": "[encoded data removed]",
      "text/plain": [
       "<Figure size 600x400 with 1 Axes>"
      ]
     },
     "metadata": {},
     "output_type": "display_data"
    }
   ],
   "source": [
    "xleft = -3\n",
    "xright = 6\n",
    "n = 24\n",
    "x = np.linspace(xleft,xright,n)\n",
    "yf = np.zeros ((n))\n",
    "y = np.zeros ((n))\n",
    "for i in range(0,n):\n",
    "    if (x[i]<0) :\n",
    "        yf[i] = 1.0*x[i] + 0.5*np.sin(2*x[i])\n",
    "    elif (x[i]<np.pi):\n",
    "        yf[i] = 1.0*x[i] + 1.0*np.sin(2*x[i])\n",
    "    else:\n",
    "        yf[i] = 1.0*x[i] + 2.0*np.sin(2*x[i])\n",
    "plt.plot (x,yf, 'o')"
   ]
  },
  {
   "cell_type": "markdown",
   "metadata": {},
   "source": [
    "### Зашумление данных"
   ]
  },
  {
   "cell_type": "code",
   "execution_count": 17,
   "metadata": {},
   "outputs": [
    {
     "data": {
      "text/plain": [
       "[<matplotlib.lines.Line2D at 0xb3e11d0>]"
      ]
     },
     "execution_count": 17,
     "metadata": {},
     "output_type": "execute_result"
    },
    {
     "data": {
      "image/png": "[encoded data removed]",
      "text/plain": [
       "<Figure size 600x400 with 1 Axes>"
      ]
     },
     "metadata": {},
     "output_type": "display_data"
    }
   ],
   "source": [
    "Delta = 0.1 * np.random.randn(len(x))\n",
    "y = yf + Delta\n",
    "plt.plot (x, y, 'o')"
   ]
  },
  {
   "cell_type": "markdown",
   "metadata": {},
   "source": [
    "### Построение аппроксимационного полинома и оценка погрешности аппроксимации"
   ]
  },
  {
   "cell_type": "code",
   "execution_count": 18,
   "metadata": {},
   "outputs": [
    {
     "name": "stdout",
     "output_type": "stream",
     "text": [
      "Коэффициенты [ 1.67397411e-01  2.37142309e+00  6.62812437e-02 -9.12747492e-01\n",
      " -5.77844267e-02  1.71373546e-01  4.34381887e-03 -1.31964689e-02\n",
      "  4.29059585e-04  3.86794173e-04 -3.63761898e-05]\n",
      "Число обусловленности 6282860480363286.0 79261668.17435679\n",
      "Максимальное и минимальное собственные значения G 5032160201183618.0 0.8009264243554169\n"
     ]
    },
    {
     "data": {
      "text/plain": [
       "[<matplotlib.lines.Line2D at 0xb3f25f8>]"
      ]
     },
     "execution_count": 18,
     "metadata": {},
     "output_type": "execute_result"
    },
    {
     "data": {
      "image/png": "[encoded data removed]",
      "text/plain": [
       "<Figure size 600x400 with 1 Axes>"
      ]
     },
     "metadata": {},
     "output_type": "display_data"
    }
   ],
   "source": [
    "m = 10\n",
    "\n",
    "PolynomCoefs = SqLeast (x, y, m)\n",
    "print ('Коэффициенты', PolynomCoefs)\n",
    "\n",
    "#print ('Gmatrix',G)\n",
    "cond = np.linalg.cond (G)\n",
    "condPhi = np.linalg.cond (Phi)\n",
    "EigG = np.linalg.eigvals (G)\n",
    "print ('Число обусловленности', cond, condPhi)\n",
    "print ('Максимальное и минимальное собственные значения G', max (EigG), min (EigG))\n",
    "\n",
    "PolynomValue = np.zeros(len(x))\n",
    "for i in range (0, m+1):\n",
    "    PolynomValue += PolynomCoefs[i]*x**i   \n",
    "\n",
    "ResLocal, ResLocalRel, ResGlobal, ResGlobalRel = AppError (x,y,PolynomCoefs)\n",
    "\n",
    "plt.plot (x, y, 'o')\n",
    "plt.plot (x, PolynomValue)"
   ]
  },
  {
   "cell_type": "markdown",
   "metadata": {},
   "source": [
    "### Оценка погрешности"
   ]
  },
  {
   "cell_type": "code",
   "execution_count": 19,
   "metadata": {},
   "outputs": [
    {
     "name": "stdout",
     "output_type": "stream",
     "text": [
      "Погрешность аппроксимации\n",
      "Суммарная абсолютная, cуммарная относительная, коэффициент детерминации\n",
      "0.0728639446844102 0.027544315237702635 0.9992413107956976\n",
      "1.0000000000976115\n"
     ]
    },
    {
     "data": {
      "image/png": "[encoded data removed]",
      "text/plain": [
       "<Figure size 600x400 with 1 Axes>"
      ]
     },
     "metadata": {},
     "output_type": "display_data"
    }
   ],
   "source": [
    "ResLocal, ResLocalRel, ResGlobal, ResGlobalRel = AppError (x,y,PolynomCoefs)\n",
    "R2 = R2 (x,y,PolynomCoefs)\n",
    "plt.plot (x, ResLocal, 'o')\n",
    "print ('Погрешность аппроксимации')\n",
    "print ('Суммарная абсолютная, cуммарная относительная, коэффициент детерминации')\n",
    "print (ResGlobal, ResGlobalRel, R2)\n",
    "print (ResGlobalRel**2+R2)"
   ]
  },
  {
   "cell_type": "markdown",
   "metadata": {},
   "source": [
    "### Разделение данных на обучающий и тестовый наборы"
   ]
  },
  {
   "cell_type": "code",
   "execution_count": 20,
   "metadata": {},
   "outputs": [
    {
     "name": "stdout",
     "output_type": "stream",
     "text": [
      "[12 19  7 21  2 22]\n",
      "0.058571087976503886 0.19420304120404355\n"
     ]
    },
    {
     "data": {
      "text/plain": [
       "[<matplotlib.lines.Line2D at 0xad444e0>]"
      ]
     },
     "execution_count": 20,
     "metadata": {},
     "output_type": "execute_result"
    },
    {
     "data": {
      "image/png": "[encoded data removed]",
      "text/plain": [
       "<Figure size 600x400 with 2 Axes>"
      ]
     },
     "metadata": {},
     "output_type": "display_data"
    }
   ],
   "source": [
    "n = len(x)\n",
    "ntest = int (n/4)\n",
    "ntrain = n - ntest\n",
    "xtrain = np.zeros (ntrain)\n",
    "xtest = np.zeros (ntest)\n",
    "ytrain = np.zeros (ntrain)\n",
    "ytest = np.zeros (ntest)\n",
    "#indtest = np.random.random_integers(0,n, ntest)\n",
    "indtest = np.random.choice (len(x), ntest, replace = False)\n",
    "print (indtest)\n",
    "\n",
    "itest = -1\n",
    "itrain = -1\n",
    "for i in range (0,n):\n",
    "    \n",
    "    ktest = 0\n",
    "    \n",
    "    for k in range (0, ntest): \n",
    "        if (i==indtest[k]):\n",
    "            itest += 1\n",
    "            xtest [itest] = x[i]\n",
    "            ytest [itest] = y[i]\n",
    "            ktest = 1\n",
    "            \n",
    "    if (ktest !=1 ):\n",
    "        itrain += 1\n",
    "        xtrain [itrain] = x[i]\n",
    "        ytrain [itrain] = y[i]\n",
    "             \n",
    "#print (xtest)\n",
    "#print (xtrain)\n",
    "\n",
    "PolynomCoefsTrain = SqLeast (xtrain, ytrain, m)\n",
    "    \n",
    "ResLocalTrain, ResLocalRelTrain, ResGlobalTrain, ResGlobalRelTrain = AppError (xtrain,ytrain,PolynomCoefsTrain)\n",
    "ResLocalTest, ResLocalRelTest, ResGlobalTest, ResGlobalRelTest = AppError (xtest,ytest,PolynomCoefsTrain)    \n",
    "    \n",
    "print (ResGlobalTrain, ResGlobalTest)\n",
    " \n",
    "plt.subplot (2,1,1)\n",
    "plt.plot (xtrain, ResLocalTrain, 'o')\n",
    "plt.subplot (2,1,2)\n",
    "plt.plot (xtrain, ResLocalTrain, 'o')\n",
    "plt.plot (xtest, ResLocalTest, '*')\n",
    "#num_bins = 20\n",
    "#plt.hist(ErrorLocalTrain, num_bins, density=1)"
   ]
  },
  {
   "cell_type": "markdown",
   "metadata": {},
   "source": [
    "### Проблема обусловленности"
   ]
  },
  {
   "cell_type": "code",
   "execution_count": 21,
   "metadata": {},
   "outputs": [
    {
     "name": "stdout",
     "output_type": "stream",
     "text": [
      "[[1.         0.5       ]\n",
      " [0.5        0.33333333]]\n",
      "Eigen values [1.26759188 0.06574145]\n",
      "b [0.5 2.5]\n",
      "solution [-13.  27.]\n",
      "Residual [0. 0.]\n",
      "cond 19.28147006790397 19.333333333333336 19.281470067903967\n",
      "b [0.50462662 2.49549726]\n",
      "solution [-12.95447708  26.91820741]\n",
      "residual [-2.22044605e-16  0.00000000e+00]\n"
     ]
    }
   ],
   "source": [
    "n = 2\n",
    "# Формирование матрицы Гильберта\n",
    "MM = np.zeros ((n,n))\n",
    "for i in range (0,n):\n",
    "    for j in range (0,n):\n",
    "        MM[i,j]=1/(i+j+1) #*10.\n",
    "print (MM)\n",
    "# Нахождение собственных значений матрицы\n",
    "Evv = np.linalg.eigvals (MM)\n",
    "print ('Eigen values', Evv)\n",
    "# Формирование правой части\n",
    "b = np.linspace (1,5,n)/n\n",
    "print ('b',b)\n",
    "# Нахождение решения системы уравнений\n",
    "xx = np.linalg.solve(MM, b)\n",
    "print ('solution',xx)\n",
    "# Вычиление невязки\n",
    "res = MM @ xx - b\n",
    "print ('Residual', res)\n",
    "\n",
    "MMinv = np.linalg.inv(MM)\n",
    "normb = np.linalg.norm (b)\n",
    "normM = np.linalg.norm (MM)\n",
    "normMi = np.linalg.norm (MMinv)\n",
    "normx = np.linalg.norm (xx)\n",
    "\n",
    "#число обусловленности\n",
    "cond = np.linalg.cond (MM)\n",
    "print ('cond', cond, normM * normMi, max(Evv)/min(Evv))\n",
    "\n",
    "#возмущение правой части\n",
    "Del = (np.random.random(n)- 0.5) * 0.01\n",
    "normDel = np.linalg.norm (Del)\n",
    "b2 = b + Del\n",
    "# Решение возмущенной системы\n",
    "xx2 = np.linalg.solve(MM, b2)\n",
    "print ('b', b2, )\n",
    "print ('solution', xx2)\n",
    "dx = xx-xx2\n",
    "normdx = np.linalg.norm (dx)\n",
    "res = MM @ xx2 - b2\n",
    "print ('residual', res)"
   ]
  },
  {
   "cell_type": "markdown",
   "metadata": {},
   "source": [
    "## Пример 3"
   ]
  },
  {
   "cell_type": "code",
   "execution_count": 22,
   "metadata": {},
   "outputs": [
    {
     "name": "stdout",
     "output_type": "stream",
     "text": [
      "Коэффициенты точные [-1.   1.   2.   1.  -1.  -0.5]\n",
      "Коэффициенты МНК [-1.02434153  1.07477036  1.76678011  1.41183513 -1.32104219 -0.41603384]\n",
      "12373162.973653337\n",
      "Коэффициенты МНК с регуляризацией [-1.04024247  1.19291748  1.85267376  0.80563317 -0.78221025 -0.55235826]\n",
      "369807.6341309839\n",
      "s [6.17413874e+01 6.54357569e+00 2.56943786e+00 7.10994096e-01\n",
      " 1.39866108e-01 1.75523802e-02]\n"
     ]
    },
    {
     "data": {
      "text/plain": [
       "[<matplotlib.lines.Line2D at 0xb4c3d68>]"
      ]
     },
     "execution_count": 22,
     "metadata": {},
     "output_type": "execute_result"
    },
    {
     "data": {
      "image/png": "[encoded data removed]",
      "text/plain": [
       "<Figure size 600x400 with 1 Axes>"
      ]
     },
     "metadata": {},
     "output_type": "display_data"
    }
   ],
   "source": [
    "xleft = 0.0\n",
    "xright = 2.0\n",
    "n = 24\n",
    "x = np.linspace(xleft,xright,n)\n",
    "yf = np.zeros ((n))\n",
    "y = np.zeros ((n))\n",
    "\n",
    "coefs = np.array ([-1, 1, 2, 1,-1,-0.5])\n",
    "m = len(coefs)- 1\n",
    "\n",
    "print ('Коэффициенты точные', coefs)\n",
    "\n",
    "for i in range (0, m+1):\n",
    "    yf += coefs[i]*x**i\n",
    "#plt.plot (x,yf, 'o')\n",
    "\n",
    "Delta = 0.1 * np.random.randn(len(x))\n",
    "y = yf + Delta\n",
    "#plt.plot (x, y, '*')\n",
    "\n",
    "PolynomCoefs = SqLeast (x, y, m)\n",
    "print ('Коэффициенты МНК', PolynomCoefs)\n",
    "\n",
    "#print ('Gmatrix',G)\n",
    "cond = np.linalg.cond (G)\n",
    "print (cond)\n",
    "\n",
    "PolynomValue = np.zeros(len(x))\n",
    "for i in range (0, m+1):\n",
    "    PolynomValue += PolynomCoefs[i]*x**i\n",
    "        \n",
    "#plt.plot (x, y, 'o')\n",
    "#plt.plot (x, PolynomValue)\n",
    "#plt.subplot (x, ErrorLocal)\n",
    "\n",
    "CoefsReg = SqLeastReg (x, y, m, 0.01)\n",
    "print ('Коэффициенты МНК с регуляризацией', CoefsReg)\n",
    "cond = np.linalg.cond (G)\n",
    "print (cond)\n",
    "\n",
    "PolynomValue = np.zeros(len(x))\n",
    "for i in range (0, m+1):\n",
    "    PolynomValue += CoefsReg[i]*x**i\n",
    "#plt.plot (x, PolynomValue)\n",
    "\n",
    "PhiInv = np.linalg.pinv(Phi, rcond = 1e-2)\n",
    "CoefsSVD = PhiInv @ y\n",
    "#print ('коэффициенты МНК SVD', CoefsSVD )\n",
    "\n",
    "U, s, Vh = np.linalg.svd(Phi)\n",
    "print ('s', s)\n",
    "#smat = np.diag(s)\n",
    "\n",
    "#plt.subplot (2,1,1)\n",
    "plt.plot (coefs)\n",
    "plt.plot (CoefsReg, '*')\n",
    "plt.plot (PolynomCoefs, 'v')\n",
    "plt.plot (CoefsSVD, 'o')\n",
    "#plt.plot (coef2, '-')\n",
    "#plt.subplot (2,1,2)\n",
    "#plt.plot (coefs)\n",
    "#plt.plot (coef2)"
   ]
  },
  {
   "cell_type": "code",
   "execution_count": null,
   "metadata": {},
   "outputs": [],
   "source": []
  }
 ],
 "metadata": {
  "kernelspec": {
   "display_name": "Python 3",
   "language": "python",
   "name": "python3"
  },
  "language_info": {
   "codemirror_mode": {
    "name": "ipython",
    "version": 3
   },
   "file_extension": ".py",
   "mimetype": "text/x-python",
   "name": "python",
   "nbconvert_exporter": "python",
   "pygments_lexer": "ipython3",
   "version": "3.6.5"
  }
 },
 "nbformat": 4,
 "nbformat_minor": 2
}
