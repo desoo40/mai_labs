{
 "cells": [
  {
   "cell_type": "markdown",
   "metadata": {},
   "source": [
    "## Тема 2. (Продолжение) Робастная сглаживающая аппроксимация."
   ]
  },
  {
   "cell_type": "code",
   "execution_count": 57,
   "metadata": {},
   "outputs": [],
   "source": [
    "%matplotlib inline\n",
    "\n",
    "import numpy as np\n",
    "import scipy.linalg as la\n",
    "import scipy.interpolate as interp\n",
    "import scipy.integrate as integrate\n",
    "import matplotlib as mpl\n",
    "import matplotlib.pyplot as plt\n",
    "import sympy\n",
    "\n",
    "default_dpi = mpl.rcParamsDefault['figure.dpi']\n",
    "factor = 1\n",
    "mpl.rcParams['figure.dpi'] = default_dpi * factor"
   ]
  },
  {
   "cell_type": "markdown",
   "metadata": {},
   "source": [
    "### Функции вычисления коэффициентов разложения"
   ]
  },
  {
   "cell_type": "code",
   "execution_count": 58,
   "metadata": {},
   "outputs": [],
   "source": [
    "# x(n), y(n) - массив данных\n",
    "# m - степень полинома (количество базисных функций - 1)\n",
    "\n",
    "def SqLeast (x, y, m):\n",
    "    global G, Phi\n",
    "    n = len(x)\n",
    "    Phi = np.zeros ((n,m+1))\n",
    "    for k in range (0, m+1):\n",
    "        Phi[:,k] = BasicFunctions (k, x)\n",
    "    PhiT = Phi.T\n",
    "    G = PhiT @ Phi\n",
    "    z = PhiT @ y\n",
    "    a = np.linalg.solve(G, z)\n",
    "    return a\n",
    "\n",
    "def SqLeastReg (x, y, m, alpha):\n",
    "    global G\n",
    "    n = len(x)\n",
    "    Phi = np.zeros ((n,m+1))\n",
    "    for k in range (0, m+1):\n",
    "        Phi[:,k] = BasicFunctions (k, x)\n",
    "    PhiT = Phi.T\n",
    "    \n",
    "    RegAlpha = np.eye (m+1) * alpha\n",
    "        \n",
    "    G = PhiT @ Phi + RegAlpha \n",
    "    z = PhiT @ y\n",
    "    a = np.linalg.solve(G, z)\n",
    "    return a\n",
    "\n",
    "def SqLeastRobust (x, y, m):\n",
    "    global G, Phi\n",
    "    n = len(x)\n",
    "    yr = np.eye (n)\n",
    "    E = np.eye (n)\n",
    "    Phi = np.zeros ((n,m+1))\n",
    "    for k in range (0, m+1):\n",
    "        Phi[:,k] = BasicFunctions (k, x)\n",
    "    PhiT = Phi.T\n",
    "    G = PhiT @ Phi\n",
    "    z = PhiT @ y\n",
    "    a = np.linalg.solve(G, z)\n",
    "    \n",
    "    dist = 1.5\n",
    "    \n",
    "    yr = y @ E \n",
    "    \n",
    "    eps = 0.001\n",
    "    \n",
    "    # итерационный процесс\n",
    "    \n",
    "    print ()\n",
    "    print ('Итерационный процесс')\n",
    "    print ()\n",
    "    \n",
    "    for it in range (0, 10):\n",
    "    \n",
    "        ait = a  \n",
    "          \n",
    "        PhiA = Phi @ a\n",
    "    \n",
    "        res = Phi @ a - yr        \n",
    "          \n",
    "        for i in range (0, n):\n",
    "            #print ('it*', it,  y[10], PhiA[i]-dist)\n",
    "            if (res[i]>dist):\n",
    "                yr[i] = PhiA[i]-dist\n",
    "                #print ('it+', it,  y[10], PhiA[i]-dist)\n",
    "            if (res[i]<-dist):\n",
    "                yr[i] = PhiA[i]+dist\n",
    "                #print ('it-', it,  y[10], PhiA[i]-dist)\n",
    "                    \n",
    "        z = PhiT @ yr\n",
    "        a = np.linalg.solve(G, z)\n",
    "        \n",
    "        eit = a - ait\n",
    "        epsit = (sum(eit**2))**0.5/len(eit)\n",
    "        \n",
    "        print ('iteration', it, a, epsit)\n",
    "        \n",
    "        if (epsit<=eps):\n",
    "            print ()\n",
    "            break \n",
    "                \n",
    "    return a\n",
    "\n",
    "\n",
    "def BasicFunctions (num, x):\n",
    "    PhiFun = x**num\n",
    "    return PhiFun"
   ]
  },
  {
   "cell_type": "markdown",
   "metadata": {},
   "source": [
    "### Функция вычисления погрешности аппроксимации"
   ]
  },
  {
   "cell_type": "code",
   "execution_count": 59,
   "metadata": {},
   "outputs": [],
   "source": [
    "def AppError (x,y,Coefs):\n",
    "    \n",
    "    PolynomValue = np.zeros(len(x))\n",
    "    for i in range (0, m+1):\n",
    "        PolynomValue += Coefs[i]*x**i\n",
    "   \n",
    "    y_av = np.sum(y)/len(x)\n",
    "    y_disp = np.sum((y-y_av)**2)/len(x)\n",
    "    \n",
    "    ResLocal = (y - PolynomValue)\n",
    "    ResLocalRel = ResLocal/y_disp**0.5\n",
    "    ResGlobal = (np.sum ((ResLocal)**2)/len(x))**0.5\n",
    "    ResGlobalRel = ResGlobal / y_disp**0.5\n",
    "    \n",
    "    yv_disp = np.sum((PolynomValue-y_av)**2)/len(x)\n",
    "    \n",
    "    R2 = yv_disp/y_disp\n",
    "        \n",
    "    return ResLocal, ResLocalRel, ResGlobal, ResGlobalRel\n",
    "\n",
    "def R2 (x, y, Coefs):\n",
    "    PolynomValue = np.zeros(len(x))\n",
    "    \n",
    "    for i in range (0, m+1):\n",
    "        PolynomValue += Coefs[i]*x**i\n",
    "   \n",
    "    y_av = np.sum(y)/len(x)\n",
    "    y_disp = np.sum((y-y_av)**2)/len(x)    \n",
    "      \n",
    "    yv_disp = np.sum((PolynomValue-y_av)**2)/len(x)\n",
    "    \n",
    "    R2 = yv_disp/y_disp\n",
    "        \n",
    "    return R2"
   ]
  },
  {
   "cell_type": "markdown",
   "metadata": {},
   "source": [
    "### Формирование набора данных"
   ]
  },
  {
   "cell_type": "code",
   "execution_count": 304,
   "metadata": {},
   "outputs": [
    {
     "data": {
      "text/plain": [
       "[<matplotlib.lines.Line2D at 0x162f5e30>]"
      ]
     },
     "execution_count": 304,
     "metadata": {},
     "output_type": "execute_result"
    },
    {
     "data": {
      "image/png": "[encoded data removed]",
      "text/plain": [
       "<Figure size 600x400 with 1 Axes>"
      ]
     },
     "metadata": {
      "needs_background": "light"
     },
     "output_type": "display_data"
    }
   ],
   "source": [
    "xleft = -3\n",
    "xright = 6\n",
    "n = 24\n",
    "x = np.linspace(xleft,xright,n)\n",
    "yf = np.zeros ((n))\n",
    "y = np.zeros ((n))\n",
    "yf = -1. + 0.5*x\n",
    "plt.plot (x,yf, 'o')"
   ]
  },
  {
   "cell_type": "markdown",
   "metadata": {},
   "source": [
    "### Зашумление данных"
   ]
  },
  {
   "cell_type": "code",
   "execution_count": 317,
   "metadata": {},
   "outputs": [
    {
     "name": "stdout",
     "output_type": "stream",
     "text": [
      "10.0\n"
     ]
    },
    {
     "data": {
      "image/png": "[encoded data removed]",
      "text/plain": [
       "<Figure size 600x400 with 1 Axes>"
      ]
     },
     "metadata": {
      "needs_background": "light"
     },
     "output_type": "display_data"
    }
   ],
   "source": [
    "Delta = 0.5 * np.random.randn(len(x))\n",
    "y = yf + Delta\n",
    "y_av = np.sum(y)/len(x)\n",
    "\n",
    "y [10] = 10.\n",
    "y [20] = 7.\n",
    "y [0] = 5.\n",
    "y [5] = 11.\n",
    "\n",
    "\n",
    "plt.plot (x, y, 'o')\n",
    "\n",
    "print (y[10])"
   ]
  },
  {
   "cell_type": "markdown",
   "metadata": {},
   "source": [
    "### Построение аппроксимационного полинома "
   ]
  },
  {
   "cell_type": "code",
   "execution_count": 318,
   "metadata": {},
   "outputs": [
    {
     "name": "stdout",
     "output_type": "stream",
     "text": [
      "Коэффициенты [0.94306046 0.21158679]\n",
      "Числа обусловленности матриц G и Phi 12.555026847787225 3.6332951102445272\n"
     ]
    },
    {
     "data": {
      "text/plain": [
       "[<matplotlib.lines.Line2D at 0x17726510>]"
      ]
     },
     "execution_count": 318,
     "metadata": {},
     "output_type": "execute_result"
    },
    {
     "data": {
      "image/png": "[encoded data removed]",
      "text/plain": [
       "<Figure size 600x400 with 1 Axes>"
      ]
     },
     "metadata": {
      "needs_background": "light"
     },
     "output_type": "display_data"
    }
   ],
   "source": [
    "m = 1\n",
    "\n",
    "PolynomCoefs = SqLeastReg(x, y, m, 1)\n",
    "print ('Коэффициенты', PolynomCoefs)\n",
    "\n",
    "cond = np.linalg.cond (G)\n",
    "condPhi = np.linalg.cond (Phi)\n",
    "EigG = np.linalg.eigvals (G)\n",
    "print ('Числа обусловленности матриц G и Phi', cond, condPhi)\n",
    "\n",
    "PolynomValue2 = np.zeros(len(x))\n",
    "for i in range (0, m+1):\n",
    "    PolynomValue2 += PolynomCoefs[i]*x**i\n",
    "    \n",
    "plt.plot (x, y, 'o')\n",
    "plt.plot (x, PolynomValue2)"
   ]
  },
  {
   "cell_type": "code",
   "execution_count": 319,
   "metadata": {},
   "outputs": [],
   "source": [
    "def SqLeastRegMy(x, y, m, alpha):\n",
    "    global G, Phi\n",
    "    \n",
    "    n = len(x)\n",
    "    \n",
    "    Phi = np.zeros ((n,m+1))\n",
    "    \n",
    "    for k in range (0, m+1):\n",
    "        Phi[:,k] = BasicFunctions (k, x)\n",
    "    \n",
    "    PhiT = Phi.T\n",
    "    \n",
    "    G = PhiT @ Phi\n",
    "    z = PhiT @ y\n",
    "    a = np.linalg.solve(G, z)\n",
    "    \n",
    "    eps = 0.001\n",
    "    \n",
    "    for i in range(0, 10):\n",
    "        \n",
    "        a_i = a\n",
    "        a = np.linalg.solve(G, z - alpha* np.sign(a_i))\n",
    "        e = a - a_i\n",
    "        epsit = (sum(e**2))**0.5/len(e)\n",
    "        \n",
    "        print ('iteration', i, a, np.sign(a), epsit)\n",
    "        \n",
    "        if (epsit <= eps):\n",
    "            break\n",
    "         \n",
    "    return a"
   ]
  },
  {
   "cell_type": "code",
   "execution_count": 320,
   "metadata": {},
   "outputs": [],
   "source": [
    "def r(pha, y):\n",
    "    val = pha - y\n",
    "    return abs(val)"
   ]
  },
  {
   "cell_type": "code",
   "execution_count": 321,
   "metadata": {},
   "outputs": [],
   "source": [
    "def SqLeastRegMy1(x, y, m):\n",
    "    global G, Phi\n",
    "    \n",
    "    n = len(x)\n",
    "    \n",
    "    Phi = np.zeros ((n,m+1))\n",
    "    \n",
    "    for k in range (0, m+1):\n",
    "        Phi[:,k] = BasicFunctions (k, x)\n",
    "    \n",
    "    PhiT = Phi.T\n",
    "    \n",
    "    a = np.linalg.solve(PhiT @ Phi, PhiT @ y)\n",
    "    \n",
    "    eps = 0.001\n",
    "    \n",
    "    for i in range(0, 10):\n",
    "        \n",
    "        a_i = a\n",
    "        \n",
    "        R = np.zeros((n, n))\n",
    "        \n",
    "        for j in range(0, n - 1):\n",
    "            R[j, j] = r((Phi @ a_i)[j], y[j]) / ((Phi @ a_i)[j] - y[j])**2\n",
    "\n",
    "        \n",
    "        a = np.linalg.solve(PhiT @ R @ Phi, PhiT @ R @ y)\n",
    "        e = a - a_i\n",
    "        epsit = (sum(e**2))**0.5/len(e)\n",
    "        \n",
    "        print ('iteration', i, a, np.sign(a), epsit)\n",
    "        \n",
    "        if (epsit <= eps):\n",
    "            break\n",
    "         \n",
    "    return a"
   ]
  },
  {
   "cell_type": "code",
   "execution_count": 322,
   "metadata": {},
   "outputs": [
    {
     "name": "stdout",
     "output_type": "stream",
     "text": [
      "iteration 0 [-0.17782232  0.38631136] [-1.  1.] 0.5922113030505374\n",
      "iteration 1 [-0.32122093  0.41773413] [-1.  1.] 0.07340052972663151\n",
      "iteration 2 [-0.53336799  0.45784331] [-1.  1.] 0.10795267684921737\n",
      "iteration 3 [-0.71978412  0.4840101 ] [-1.  1.] 0.09412182627026802\n",
      "iteration 4 [-0.83637776  0.4927224 ] [-1.  1.] 0.05845934644942919\n",
      "iteration 5 [-0.88936988  0.4926438 ] [-1.  1.] 0.02649609199832363\n",
      "iteration 6 [-0.89970544  0.49233431] [-1.  1.] 0.005170095621614481\n",
      "iteration 7 [-0.90667313  0.49267261] [-1.  1.] 0.003487948142057046\n",
      "iteration 8 [-0.91147058  0.49180581] [-1.  1.] 0.002437562480804775\n",
      "iteration 9 [-0.9140549   0.49031711] [-1.  1.] 0.0014912203359045827\n",
      "Коэффициенты [-0.9140549   0.49031711]\n",
      "Числа обусловленности матриц G и Phi 12.555026847787225 3.6332951102445272\n"
     ]
    },
    {
     "data": {
      "text/plain": [
       "[<matplotlib.lines.Line2D at 0x17829310>]"
      ]
     },
     "execution_count": 322,
     "metadata": {},
     "output_type": "execute_result"
    },
    {
     "data": {
      "image/png": "[encoded data removed]",
      "text/plain": [
       "<Figure size 600x400 with 1 Axes>"
      ]
     },
     "metadata": {
      "needs_background": "light"
     },
     "output_type": "display_data"
    }
   ],
   "source": [
    "m = 1\n",
    "\n",
    "PolynomCoefs = SqLeastRegMy1 (x, y, m)\n",
    "print ('Коэффициенты', PolynomCoefs)\n",
    "\n",
    "cond = np.linalg.cond (G)\n",
    "EigG = np.linalg.eigvals (G)\n",
    "print ('Числа обусловленности матриц G и Phi', cond, condPhi)\n",
    "\n",
    "PolynomValue1 = np.zeros(len(x))\n",
    "for i in range (0, m+1):\n",
    "    PolynomValue1 += PolynomCoefs[i]*x**i\n",
    "    \n",
    "plt.plot (x, y, 'o')\n",
    "plt.plot (x, PolynomValue1)"
   ]
  },
  {
   "cell_type": "markdown",
   "metadata": {},
   "source": [
    "### Робастная аппроксимация"
   ]
  },
  {
   "cell_type": "code",
   "execution_count": 339,
   "metadata": {},
   "outputs": [],
   "source": [
    "def r1(pha, y):\n",
    "    val = pha - y\n",
    "    #return abs(val)\n",
    "    dist = 1\n",
    "    \n",
    "    v1 = val**2 \n",
    "    v2 = -dist**2 + 2 * dist * abs(val)\n",
    "    return v1 if abs(val) <= dist else v2"
   ]
  },
  {
   "cell_type": "code",
   "execution_count": 340,
   "metadata": {},
   "outputs": [],
   "source": [
    "def SqLeastRobustMy(x, y, m):\n",
    "    global G, Phi\n",
    "    \n",
    "    n = len(x)\n",
    "    \n",
    "    Phi = np.zeros ((n,m+1))\n",
    "    \n",
    "    for k in range (0, m+1):\n",
    "        Phi[:,k] = BasicFunctions (k, x)\n",
    "    \n",
    "    PhiT = Phi.T\n",
    "    \n",
    "    a = np.linalg.solve(PhiT @ Phi, PhiT @ y)\n",
    "    \n",
    "    eps = 0.001\n",
    "    \n",
    "    for i in range(0, 10):\n",
    "        \n",
    "        a_i = a\n",
    "        \n",
    "        R = np.zeros((n, n))\n",
    "        for j in range(0, n - 1):\n",
    "            R[j, j] = r1((Phi @ a_i)[j], y[j]) / ((Phi @ a_i)[j] - y[j])**2\n",
    "        \n",
    "        a = np.linalg.solve(PhiT @ R @ Phi, PhiT @ R @ y)\n",
    "        e = a - a_i\n",
    "        epsit = (sum(e**2))**0.5/len(e)\n",
    "        \n",
    "        print ('iteration', i, a, np.sign(a), epsit)\n",
    "        \n",
    "        if (epsit <= eps):\n",
    "            break\n",
    "         \n",
    "    return a"
   ]
  },
  {
   "cell_type": "code",
   "execution_count": 341,
   "metadata": {},
   "outputs": [
    {
     "name": "stdout",
     "output_type": "stream",
     "text": [
      "iteration 0 [-0.09174182  0.35146333] [-1.  1.] 0.547111932606542\n",
      "iteration 1 [-0.3991146   0.42104901] [-1.  1.] 0.15757553307258476\n",
      "iteration 2 [-0.4379259   0.43062098] [-1.  1.] 0.019987119870497807\n",
      "iteration 3 [-0.44193228  0.43162329] [-1.  1.] 0.002064926853264272\n",
      "iteration 4 [-0.44234413  0.4317273 ] [-1.  1.] 0.00021238710114187715\n",
      "Коэффициенты [-0.44234413  0.4317273 ]\n",
      "Числа обусловленности матриц G и Phi 12.555026847787225 3.6332951102445272\n"
     ]
    },
    {
     "data": {
      "text/plain": [
       "<matplotlib.legend.Legend at 0x17534790>"
      ]
     },
     "execution_count": 341,
     "metadata": {},
     "output_type": "execute_result"
    },
    {
     "data": {
      "image/png": "[encoded data removed]",
      "text/plain": [
       "<Figure size 600x400 with 1 Axes>"
      ]
     },
     "metadata": {
      "needs_background": "light"
     },
     "output_type": "display_data"
    }
   ],
   "source": [
    "m = 1\n",
    "\n",
    "PolynomCoefs = SqLeastRobustMy (x, y, m)\n",
    "print ('Коэффициенты', PolynomCoefs)\n",
    "\n",
    "cond = np.linalg.cond (G)\n",
    "condPhi = np.linalg.cond (Phi)\n",
    "EigG = np.linalg.eigvals (G)\n",
    "print ('Числа обусловленности матриц G и Phi', cond, condPhi)\n",
    "\n",
    "PolynomValue = np.zeros(len(x))\n",
    "\n",
    "for i in range (0, m+1):\n",
    "    PolynomValue += PolynomCoefs[i]*x**i\n",
    "    \n",
    "plt.plot (x, y, 'o')\n",
    "plt.plot (x, PolynomValue, color=\"red\", label='Хьюберт')\n",
    "plt.plot (x, PolynomValue1, color=\"green\", label='Модуль')\n",
    "plt.plot (x, PolynomValue2, color=\"black\", label='МНК')\n",
    "plt.legend()"
   ]
  },
  {
   "cell_type": "code",
   "execution_count": null,
   "metadata": {},
   "outputs": [],
   "source": []
  },
  {
   "cell_type": "code",
   "execution_count": null,
   "metadata": {},
   "outputs": [],
   "source": []
  }
 ],
 "metadata": {
  "kernelspec": {
   "display_name": "Python 3",
   "language": "python",
   "name": "python3"
  },
  "language_info": {
   "codemirror_mode": {
    "name": "ipython",
    "version": 3
   },
   "file_extension": ".py",
   "mimetype": "text/x-python",
   "name": "python",
   "nbconvert_exporter": "python",
   "pygments_lexer": "ipython3",
   "version": "3.7.4"
  }
 },
 "nbformat": 4,
 "nbformat_minor": 2
}
