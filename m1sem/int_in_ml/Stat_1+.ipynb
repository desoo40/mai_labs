{
 "cells": [
  {
   "cell_type": "markdown",
   "metadata": {},
   "source": [
    "# 1.Описательная статистика"
   ]
  },
  {
   "cell_type": "markdown",
   "metadata": {},
   "source": [
    "## Основные характеристики"
   ]
  },
  {
   "cell_type": "code",
   "execution_count": 1,
   "metadata": {},
   "outputs": [
    {
     "name": "stdout",
     "output_type": "stream",
     "text": [
      "________________________________________\n",
      "1000\n",
      "0.5053236418795145\n"
     ]
    }
   ],
   "source": [
    "import numpy as np\n",
    "import random\n",
    "import scipy.stats as st\n",
    "import matplotlib as mpl\n",
    "import matplotlib.pyplot as plt\n",
    "\n",
    "default_dpi = mpl.rcParamsDefault['figure.dpi']\n",
    "factor = 1\n",
    "mpl.rcParams['figure.dpi'] = default_dpi * factor\n",
    "\n",
    "n = 1000\n",
    "X=np.random.sample(n)\n",
    "#X=np.random.sample((n, 2))\n",
    "\n",
    "#print (X)\n",
    "\n",
    "print ('_'*40)\n",
    "print (len(X))\n",
    "print(np.mean(X))\n"
   ]
  },
  {
   "cell_type": "markdown",
   "metadata": {},
   "source": [
    "**Среднее значение** $$\\frac{\\sum_{i=0}^{n} X_i}{n} = \\bar{X} = \\mu = \\mathbb{M}[X] = \\mathbb{E}[X]$$"
   ]
  },
  {
   "cell_type": "code",
   "execution_count": 2,
   "metadata": {},
   "outputs": [
    {
     "name": "stdout",
     "output_type": "stream",
     "text": [
      "1000\n",
      "0.5053236418795144\n",
      "________________________________________\n",
      "0.5053236418795145\n"
     ]
    }
   ],
   "source": [
    "\n",
    "N = len(X)\n",
    "print(N)\n",
    "\n",
    "Mu = sum(X)/N\n",
    "print(Mu)\n",
    "print ('_'*40)\n",
    "print(np.mean(X))"
   ]
  },
  {
   "cell_type": "markdown",
   "metadata": {},
   "source": [
    "**Максимальное и минимальное значение**"
   ]
  },
  {
   "cell_type": "code",
   "execution_count": 3,
   "metadata": {},
   "outputs": [
    {
     "name": "stdout",
     "output_type": "stream",
     "text": [
      "max = 0.9985066684591378 \n",
      "min =  0.0017255685755681593\n"
     ]
    }
   ],
   "source": [
    "Max_x = max(X)\n",
    "Min_x = min(X)\n",
    "\n",
    "print('max =', Max_x, '\\nmin = ',  Min_x)"
   ]
  },
  {
   "cell_type": "markdown",
   "metadata": {},
   "source": [
    "**Дисперсия** $$\\sigma^2=\\frac{(\\sum_{i=1}^{n}(X_i-\\mu)^2)}{(n-1)} = \\mathbb{D}[X] = Var(X) = \\mathbb{M}[(X - \\mathbb{M}[X])^2]$$"
   ]
  },
  {
   "cell_type": "code",
   "execution_count": 4,
   "metadata": {},
   "outputs": [
    {
     "name": "stdout",
     "output_type": "stream",
     "text": [
      "0.07979576719079766\n",
      "________________________________________\n",
      "0.07971597142360684\n",
      "________________________________________\n",
      "0.2823401696953638\n",
      "________________________________________\n",
      "0.07971597142360683\n"
     ]
    }
   ],
   "source": [
    "Sigma = (sum((X-Mu)**2))/(N-1)\n",
    "print(Sigma)\n",
    "print ('_'*40)\n",
    "\n",
    "print(np.var(X))\n",
    "print ('_'*40)\n",
    "\n",
    "print(np.std(X))\n",
    "print ('_'*40)\n",
    "\n",
    "print((np.std(X))**2)"
   ]
  },
  {
   "cell_type": "markdown",
   "metadata": {},
   "source": [
    "**Коэффициент вариации**"
   ]
  },
  {
   "cell_type": "code",
   "execution_count": 5,
   "metadata": {},
   "outputs": [
    {
     "name": "stdout",
     "output_type": "stream",
     "text": [
      "57.060181292451276\n"
     ]
    }
   ],
   "source": [
    "kv = (np.sqrt(Sigma)/Mu)*100 \n",
    "\n",
    "print (kv)"
   ]
  },
  {
   "cell_type": "markdown",
   "metadata": {},
   "source": [
    "**Медиана**"
   ]
  },
  {
   "cell_type": "code",
   "execution_count": 6,
   "metadata": {},
   "outputs": [
    {
     "name": "stdout",
     "output_type": "stream",
     "text": [
      "----------------------------------------\n",
      "0.49831523809345496\n",
      "0.49831523809345496\n"
     ]
    }
   ],
   "source": [
    "#X = np.array([10, 12, 40, 500, 30, 80, 60, 700, 20, 13, 15, 40, 40, 35, 20, 10, 10])\n",
    "#mu = np.mean(X)\n",
    "#print (mu)\n",
    "\n",
    "print('-'*40)\n",
    "med = np.percentile(X, 50)\n",
    "med1=np.median(X)\n",
    "print (med)\n",
    "print (med1)"
   ]
  },
  {
   "cell_type": "markdown",
   "metadata": {},
   "source": [
    "**Мода**"
   ]
  },
  {
   "cell_type": "code",
   "execution_count": 7,
   "metadata": {},
   "outputs": [
    {
     "data": {
      "text/plain": [
       "ModeResult(mode=array([0.00127659]), count=array([1]))"
      ]
     },
     "execution_count": 7,
     "metadata": {},
     "output_type": "execute_result"
    }
   ],
   "source": [
    "#X = np.array([10, 12, 40, 500, 30, 80, 60, 700, 20, 13, 15, 40, 40, 35, 20, 10, 10])\n",
    "st.mode(X)"
   ]
  },
  {
   "cell_type": "markdown",
   "metadata": {},
   "source": [
    "**Гистограммы**"
   ]
  },
  {
   "cell_type": "code",
   "execution_count": 4,
   "metadata": {},
   "outputs": [
    {
     "data": {
      "image/png": "[encoded data removed]",
      "text/plain": [
       "<Figure size 432x288 with 1 Axes>"
      ]
     },
     "metadata": {
      "needs_background": "light"
     },
     "output_type": "display_data"
    }
   ],
   "source": [
    "\n",
    "plt.hist(X, bins=10);"
   ]
  },
  {
   "cell_type": "code",
   "execution_count": 5,
   "metadata": {
    "scrolled": true
   },
   "outputs": [
    {
     "data": {
      "image/png": "[encoded data removed]",
      "text/plain": [
       "<Figure size 432x288 with 1 Axes>"
      ]
     },
     "metadata": {
      "needs_background": "light"
     },
     "output_type": "display_data"
    }
   ],
   "source": [
    "Y = np.random.randn(1000)\n",
    "plt.hist(Y, bins=10);"
   ]
  },
  {
   "cell_type": "markdown",
   "metadata": {},
   "source": [
    "**Ассиметрия и эксцесс**"
   ]
  },
  {
   "cell_type": "code",
   "execution_count": 6,
   "metadata": {},
   "outputs": [
    {
     "name": "stdout",
     "output_type": "stream",
     "text": [
      "-0.007368667722407423\n",
      "0.060029394357295714\n",
      "_ _ _ _ _ _ _ _ _ _ _ _ _ _ _ _ _ _ _ _ _ _ _ _ _ _ _ _ _ _ _ _ _ _ _ _ _ _ _ _ \n",
      "-0.04674061300060384\n"
     ]
    }
   ],
   "source": [
    "print (st.skew(X))\n",
    "print (st.skew(Y))\n",
    "#W = np.array([0.2, -0.2, 0.5, 0.8, 0.6, 0.98, -0.2, -0.1, 0.9, 0.5, 0.58, 0.1, 0.4, 0.5])\n",
    "#plt.hist(W, bins=10) \n",
    "#print (st.skew(W))\n",
    "\n",
    "print('_ '*40)\n",
    "print(st.kurtosis(Y))"
   ]
  },
  {
   "cell_type": "markdown",
   "metadata": {},
   "source": [
    "# 2. Функции плотности вероятности  и функции распределения "
   ]
  },
  {
   "cell_type": "code",
   "execution_count": 7,
   "metadata": {},
   "outputs": [
    {
     "data": {
      "image/png": "[encoded data removed]",
      "text/plain": [
       "<Figure size 432x288 with 1 Axes>"
      ]
     },
     "metadata": {
      "needs_background": "light"
     },
     "output_type": "display_data"
    }
   ],
   "source": [
    "domain = np.linspace(np.max(Y), np.min(Y), 1000)\n",
    "\n",
    "#print(domain)\n",
    "kde1 = st.gaussian_kde(Y)\n",
    "\n",
    "plt.hist(Y, bins=10, density = 1.0) \n",
    "plt.plot(domain, kde1(domain));"
   ]
  },
  {
   "cell_type": "code",
   "execution_count": 8,
   "metadata": {},
   "outputs": [
    {
     "data": {
      "image/png": "[encoded data removed]",
      "text/plain": [
       "<Figure size 432x288 with 1 Axes>"
      ]
     },
     "metadata": {
      "needs_background": "light"
     },
     "output_type": "display_data"
    }
   ],
   "source": [
    "domain = np.linspace(np.max(X), np.min(X), 1000)\n",
    "\n",
    "#print(domain)\n",
    "kde1 = st.gaussian_kde(X)\n",
    "\n",
    "plt.hist(X, bins=10, density = 1.0) \n",
    "plt.plot(domain, kde1(domain));"
   ]
  },
  {
   "cell_type": "markdown",
   "metadata": {},
   "source": [
    "## Определение\n",
    "$$F(x) = P(X<x)$$ $f(x) = F'(x)$ $$F(x) = P(X\\le x) = \\int_{-\\infty}^x f(x) dx$$ или для интервала $$P(a\\le X \\le b) = \\int_a^b f(x) dx = F(b) - F(a)$$ "
   ]
  },
  {
   "cell_type": "markdown",
   "metadata": {},
   "source": [
    "### Непрерывные СВ"
   ]
  },
  {
   "cell_type": "code",
   "execution_count": 9,
   "metadata": {},
   "outputs": [
    {
     "data": {
      "image/png": "[encoded data removed]",
      "text/plain": [
       "<Figure size 432x288 with 1 Axes>"
      ]
     },
     "metadata": {
      "needs_background": "light"
     },
     "output_type": "display_data"
    },
    {
     "data": {
      "image/png": "[encoded data removed]",
      "text/plain": [
       "<Figure size 432x288 with 1 Axes>"
      ]
     },
     "metadata": {
      "needs_background": "light"
     },
     "output_type": "display_data"
    }
   ],
   "source": [
    "Contin = st.uniform(loc=0, scale=1)\n",
    "Z = Contin.rvs(size=10000)\n",
    "plt.hist(Z, bins=400, density = 1.0); \n",
    "\n",
    "grid = np.linspace(np.min(Z), np.max(Z), 100)\n",
    "plt.plot(grid, Contin.pdf(grid), color = 'red');\n",
    "plt.figure()\n",
    "plt.plot(grid, Contin.cdf(grid), color = 'red');"
   ]
  },
  {
   "cell_type": "code",
   "execution_count": 14,
   "metadata": {},
   "outputs": [
    {
     "data": {
      "image/png": "[encoded data removed]",
      "text/plain": [
       "<Figure size 432x288 with 1 Axes>"
      ]
     },
     "metadata": {},
     "output_type": "display_data"
    },
    {
     "data": {
      "image/png": "[encoded data removed]",
      "text/plain": [
       "<Figure size 432x288 with 1 Axes>"
      ]
     },
     "metadata": {},
     "output_type": "display_data"
    }
   ],
   "source": [
    "Contin = st.norm(loc=2, scale=4)\n",
    "Z_1 = Contin.rvs(size=10000)\n",
    "plt.hist(Z_1, bins=400, density = 1.0) ;\n",
    "\n",
    "grid = np.linspace(np.min(Z_1), np.max(Z_1), 100)\n",
    "plt.plot(grid, Contin.pdf(grid), color = 'black');\n",
    "\n",
    "Contin = st.norm(loc=0, scale=10)\n",
    "Z_2 = Contin.rvs(size=10000)\n",
    "plt.hist(Z_2, bins=400, density = 1.0) ;\n",
    "\n",
    "grid = np.linspace(np.min(Z_2), np.max(Z_2), 100)\n",
    "plt.plot(grid, Contin.pdf(grid), color = 'red');\n",
    "\n",
    "plt.figure()\n",
    "\n",
    "plt.plot(grid, Contin.cdf(grid), color = 'red');\n",
    "\n",
    "Contin = st.norm(loc=2, scale=4)\n",
    "Z_1 = Contin.rvs(size=10000)\n",
    "grid = np.linspace(np.min(Z_1), np.max(Z_1), 100)\n",
    "plt.plot(grid, Contin.cdf(grid), color = 'black');"
   ]
  },
  {
   "cell_type": "code",
   "execution_count": 15,
   "metadata": {},
   "outputs": [
    {
     "data": {
      "image/png": "[encoded data removed]",
      "text/plain": [
       "<Figure size 432x288 with 1 Axes>"
      ]
     },
     "metadata": {},
     "output_type": "display_data"
    },
    {
     "data": {
      "image/png": "[encoded data removed]",
      "text/plain": [
       "<Figure size 432x288 with 1 Axes>"
      ]
     },
     "metadata": {},
     "output_type": "display_data"
    }
   ],
   "source": [
    "Contin = st.t(5, 0, 1)\n",
    "Z_1 = Contin.rvs(size=10000)\n",
    "plt.hist(Z_1, bins=400, density = 1.0);\n",
    "\n",
    "grid = np.linspace(np.min(Z_1), np.max(Z_1), 100)\n",
    "plt.plot(grid, Contin.pdf(grid), color = 'red');\n",
    "\n",
    "plt.figure()\n",
    "plt.plot(grid, Contin.cdf(grid), color = 'red');"
   ]
  },
  {
   "cell_type": "code",
   "execution_count": 16,
   "metadata": {},
   "outputs": [
    {
     "data": {
      "image/png": "[encoded data removed]",
      "text/plain": [
       "<Figure size 432x288 with 1 Axes>"
      ]
     },
     "metadata": {},
     "output_type": "display_data"
    },
    {
     "data": {
      "image/png": "[encoded data removed]",
      "text/plain": [
       "<Figure size 432x288 with 1 Axes>"
      ]
     },
     "metadata": {},
     "output_type": "display_data"
    }
   ],
   "source": [
    "Contin = st.laplace(0, 1)\n",
    "Z_1 = Contin.rvs(size=10000)\n",
    "plt.hist(Z_1, bins=400, density = 1.0);\n",
    "\n",
    "grid = np.linspace(np.min(Z_1), np.max(Z_1), 100)\n",
    "plt.plot(grid, Contin.pdf(grid), color = 'red');\n",
    "\n",
    "plt.figure()\n",
    "plt.plot(grid, Contin.cdf(grid), color = 'red');"
   ]
  },
  {
   "cell_type": "markdown",
   "metadata": {},
   "source": [
    "### Дискретные СВ"
   ]
  },
  {
   "cell_type": "code",
   "execution_count": 17,
   "metadata": {},
   "outputs": [
    {
     "name": "stdout",
     "output_type": "stream",
     "text": [
      "[0 1 1 1 1 0 0 1 0 0 1 0 1 1 1 1 1 1 1 1 0 0 1 1 1 0 1 1 1 0 1 0 1 1 1 1 0\n",
      " 0 0 1 1 1 0 0 0 1 1 0 0 1 0 1 1 1 1 1 0 1 1 1 0 0 1 0 1 1 1 1 1 0 1 1 1 1\n",
      " 1 1 0 1 1 1 1 1 1 1 1 1 1 1 1 1 1 1 1 1 0 1 0 1 1 1]\n"
     ]
    },
    {
     "data": {
      "image/png": "[encoded data removed]",
      "text/plain": [
       "<Figure size 432x288 with 1 Axes>"
      ]
     },
     "metadata": {},
     "output_type": "display_data"
    },
    {
     "data": {
      "image/png": "[encoded data removed]",
      "text/plain": [
       "<Figure size 432x288 with 1 Axes>"
      ]
     },
     "metadata": {},
     "output_type": "display_data"
    }
   ],
   "source": [
    "Discr = st.bernoulli(0.7)\n",
    "Z_1 = Discr.rvs(size=100)\n",
    "print (Z_1)\n",
    "\n",
    "plt.vlines(Z_1,0, Discr.pmf(Z_1), color = 'red');\n",
    "\n",
    "grid = np.linspace(0.0, 1.5, 10)\n",
    "plt.figure()\n",
    "plt.plot(grid, Discr.cdf(grid), color = 'red');\n"
   ]
  },
  {
   "cell_type": "code",
   "execution_count": 18,
   "metadata": {},
   "outputs": [
    {
     "name": "stdout",
     "output_type": "stream",
     "text": [
      "[1 3 1 2 2 1 1 2 2 2 2 1 0 1 1 1 1 1 3 2 0 2 1 1 1 2 3 1 1 3 2 1 2 1 2 0 2\n",
      " 2 1 1 1 2 1 1 1 2 4 1 1 1 3 1 1 1 1 2 2 3 2 0 2 0 2 0 2 1 1 1 3 4 1 3 0 0\n",
      " 3 1 3 2 1 2 2 1 1 0 0 2 1 1 1 0 2 1 1 1 4 1 1 2 1 3]\n"
     ]
    },
    {
     "data": {
      "image/png": "[encoded data removed]",
      "text/plain": [
       "<Figure size 432x288 with 1 Axes>"
      ]
     },
     "metadata": {},
     "output_type": "display_data"
    },
    {
     "data": {
      "image/png": "[encoded data removed]",
      "text/plain": [
       "<Figure size 432x288 with 1 Axes>"
      ]
     },
     "metadata": {},
     "output_type": "display_data"
    }
   ],
   "source": [
    "Discr = st.binom(5, 0.3)\n",
    "Z_1 = Discr.rvs(size=100)\n",
    "print (Z_1)\n",
    "\n",
    "plt.vlines(Z_1, 0, Discr.pmf(Z_1));\n",
    "\n",
    "grid = np.linspace(0.0, 5.5, 10)\n",
    "plt.figure()\n",
    "plt.plot(grid, Discr.cdf(grid), color = 'red');"
   ]
  },
  {
   "cell_type": "markdown",
   "metadata": {},
   "source": [
    "# 3.Моменты СВ, Квантиль, ЦПТ, Репрезентативная выборка\n",
    "k-м начальным моментом СВ $$v_k = \\mathbb{M}[X^k]$$\n",
    "k-м центральным моментом СВ $$\\mu_k = \\mathbb{M}[(X - \\mathbb{M}X)^k]$$\n",
    "Репрезентативная выборка $$P(|\\widehat{p}-p|<\\epsilon)=1-\\alpha$$\n",
    "точность - $\\epsilon$, уровень доверия - $\\alpha$\n",
    "\n",
    "Квантиль уровня-$\\alpha$ $$F(x_\\alpha) = \\alpha$$"
   ]
  },
  {
   "cell_type": "markdown",
   "metadata": {},
   "source": [
    "### Пример\n",
    "Выведем формулу, определяющую необходимый размер выборки для случая биноминального распределения для заданной погрешностью $\\epsilon$ и вероятностью $\\alpha$\n",
    "Возможны 2 случая:\n",
    "1) Выборка формируется с возвращением (т.е. возможны ситуации, когда одно и тоже наблюдение попадет в нашу выборку m раз)\n",
    "2) Без возвращения (когда наблюдение может попасть в выборку только один раз)\n",
    "1. Для $n$ наблюдений будем иметь $x$ наблюдений со значениием 1 и $(n-x)$. Тогда:\n",
    "$$P(X=K)=C^k_np^k(1-p)^{n-k}$$\n",
    "$$X \\sim Bi(n,p)$$\n",
    "$$M[X]=np$$\n",
    "$$D[X]=np(1-p)=npq$$\n",
    "\n",
    "Исходная задача может быть представлена как: $\\widehat{p}-p \\sim N(0, \\frac{pq}{n})$ в силу центральной предельной теоремы (для случая с большим достаточно большим n).\n",
    "Тогда:\n",
    "$1-\\alpha=P(|\\widehat{p}-p|<\\epsilon)=2*\\Phi_0(\\frac{\\epsilon*\\sqrt{n}}{\\sqrt{pq}})$, где $\\Phi_0$ - функция Лапласса\n",
    "$$\\Phi_0(\\frac{\\epsilon*\\sqrt{n}}{\\sqrt{pq}}) = 1/2 - \\alpha/2$$\n",
    "Отсюда следует, что:\n",
    "$$\\frac{\\epsilon*\\sqrt{n}}{\\sqrt{pq}} = Z_{1-\\alpha/2}$$, тогда\n",
    "$$n=(\\frac{Z_{1-\\alpha/2}}{\\epsilon})^2pq$$\n",
    "Поскольку $p$ и $q$ из предыдущей формулы нам не известны по условию, мы можешь задать их $p=q=1/2$, как наихудший случай"
   ]
  },
  {
   "cell_type": "code",
   "execution_count": 19,
   "metadata": {},
   "outputs": [
    {
     "name": "stdout",
     "output_type": "stream",
     "text": [
      "0.5519229758293475\n",
      "Доверительный интервал:[ 0.5513203129028185 , 0.5525256387558765 ]\n"
     ]
    }
   ],
   "source": [
    "n1 = 1459371 #Решка\n",
    "n2 = 1184786 #Орел\n",
    "n = n1+n2 #Общее количество бросков\n",
    "\n",
    "alpha = 0.95 \n",
    "z = st.norm \n",
    "\n",
    "eps = z.ppf(alpha/2+z.cdf(0))/(2.0*np.sqrt(n)) #радиус доверительного интервала\n",
    "\n",
    "print(float(n1)/n)\n",
    "LowI = float(n1)/n-eps #Нижняя граница для вероятности\n",
    "UpperI= float(n1)/n+eps #Верхняя граница для вероятности\n",
    "print ('Доверительный интервал:[',LowI,',',UpperI,']')"
   ]
  },
  {
   "cell_type": "markdown",
   "metadata": {},
   "source": [
    "# 4.Определение доверительного интервала для неизвестного параметра нормального распределения."
   ]
  },
  {
   "cell_type": "markdown",
   "metadata": {},
   "source": [
    "## Основные определения\n",
    "Пусть есть выборка $X_1, X_2, ... , X_n$ из распределения $F(X, \\theta)$, $\\theta \\in \\Theta \\subset R^1$. Говорят, что для параметра $\\Theta$ построен доверительный интервал уровня надежности $1-\\alpha$, где $0 < \\alpha < 1$ и найдены такие статистики $T_1(X_1, ..., X_n)$ и $T_2(X_1, ..., X_n)$, что  $T_1(X_1, ..., X_n) < T_2(X_1, ..., X_n)$ и $P(T_1(X_1, ..., X_n) < \\theta < T_2(X_1, ..., X_n)) = 1 - \\alpha$,\n",
    "Интервал со случайными концами $(\\ T_1(X_1, ..., X_n), T_2(X_1, ..., X_n)\\ )$ называется доверительным интервалом для параметра $\\theta$ уровня надежности $1-\\alpha$\n",
    "\n",
    "Случайная функция $G(X,\\theta)$ называется центральной статистикой, если она удовлетворяет 2 условиям:\n",
    "    $$1)$$ $G(X,\\theta)$ строгомонотонна и непрерывна по $\\theta$ \n",
    "    $$2)$$ Функция распределения $G$ $F_{G}$ не зависит от $\\theta$. Т.е. $F_{G}(X)$\n",
    "\n",
    "Дальнейший ход определения доверительных интервалов для параметра $\\theta$ будет заключаться в построении неравенства \n",
    "$P(F_{G}(X)<Z_{1-\\alpha})=1-\\alpha$, либо $P(F_{G}(X)>Z_{\\alpha})=1-\\alpha$, либо $P(Z_{\\alpha/2}<F_{G}(X)<Z_{1-\\alpha/2})=1-\\alpha$ (взависимости от того, какой тип доверительного интервала (правый односторонний, левый односторонний или двусторонний соответственно) нам нужен) и преобразовании его к виду из определения доверительного интервала с целью нахождения его границ. Отдельно стоит отметить, что $Z_\\alpha$ - в данном случае это квартиль уровня $\\alpha$ распределения $F_{G}(X)$."
   ]
  },
  {
   "cell_type": "markdown",
   "metadata": {},
   "source": [
    "## Одновыборочный случай"
   ]
  },
  {
   "cell_type": "markdown",
   "metadata": {},
   "source": [
    "### 1. Неизвестное мат. ожидание при известной дисперсии\n",
    "Дано: $X_1, ..., X_n \\sim N(\\theta, \\sigma^2)$\n",
    "\n",
    "В качестве оценки для мат. ожидания будем использовать выборочное среднее: $\\widehat{\\theta} = 1/n * \\sum_{i=0}^{n} X_i = \\bar{X}$\n",
    "\n",
    "\n",
    "центральная статистика $$\\frac{(\\widehat{\\theta} - \\theta)*\\sqrt{n}}{\\sigma} \\sim N(0, 1)$$\n",
    "Тогда доверительный интервал можно построить след. образом: $$P(Z_{\\alpha/2}<\\frac{(\\widehat{\\theta} - \\theta)*\\sqrt{n}}{\\sigma}<Z_{1-\\alpha/2})=1-\\alpha$$, тогда в силу $z_{\\alpha/2} = - z_{1-\\alpha/2}$ для нормального распределения, получаем\n",
    "$$P(\\widehat{\\theta} - \\frac{Z_{1-\\alpha/2}*\\sigma}{\\sqrt{n}} <\\theta<\\frac{Z_{1-\\alpha/2}*\\sigma}{\\sqrt{n}} + \\widehat{\\theta} )=1-\\alpha$$\n",
    "Тогда доверительный интервал для $\\sigma$ в соответствии с определением дов. интервала определяется:\n",
    "$$(\\ \\bar{X} - \\frac{Z_{1-\\alpha/2}*\\sigma}{\\sqrt{n}}\\ ,\\ \\bar{X} + \\frac{Z_{1-\\alpha/2}*\\sigma}{\\sqrt{n}}\\ )$$"
   ]
  },
  {
   "cell_type": "markdown",
   "metadata": {},
   "source": [
    "### 2. Неизвестная дисперсия при известном мат. ожидании\n",
    "\n",
    "Дано: $X_1, ..., X_n \\sim N(\\mu, \\theta_2^2)$\n",
    "\n",
    "Для начала построим оценку для дисперсии. Возьмем выборочную дисперсию: $$\\widehat{\\theta}^2=S^2=1/n*\\sum_{i=1}^{n}(X_i-\\mu)^2$$\n",
    "Данная оценка имеет распределение очень похожее на $\\chi^2$. Отнормируем слогаемые на среднеквадратичное отклонение и умножим сумму на n, тогда получим след. статистику: $$\\sum_{i=1}^{n}(\\frac{(X_i-\\mu)}{\\theta_2})^2 \\sim \\chi^2(n)$$, где $n$ - кол-во степеней свободы распределения $\\chi^2$\n",
    "\n",
    "Данная статистика будет являться центральной статистикой (по определению). Соответственно, можем найти границы доверительного интервала для $\\theta_2$. Для этого построим неравенство:\n",
    "$$P(\\chi^2_{\\alpha/2, n} < \\sum_{i=1}^{n}(\\frac{(X_i-\\mu)}{\\theta_2})^2 < \\chi^2_{1-\\alpha/2, n})=1-\\alpha$$, где $\\chi^2_{\\alpha, n}$ - квантиль уровня $\\alpha$ распределения $\\chi^2$ с $n$ степенями свободы.\n",
    "$$(\\frac{\\sum_{i=1}^{n}(X_i-\\mu)^2}{\\chi^2_{1-\\alpha/2, n}},\\ \\frac{\\sum_{i=1}^{n}(X_i-\\mu)^2}{\\chi^2_{\\alpha/2, n}})$$"
   ]
  },
  {
   "cell_type": "markdown",
   "metadata": {},
   "source": [
    "### 3. Неизвестная дисперсия при неизвестном мат. ожидании\n",
    "\n",
    "Дано: $X_1, ..., X_n \\sim N(\\theta_1, \\theta_2^2)$\n",
    "\n",
    "$$(\\frac{\\sum_{i=1}^{n}(X_i-\\bar{X})^2}{\\chi^2_{1-\\alpha/2, n-1}},\\ \\frac{\\sum_{i=1}^{n}(X_i-\\bar{X})^2}{\\chi^2_{\\alpha/2, n-1}})$$"
   ]
  },
  {
   "cell_type": "markdown",
   "metadata": {},
   "source": [
    "### 4. Неизвестное мат. ожидание при неизвестной дисперсии\n",
    "\n",
    "Дано: $X_1, ..., X_n \\sim N(\\theta_1, \\theta_2^2)$\n",
    "\n",
    "$$P(t_{\\alpha/2, n-1}<\\frac{(\\bar{X} - \\theta_1)*\\sqrt{n}}{S}<t_{1-\\alpha/2, n-1})=1-\\alpha$$\n",
    "Тогда доверительный интервал будет задаваться: \n",
    "$$(\\bar{X} - \\frac{t_{1-\\alpha/2, n-1}*S}{\\sqrt{n}}, \\frac{t_{1-\\alpha/2, n-1}*S}{\\sqrt{n}} + \\bar{X} )$$"
   ]
  },
  {
   "cell_type": "markdown",
   "metadata": {},
   "source": [
    "**Работа с данными:** https://www2.stat.duke.edu/courses/Spring01/sta114/data/andrews.html (7. Stanford Heart Transplant Data)"
   ]
  },
  {
   "cell_type": "code",
   "execution_count": 20,
   "metadata": {},
   "outputs": [
    {
     "name": "stdout",
     "output_type": "stream",
     "text": [
      "(184, 8)\n"
     ]
    }
   ],
   "source": [
    "#наиболее простой способ считать данные из таблицы \n",
    "Z = np.loadtxt('T07.1');\n",
    "print(Z.shape)"
   ]
  },
  {
   "cell_type": "code",
   "execution_count": 21,
   "metadata": {
    "scrolled": true
   },
   "outputs": [
    {
     "name": "stdout",
     "output_type": "stream",
     "text": [
      "184.0\n",
      "41.09239130434783\n",
      "41.09239130434783\n",
      "<class 'list'>\n"
     ]
    }
   ],
   "source": [
    "class DataSet(object):\n",
    "    \n",
    "    def __init__(self, id, day, life, age, titr):\n",
    "        \"\"\"Constructor\"\"\"\n",
    "        self.id = id\n",
    "        self.day = day\n",
    "        self.life = life\n",
    "        self.age = age\n",
    "        self.titr = titr\n",
    "\n",
    "\n",
    "FILE = open('T07.1', 'r')\n",
    "FILE.seek(0)\n",
    "\n",
    "n = sum(1 for line in FILE);\n",
    "FILE.seek(0)\n",
    "\n",
    "DS = [DataSet(0,0, 0, 0, 0) for x in range(n)];\n",
    "\n",
    "DS_day = []\n",
    "DS_life = []\n",
    "DS_age = []\n",
    "DS_titr = []\n",
    "\n",
    "\n",
    "i=0     \n",
    "for line in FILE:\n",
    "    S=line.split(' ')\n",
    "    S=[x for x in S if x]\n",
    "    #print(S)\n",
    "    \n",
    "    DS[i].id = int(S[3]) \n",
    "    DS[i].day = float(S[4])\n",
    "    DS[i].life = int(S[5])\n",
    "    DS[i].age = float(S[6])\n",
    "    DS[i].titr = float(S[7])\n",
    "    \n",
    "    DS_day.append(float(S[4]));\n",
    "    DS_life.append(int(S[5]));\n",
    "    DS_age.append(float(S[6]))\n",
    "    DS_titr.append(float(S[7]))\n",
    "    \n",
    "    i=i+1;\n",
    "    \n",
    "    \n",
    "FILE.close()\n",
    "\n",
    "N = float(n)\n",
    "print(N)\n",
    "\n",
    "mu = 0\n",
    "for i in range(n):\n",
    "    mu=mu+DS[i].age\n",
    "    \n",
    "print(mu/N)\n",
    "print(np.mean(DS_age))\n",
    "print(type(DS))"
   ]
  },
  {
   "cell_type": "code",
   "execution_count": 22,
   "metadata": {},
   "outputs": [
    {
     "data": {
      "image/png": "[encoded data removed]",
      "text/plain": [
       "<Figure size 432x288 with 1 Axes>"
      ]
     },
     "metadata": {},
     "output_type": "display_data"
    }
   ],
   "source": [
    "plt.hist(DS_age, bins=20, density = 1.0);"
   ]
  },
  {
   "cell_type": "code",
   "execution_count": 23,
   "metadata": {
    "scrolled": true
   },
   "outputs": [
    {
     "name": "stdout",
     "output_type": "stream",
     "text": [
      "41.09239130434783\n",
      "121.12733341209831\n",
      "----------------------------------------\n",
      "Доверительный интервал Sigm^2:[ 100.23432909471929 , 151.17053098701118 ]\n"
     ]
    },
    {
     "data": {
      "image/png": "[encoded data removed]",
      "text/plain": [
       "<Figure size 432x288 with 1 Axes>"
      ]
     },
     "metadata": {},
     "output_type": "display_data"
    }
   ],
   "source": [
    "plt.hist(DS_age, bins=20, density = 1.0);\n",
    "\n",
    "#alfa = 0.05 \n",
    "mu = np.mean(DS_age)\n",
    "print(mu)\n",
    "print(np.var(DS_age))\n",
    "print('-'*40)\n",
    "St = (sum((DS_age-mu)**2))\n",
    "\n",
    "\n",
    "LowI = St/st.chi2.ppf(0.975, 183) #Нижняя граница \n",
    "UpperI= St/st.chi2.ppf(0.025, 183) #Верхняя граница \n",
    "\n",
    "print ('Доверительный интервал Sigm^2:[',LowI,',',UpperI,']')\n",
    "\n"
   ]
  },
  {
   "cell_type": "markdown",
   "metadata": {},
   "source": [
    "**Выбросы в данных**"
   ]
  },
  {
   "cell_type": "code",
   "execution_count": 24,
   "metadata": {},
   "outputs": [
    {
     "data": {
      "image/png": "[encoded data removed]",
      "text/plain": [
       "<Figure size 432x288 with 1 Axes>"
      ]
     },
     "metadata": {},
     "output_type": "display_data"
    }
   ],
   "source": [
    "plt.hist(DS_titr, bins=20, density = 1.0);"
   ]
  },
  {
   "cell_type": "code",
   "execution_count": 25,
   "metadata": {},
   "outputs": [
    {
     "name": "stdout",
     "output_type": "stream",
     "text": [
      "[1.11, 1.66, 0.61, 1.32, 0.36, 1.89, 0.87, 2.05, 1.12, 1.13, 2.76, 1.38, 0.96, 1.06, 1.62, 0.47, 1.58, 0.69, 0.38, 0.91, 0.87, 0.87, 2.09, -9999.0, 0.75, 0.98, 0.0, 0.81, 1.38, 1.35, 1.08, -9999.0, -9999.0, 1.51, 1.82, 0.98, 0.66, 0.19, 1.93, 0.12, 1.12, 1.68, 1.02, 1.2, 1.68, 1.46, 0.97, 0.61, 2.16, 1.7, 1.41, 1.94, 1.08, 3.05, 0.6, 1.44, 0.68, 2.25, 0.81, 0.33, 1.33, 0.82, 1.2, -9999.0, 0.46, 1.78, 0.16, 0.77, 0.67, 0.48, 0.86, 0.7, 1.44, 1.26, 1.46, 1.65, 1.28, 0.69, 0.42, 0.51, 2.76, 0.83, 0.85, 0.7, 0.95, 1.12, 1.77, 1.64, 1.59, 1.0, 0.43, 1.25, 0.53, 1.71, 0.18, 1.05, 1.71, 0.43, 0.7, 1.74, 0.95, -9999.0, 1.65, 1.38, 0.58, 0.36, 1.13, 0.63, 0.98, 0.64, 1.68, 0.82, 0.16, 1.15, 1.74, 0.99, 2.25, 0.65, 0.54, 0.25, 1.35, 0.73, 0.84, 0.5, 0.95, -9999.0, 1.1, -9999.0, 1.24, 0.86, -9999.0, 1.22, 0.47, 1.98, 1.02, 1.12, 1.5, 0.53, 1.26, 1.09, 0.47, 0.75, 1.04, 1.0, 0.9, 0.82, 2.25, -9999.0, 0.2, 2.53, 0.47, 0.43, -9999.0, 1.89, 1.33, -9999.0, 1.39, 2.07, 1.49, -9999.0, -9999.0, 1.18, 1.17, -9999.0, 0.5, 0.96, 1.73, 1.4, 0.98, -9999.0, -9999.0, 0.96, -9999.0, 1.72, -9999.0, -9999.0, -9999.0, -9999.0, -9999.0, -9999.0, -9999.0, -9999.0, -9999.0, -9999.0]\n",
      "\n",
      "\n",
      "[1.11, 1.66, 0.61, 1.32, 0.36, 1.89, 0.87, 2.05, 1.12, 1.13, 2.76, 1.38, 0.96, 1.06, 1.62, 0.47, 1.58, 0.69, 0.38, 0.91, 0.87, 0.87, 2.09, 0.75, 0.98, 0.0, 0.81, 1.38, 1.35, 1.08, 1.51, 1.82, 0.98, 0.66, 0.19, 1.93, 0.12, 1.12, 1.68, 1.02, 1.2, 1.68, 1.46, 0.97, 0.61, 2.16, 1.7, 1.41, 1.94, 1.08, 3.05, 0.6, 1.44, 0.68, 2.25, 0.81, 0.33, 1.33, 0.82, 1.2, 0.46, 1.78, 0.16, 0.77, 0.67, 0.48, 0.86, 0.7, 1.44, 1.26, 1.46, 1.65, 1.28, 0.69, 0.42, 0.51, 2.76, 0.83, 0.85, 0.7, 0.95, 1.12, 1.77, 1.64, 1.59, 1.0, 0.43, 1.25, 0.53, 1.71, 0.18, 1.05, 1.71, 0.43, 0.7, 1.74, 0.95, 1.65, 1.38, 0.58, 0.36, 1.13, 0.63, 0.98, 0.64, 1.68, 0.82, 0.16, 1.15, 1.74, 0.99, 2.25, 0.65, 0.54, 0.25, 1.35, 0.73, 0.84, 0.5, 0.95, 1.1, 1.24, 0.86, 1.22, 0.47, 1.98, 1.02, 1.12, 1.5, 0.53, 1.26, 1.09, 0.47, 0.75, 1.04, 1.0, 0.9, 0.82, 2.25, 0.2, 2.53, 0.47, 0.43, 1.89, 1.33, 1.39, 2.07, 1.49, 1.18, 1.17, 0.5, 0.96, 1.73, 1.4, 0.98, 0.96, 1.72]\n"
     ]
    }
   ],
   "source": [
    "print(DS_titr)\n",
    "print('\\n')\n",
    "for i in range(DS_titr.count(-9999)):\n",
    "    DS_titr.remove(-9999) \n",
    "    \n",
    "print(DS_titr)\n",
    "#функции которые будем использовать\n",
    "#list.remove()\n",
    "#list.count() "
   ]
  },
  {
   "cell_type": "code",
   "execution_count": 26,
   "metadata": {},
   "outputs": [
    {
     "data": {
      "image/png": "[encoded data removed]",
      "text/plain": [
       "<Figure size 432x288 with 1 Axes>"
      ]
     },
     "metadata": {},
     "output_type": "display_data"
    }
   ],
   "source": [
    "plt.hist(DS_titr, bins=20, density = 1.0);"
   ]
  },
  {
   "cell_type": "markdown",
   "metadata": {},
   "source": [
    "След. занятие.\n",
    "\n",
    "# Проверка статистических гипотез\n",
    "## Методика проверки статистических гипотез\n",
    "\n",
    "### 1. Достигаемый уровень значимости (p-value)\n",
    "### 2. Критерии согласия\n",
    "### 3. Критерии сдвига\n",
    "### 4. Критерии нормальности\n",
    "### 5. Коэффициент корреляции Пирсона. Статистическая проверка наличия корреляции. "
   ]
  },
  {
   "cell_type": "code",
   "execution_count": null,
   "metadata": {},
   "outputs": [],
   "source": []
  },
  {
   "cell_type": "code",
   "execution_count": null,
   "metadata": {},
   "outputs": [],
   "source": []
  },
  {
   "cell_type": "code",
   "execution_count": null,
   "metadata": {},
   "outputs": [],
   "source": []
  }
 ],
 "metadata": {
  "kernelspec": {
   "display_name": "Python 3",
   "language": "python",
   "name": "python3"
  },
  "language_info": {
   "codemirror_mode": {
    "name": "ipython",
    "version": 3
   },
   "file_extension": ".py",
   "mimetype": "text/x-python",
   "name": "python",
   "nbconvert_exporter": "python",
   "pygments_lexer": "ipython3",
   "version": "3.7.4"
  }
 },
 "nbformat": 4,
 "nbformat_minor": 2
}
