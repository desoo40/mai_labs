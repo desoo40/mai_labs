{
 "cells": [
  {
   "cell_type": "code",
   "execution_count": 1,
   "metadata": {},
   "outputs": [],
   "source": [
    "import numpy as np\n",
    "from mpl_toolkits.mplot3d import Axes3D\n",
    "import matplotlib.pyplot as plt\n",
    "from matplotlib import cm\n",
    "from matplotlib.ticker import LinearLocator, FormatStrFormatter\n",
    "from sympy import diff, symbols, cos, sin\n",
    "import random\n"
   ]
  },
  {
   "cell_type": "code",
   "execution_count": 90,
   "metadata": {},
   "outputs": [],
   "source": [
    "def my_func(x):\n",
    "    return np.sin(x*3) + np.cos(2*x) + np.sin(x**2)"
   ]
  },
  {
   "cell_type": "code",
   "execution_count": 95,
   "metadata": {},
   "outputs": [
    {
     "data": {
      "text/plain": [
       "[<matplotlib.lines.Line2D at 0xe654e70>]"
      ]
     },
     "execution_count": 95,
     "metadata": {},
     "output_type": "execute_result"
    },
    {
     "data": {
      "image/png": "[encoded data removed]",
      "text/plain": [
       "<Figure size 432x288 with 1 Axes>"
      ]
     },
     "metadata": {
      "needs_background": "light"
     },
     "output_type": "display_data"
    }
   ],
   "source": [
    "x = np.linspace(-5, 5, 50)\n",
    "y = my_func(x) #+ np.sin(x * 25.5)\n",
    "\n",
    "y [10] = 10.\n",
    "y [20] = 7.\n",
    "y [0] = 5.\n",
    "y [5] = 11.\n",
    "\n",
    "plt.plot(x, y, 'o')"
   ]
  },
  {
   "cell_type": "code",
   "execution_count": 56,
   "metadata": {},
   "outputs": [],
   "source": [
    "from scipy.misc import derivative"
   ]
  },
  {
   "cell_type": "code",
   "execution_count": 57,
   "metadata": {},
   "outputs": [],
   "source": [
    "def grad(fun, x_0, alpha, eps):\n",
    "    x = 1000\n",
    "    x_l = list()\n",
    "    x_l.append(x_0)\n",
    "    while (1):\n",
    "        if abs(x - x_0) < eps:\n",
    "            break\n",
    "        x = x_0\n",
    "        x_0 = x - alpha * derivative(fun, x,  dx=1e-6)\n",
    "        x_l.append(x_0)\n",
    "    return x, np.array(x_l)"
   ]
  },
  {
   "cell_type": "code",
   "execution_count": 58,
   "metadata": {},
   "outputs": [],
   "source": [
    "def find_global(fun, alpha, eps, a, b, size):\n",
    "    m=10000\n",
    "    newArray = np.random.randint(a*m, b*m, size)/m\n",
    "    gl = fun(newArray[0])\n",
    "    print(newArray)\n",
    "    for el in newArray:\n",
    "        x1, _ = grad(fun, el, alpha, eps)\n",
    "        \n",
    "        if (fun(x1) < gl):\n",
    "            gl = x1\n",
    "            \n",
    "    return gl\n"
   ]
  },
  {
   "cell_type": "code",
   "execution_count": 59,
   "metadata": {},
   "outputs": [],
   "source": [
    "from scipy.optimize import minimize"
   ]
  },
  {
   "cell_type": "code",
   "execution_count": 60,
   "metadata": {},
   "outputs": [
    {
     "name": "stdout",
     "output_type": "stream",
     "text": [
      "Optimization terminated successfully.\n",
      "         Current function value: -0.259419\n",
      "         Iterations: 28\n",
      "         Function evaluations: 56\n",
      "[-0.60685128]\n"
     ]
    }
   ],
   "source": [
    "x0 = -1\n",
    "res = minimize(my_func, x0, method='nelder-mead',\n",
    "    options={'xtol': 1e-8, 'disp': True})\n",
    "print(res.x)"
   ]
  },
  {
   "cell_type": "code",
   "execution_count": 61,
   "metadata": {},
   "outputs": [
    {
     "data": {
      "text/plain": [
       "-0.6068524234324737"
      ]
     },
     "execution_count": 61,
     "metadata": {},
     "output_type": "execute_result"
    }
   ],
   "source": [
    "my_min, x_l = grad(my_func, x0, 0.001, 1e-8)\n",
    "my_min"
   ]
  },
  {
   "cell_type": "code",
   "execution_count": 62,
   "metadata": {},
   "outputs": [
    {
     "data": {
      "text/plain": [
       "-0.25941902688099877"
      ]
     },
     "execution_count": 62,
     "metadata": {},
     "output_type": "execute_result"
    }
   ],
   "source": [
    "my_func(my_min)"
   ]
  },
  {
   "cell_type": "code",
   "execution_count": 63,
   "metadata": {},
   "outputs": [],
   "source": [
    "\n",
    "y_l = my_func(x_l)"
   ]
  },
  {
   "cell_type": "code",
   "execution_count": 74,
   "metadata": {},
   "outputs": [
    {
     "name": "stdout",
     "output_type": "stream",
     "text": [
      "[ 0.1068  1.7241 -4.9577  1.6999 -2.9692  0.7377 -0.0658 -4.634   3.3181\n",
      " -4.4965 -1.2371 -4.752  -2.8419 -4.45   -2.9264  2.8226  2.1255  0.5944\n",
      "  1.0015 -0.7349 -4.3929  1.4608 -4.1411 -3.1484 -2.9093 -4.1707  1.2614\n",
      "  3.0421 -2.6537  1.548   2.6606  1.1982 -1.9445 -4.2065  1.2658 -1.9324\n",
      " -2.3444  2.3517  2.2388  3.2155 -1.0493 -2.5562  1.6434  2.6195  3.3883\n",
      " -0.397   1.543   1.7012  1.8691 -2.5765 -2.1679 -1.3211  3.9269 -1.3356\n",
      " -3.6934  0.4412  2.9495  3.4565 -2.5544 -3.7653  2.4346 -2.1415 -4.0902\n",
      " -2.1629 -3.5258  2.2083  1.5644 -2.1665 -3.2526  3.1144  1.7485 -0.3182\n",
      " -2.1159 -2.2133 -0.9441  0.7252 -0.6044  3.7552 -0.3789  3.5739 -2.0467\n",
      " -1.2899 -1.0851 -3.188   3.1741 -1.2526 -0.6651  1.4395 -3.1408 -1.2157\n",
      "  3.9924 -0.5358 -0.4759 -0.1274  1.5147 -1.5337  3.2456 -3.3874  0.7165\n",
      " -2.4142]\n"
     ]
    },
    {
     "data": {
      "text/plain": [
       "-4.837035630244892"
      ]
     },
     "execution_count": 74,
     "metadata": {},
     "output_type": "execute_result"
    }
   ],
   "source": [
    "gl = find_global(my_func, alpha=0.001, eps=1e-8, a=-5, b=4, size=100)\n",
    "gl"
   ]
  },
  {
   "cell_type": "code",
   "execution_count": 75,
   "metadata": {},
   "outputs": [
    {
     "data": {
      "text/plain": [
       "-2.8863956145210095"
      ]
     },
     "execution_count": 75,
     "metadata": {},
     "output_type": "execute_result"
    }
   ],
   "source": [
    "my_func(gl)"
   ]
  },
  {
   "cell_type": "code",
   "execution_count": 76,
   "metadata": {},
   "outputs": [
    {
     "data": {
      "text/plain": [
       "[<matplotlib.lines.Line2D at 0x4bca3d0>]"
      ]
     },
     "execution_count": 76,
     "metadata": {},
     "output_type": "execute_result"
    },
    {
     "data": {
      "image/png": "[encoded data removed]",
      "text/plain": [
       "<Figure size 432x288 with 1 Axes>"
      ]
     },
     "metadata": {
      "needs_background": "light"
     },
     "output_type": "display_data"
    }
   ],
   "source": [
    "plt.plot(x, y)\n",
    "plt.plot(x_l, y_l, 'o')\n",
    "plt.plot(gl, my_func(gl),'v')"
   ]
  },
  {
   "cell_type": "code",
   "execution_count": 67,
   "metadata": {},
   "outputs": [
    {
     "data": {
      "text/plain": [
       "-0.6783311992185932"
      ]
     },
     "execution_count": 67,
     "metadata": {},
     "output_type": "execute_result"
    }
   ],
   "source": [
    "my_func(gl)"
   ]
  },
  {
   "cell_type": "code",
   "execution_count": null,
   "metadata": {},
   "outputs": [],
   "source": []
  }
 ],
 "metadata": {
  "kernelspec": {
   "display_name": "Python 3",
   "language": "python",
   "name": "python3"
  },
  "language_info": {
   "codemirror_mode": {
    "name": "ipython",
    "version": 3
   },
   "file_extension": ".py",
   "mimetype": "text/x-python",
   "name": "python",
   "nbconvert_exporter": "python",
   "pygments_lexer": "ipython3",
   "version": "3.7.4"
  }
 },
 "nbformat": 4,
 "nbformat_minor": 2
}
