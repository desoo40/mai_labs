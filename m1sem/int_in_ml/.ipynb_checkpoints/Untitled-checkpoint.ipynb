{
 "cells": [
  {
   "cell_type": "code",
   "execution_count": null,
   "metadata": {},
   "outputs": [],
   "source": [
    "def SqLeastRegMy1(x, y, m, alpha):\n",
    "    global G, Phi\n",
    "    \n",
    "    n = len(x)\n",
    "    \n",
    "    Phi = np.zeros ((n,m+1))\n",
    "    \n",
    "    for k in range (0, m+1):\n",
    "        Phi[:,k] = BasicFunctions (k, x)\n",
    "    \n",
    "    PhiT = Phi.T\n",
    "    \n",
    "    a = np.linalg.solve(PhiT @ Phi, PhiT @ y)\n",
    "    \n",
    "    eps = 0.001\n",
    "    \n",
    "    for i in range(0, 10):\n",
    "        \n",
    "        a_i = a\n",
    "        \n",
    "        R = np.zeros(n)\n",
    "        \n",
    "        for j in (0, n - 1):\n",
    "            R[j, j] = abs((Phi * a_i)[j] - y[j]) / ((Phi * a_i)[j] - y[j])**2\n",
    "\n",
    "        \n",
    "        a = np.linalg.solve(PhiT @ R @ Phi, PhiT @ R @ y)\n",
    "        e = a - a_i\n",
    "        epsit = (sum(e**2))**0.5/len(e)\n",
    "        \n",
    "        print ('iteration', i, a, np.sign(a), epsit)\n",
    "        \n",
    "        if (epsit <= eps):\n",
    "            break\n",
    "         \n",
    "    return a,"
   ]
  }
 ],
 "metadata": {
  "kernelspec": {
   "display_name": "Python 3",
   "language": "python",
   "name": "python3"
  },
  "language_info": {
   "codemirror_mode": {
    "name": "ipython",
    "version": 3
   },
   "file_extension": ".py",
   "mimetype": "text/x-python",
   "name": "python",
   "nbconvert_exporter": "python",
   "pygments_lexer": "ipython3",
   "version": "3.7.4"
  }
 },
 "nbformat": 4,
 "nbformat_minor": 2
}
