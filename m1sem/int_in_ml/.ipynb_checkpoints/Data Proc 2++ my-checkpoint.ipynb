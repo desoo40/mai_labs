{
 "cells": [
  {
   "cell_type": "markdown",
   "metadata": {},
   "source": [
    "## Тема 2. (Продолжение) Робастная сглаживающая аппроксимация."
   ]
  },
  {
   "cell_type": "code",
   "execution_count": 1,
   "metadata": {},
   "outputs": [],
   "source": [
    "%matplotlib inline\n",
    "\n",
    "import numpy as np\n",
    "import scipy.linalg as la\n",
    "import scipy.interpolate as interp\n",
    "import scipy.integrate as integrate\n",
    "import matplotlib as mpl\n",
    "import matplotlib.pyplot as plt\n",
    "import sympy\n",
    "\n",
    "default_dpi = mpl.rcParamsDefault['figure.dpi']\n",
    "factor = 1\n",
    "mpl.rcParams['figure.dpi'] = default_dpi * factor"
   ]
  },
  {
   "cell_type": "markdown",
   "metadata": {},
   "source": [
    "### Функции вычисления коэффициентов разложения"
   ]
  },
  {
   "cell_type": "code",
   "execution_count": 2,
   "metadata": {},
   "outputs": [],
   "source": [
    "# x(n), y(n) - массив данных\n",
    "# m - степень полинома (количество базисных функций - 1)\n",
    "\n",
    "def SqLeast (x, y, m):\n",
    "    global G, Phi\n",
    "    n = len(x)\n",
    "    Phi = np.zeros ((n,m+1))\n",
    "    for k in range (0, m+1):\n",
    "        Phi[:,k] = BasicFunctions (k, x)\n",
    "    PhiT = Phi.T\n",
    "    G = PhiT @ Phi\n",
    "    z = PhiT @ y\n",
    "    a = np.linalg.solve(G, z)\n",
    "    return a\n",
    "\n",
    "def SqLeastReg (x, y, m, alpha):\n",
    "    global G\n",
    "    n = len(x)\n",
    "    Phi = np.zeros ((n,m+1))\n",
    "    for k in range (0, m+1):\n",
    "        Phi[:,k] = BasicFunctions (k, x)\n",
    "    PhiT = Phi.T\n",
    "    \n",
    "    RegAlpha = np.eye (m+1) * alpha\n",
    "        \n",
    "    G = PhiT @ Phi + RegAlpha \n",
    "    z = PhiT @ y\n",
    "    a = np.linalg.solve(G, z)\n",
    "    return a\n",
    "\n",
    "def SqLeastRobust (x, y, m):\n",
    "    global G, Phi\n",
    "    n = len(x)\n",
    "    yr = np.eye (n)\n",
    "    E = np.eye (n)\n",
    "    Phi = np.zeros ((n,m+1))\n",
    "    for k in range (0, m+1):\n",
    "        Phi[:,k] = BasicFunctions (k, x)\n",
    "    PhiT = Phi.T\n",
    "    G = PhiT @ Phi\n",
    "    z = PhiT @ y\n",
    "    a = np.linalg.solve(G, z)\n",
    "    \n",
    "    dist = 1.5\n",
    "    \n",
    "    yr = y @ E \n",
    "    \n",
    "    eps = 0.001\n",
    "    \n",
    "    # итерационный процесс\n",
    "    \n",
    "    print ()\n",
    "    print ('Итерационный процесс')\n",
    "    print ()\n",
    "    \n",
    "    for it in range (0, 10):\n",
    "    \n",
    "        ait = a  \n",
    "          \n",
    "        PhiA = Phi @ a\n",
    "    \n",
    "        res = Phi @ a - yr        \n",
    "          \n",
    "        for i in range (0, n):\n",
    "            #print ('it*', it,  y[10], PhiA[i]-dist)\n",
    "            if (res[i]>dist):\n",
    "                yr[i] = PhiA[i]-dist\n",
    "                #print ('it+', it,  y[10], PhiA[i]-dist)\n",
    "            if (res[i]<-dist):\n",
    "                yr[i] = PhiA[i]+dist\n",
    "                #print ('it-', it,  y[10], PhiA[i]-dist)\n",
    "                    \n",
    "        z = PhiT @ yr\n",
    "        a = np.linalg.solve(G, z)\n",
    "        \n",
    "        eit = a - ait\n",
    "        epsit = (sum(eit**2))**0.5/len(eit)\n",
    "        \n",
    "        print ('iteration', it, a, epsit)\n",
    "        \n",
    "        if (epsit<=eps):\n",
    "            print ()\n",
    "            break \n",
    "                \n",
    "    return a\n",
    "\n",
    "\n",
    "def BasicFunctions (num, x):\n",
    "    PhiFun = x**num\n",
    "    return PhiFun"
   ]
  },
  {
   "cell_type": "markdown",
   "metadata": {},
   "source": [
    "### Функция вычисления погрешности аппроксимации"
   ]
  },
  {
   "cell_type": "code",
   "execution_count": null,
   "metadata": {},
   "outputs": [],
   "source": [
    "def AppError (x,y,Coefs):\n",
    "    \n",
    "    PolynomValue = np.zeros(len(x))\n",
    "    for i in range (0, m+1):\n",
    "        PolynomValue += Coefs[i]*x**i\n",
    "   \n",
    "    y_av = np.sum(y)/len(x)\n",
    "    y_disp = np.sum((y-y_av)**2)/len(x)\n",
    "    \n",
    "    ResLocal = (y - PolynomValue)\n",
    "    ResLocalRel = ResLocal/y_disp**0.5\n",
    "    ResGlobal = (np.sum ((ResLocal)**2)/len(x))**0.5\n",
    "    ResGlobalRel = ResGlobal / y_disp**0.5\n",
    "    \n",
    "    yv_disp = np.sum((PolynomValue-y_av)**2)/len(x)\n",
    "    \n",
    "    R2 = yv_disp/y_disp\n",
    "        \n",
    "    return ResLocal, ResLocalRel, ResGlobal, ResGlobalRel\n",
    "\n",
    "def R2 (x, y, Coefs):\n",
    "    PolynomValue = np.zeros(len(x))\n",
    "    \n",
    "    for i in range (0, m+1):\n",
    "        PolynomValue += Coefs[i]*x**i\n",
    "   \n",
    "    y_av = np.sum(y)/len(x)\n",
    "    y_disp = np.sum((y-y_av)**2)/len(x)    \n",
    "      \n",
    "    yv_disp = np.sum((PolynomValue-y_av)**2)/len(x)\n",
    "    \n",
    "    R2 = yv_disp/y_disp\n",
    "        \n",
    "    return R2"
   ]
  },
  {
   "cell_type": "markdown",
   "metadata": {},
   "source": [
    "### Формирование набора данных"
   ]
  },
  {
   "cell_type": "code",
   "execution_count": 3,
   "metadata": {},
   "outputs": [
    {
     "data": {
      "text/plain": [
       "[<matplotlib.lines.Line2D at 0xc833470>]"
      ]
     },
     "execution_count": 3,
     "metadata": {},
     "output_type": "execute_result"
    },
    {
     "data": {
      "image/png": "[encoded data removed]",
      "text/plain": [
       "<Figure size 432x288 with 1 Axes>"
      ]
     },
     "metadata": {
      "needs_background": "light"
     },
     "output_type": "display_data"
    }
   ],
   "source": [
    "xleft = -3\n",
    "xright = 6\n",
    "n = 24\n",
    "x = np.linspace(xleft,xright,n)\n",
    "yf = np.zeros ((n))\n",
    "y = np.zeros ((n))\n",
    "yf = -1. + 0.5*x\n",
    "plt.plot (x,yf, 'o')"
   ]
  },
  {
   "cell_type": "markdown",
   "metadata": {},
   "source": [
    "### Зашумление данных"
   ]
  },
  {
   "cell_type": "code",
   "execution_count": 4,
   "metadata": {},
   "outputs": [
    {
     "name": "stdout",
     "output_type": "stream",
     "text": [
      "5.0\n"
     ]
    },
    {
     "data": {
      "image/png": "[encoded data removed]",
      "text/plain": [
       "<Figure size 432x288 with 1 Axes>"
      ]
     },
     "metadata": {
      "needs_background": "light"
     },
     "output_type": "display_data"
    }
   ],
   "source": [
    "Delta = 0.5 * np.random.randn(len(x))\n",
    "y = yf + Delta\n",
    "y_av = np.sum(y)/len(x)\n",
    "\n",
    "y [10] = 5.\n",
    "y [20] = 7.\n",
    "\n",
    "plt.plot (x, y, 'o')\n",
    "\n",
    "print (y[10])"
   ]
  },
  {
   "cell_type": "markdown",
   "metadata": {},
   "source": [
    "### Построение аппроксимационного полинома "
   ]
  },
  {
   "cell_type": "code",
   "execution_count": 5,
   "metadata": {},
   "outputs": [
    {
     "name": "stdout",
     "output_type": "stream",
     "text": [
      "Коэффициенты [-0.6250915   0.55108233]\n",
      "Числа обусловленности матриц G и Phi 13.200833358126769 3.6332951102445272\n"
     ]
    },
    {
     "data": {
      "text/plain": [
       "[<matplotlib.lines.Line2D at 0xe309bb0>]"
      ]
     },
     "execution_count": 5,
     "metadata": {},
     "output_type": "execute_result"
    },
    {
     "data": {
      "image/png": "[encoded data removed]",
      "text/plain": [
       "<Figure size 432x288 with 1 Axes>"
      ]
     },
     "metadata": {
      "needs_background": "light"
     },
     "output_type": "display_data"
    }
   ],
   "source": [
    "m = 1\n",
    "\n",
    "PolynomCoefs = SqLeast(x, y, m)\n",
    "print ('Коэффициенты', PolynomCoefs)\n",
    "\n",
    "cond = np.linalg.cond (G)\n",
    "condPhi = np.linalg.cond (Phi)\n",
    "EigG = np.linalg.eigvals (G)\n",
    "print ('Числа обусловленности матриц G и Phi', cond, condPhi)\n",
    "\n",
    "PolynomValue = np.zeros(len(x))\n",
    "for i in range (0, m+1):\n",
    "    PolynomValue += PolynomCoefs[i]*x**i\n",
    "    \n",
    "plt.plot (x, y, 'o')\n",
    "plt.plot (x, PolynomValue)"
   ]
  },
  {
   "cell_type": "code",
   "execution_count": null,
   "metadata": {},
   "outputs": [],
   "source": [
    "def SqLeastRegMy(x, y, m, alpha):\n",
    "    global G, Phi\n",
    "    \n",
    "    n = len(x)\n",
    "    \n",
    "    Phi = np.zeros ((n,m+1))\n",
    "    \n",
    "    for k in range (0, m+1):\n",
    "        Phi[:,k] = BasicFunctions (k, x)\n",
    "    \n",
    "    PhiT = Phi.T\n",
    "    \n",
    "    G = PhiT @ Phi\n",
    "    z = PhiT @ y\n",
    "    a = np.linalg.solve(G, z)\n",
    "    \n",
    "    eps = 0.001\n",
    "    \n",
    "    for i in range(0, 10):\n",
    "        \n",
    "        a_i = a\n",
    "        a = np.linalg.solve(G, z - alpha* np.sign(a_i))\n",
    "        e = a - a_i\n",
    "        epsit = (sum(e**2))**0.5/len(e)\n",
    "        \n",
    "        print ('iteration', i, a, np.sign(a), epsit)\n",
    "        \n",
    "        if (epsit <= eps):\n",
    "            break\n",
    "         \n",
    "    return a"
   ]
  },
  {
   "cell_type": "code",
   "execution_count": 8,
   "metadata": {},
   "outputs": [],
   "source": [
    "def SqLeastRegMy1(x, y, m, alpha):\n",
    "    global G, Phi\n",
    "    \n",
    "    n = len(x)\n",
    "    \n",
    "    Phi = np.zeros ((n,m+1))\n",
    "    \n",
    "    for k in range (0, m+1):\n",
    "        Phi[:,k] = BasicFunctions (k, x)\n",
    "    \n",
    "    PhiT = Phi.T\n",
    "    \n",
    "    a = np.linalg.solve(PhiT @ Phi, PhiT @ y)\n",
    "    \n",
    "    eps = 0.001\n",
    "    \n",
    "    for i in range(0, 10):\n",
    "        \n",
    "        a_i = a\n",
    "        \n",
    "        R = np.zeros(n)\n",
    "        \n",
    "        for j in (0, n):\n",
    "            R[j, j] = abs((Phi * a_i)[j] - y[j]) / ((Phi * a_i)[j] - y[j])**2\n",
    "\n",
    "        \n",
    "        a = np.linalg.solve(PhiT @ R @ Phi, PhiT @ R @ y)\n",
    "        e = a - a_i\n",
    "        epsit = (sum(e**2))**0.5/len(e)\n",
    "        \n",
    "        print ('iteration', i, a, np.sign(a), epsit)\n",
    "        \n",
    "        if (epsit <= eps):\n",
    "            break\n",
    "         \n",
    "    return a,"
   ]
  },
  {
   "cell_type": "code",
   "execution_count": 9,
   "metadata": {},
   "outputs": [
    {
     "ename": "IndexError",
     "evalue": "too many indices for array",
     "output_type": "error",
     "traceback": [
      "\u001b[1;31m---------------------------------------------------------------------------\u001b[0m",
      "\u001b[1;31mIndexError\u001b[0m                                Traceback (most recent call last)",
      "\u001b[1;32m<ipython-input-9-8fb6513cf9f8>\u001b[0m in \u001b[0;36m<module>\u001b[1;34m\u001b[0m\n\u001b[0;32m      1\u001b[0m \u001b[0mm\u001b[0m \u001b[1;33m=\u001b[0m \u001b[1;36m1\u001b[0m\u001b[1;33m\u001b[0m\u001b[1;33m\u001b[0m\u001b[0m\n\u001b[0;32m      2\u001b[0m \u001b[1;33m\u001b[0m\u001b[0m\n\u001b[1;32m----> 3\u001b[1;33m \u001b[0mPolynomCoefs\u001b[0m \u001b[1;33m=\u001b[0m \u001b[0mSqLeastRegMy1\u001b[0m \u001b[1;33m(\u001b[0m\u001b[0mx\u001b[0m\u001b[1;33m,\u001b[0m \u001b[0my\u001b[0m\u001b[1;33m,\u001b[0m \u001b[0mm\u001b[0m\u001b[1;33m,\u001b[0m \u001b[1;36m1\u001b[0m\u001b[1;33m)\u001b[0m\u001b[1;33m\u001b[0m\u001b[1;33m\u001b[0m\u001b[0m\n\u001b[0m\u001b[0;32m      4\u001b[0m \u001b[0mprint\u001b[0m \u001b[1;33m(\u001b[0m\u001b[1;34m'Коэффициенты'\u001b[0m\u001b[1;33m,\u001b[0m \u001b[0mPolynomCoefs\u001b[0m\u001b[1;33m)\u001b[0m\u001b[1;33m\u001b[0m\u001b[1;33m\u001b[0m\u001b[0m\n\u001b[0;32m      5\u001b[0m \u001b[1;33m\u001b[0m\u001b[0m\n",
      "\u001b[1;32m<ipython-input-8-981e90e7eeaa>\u001b[0m in \u001b[0;36mSqLeastRegMy1\u001b[1;34m(x, y, m, alpha)\u001b[0m\n\u001b[0;32m     22\u001b[0m \u001b[1;33m\u001b[0m\u001b[0m\n\u001b[0;32m     23\u001b[0m         \u001b[1;32mfor\u001b[0m \u001b[0mj\u001b[0m \u001b[1;32min\u001b[0m \u001b[1;33m(\u001b[0m\u001b[1;36m0\u001b[0m\u001b[1;33m,\u001b[0m \u001b[0mn\u001b[0m\u001b[1;33m-\u001b[0m\u001b[1;36m1\u001b[0m\u001b[1;33m)\u001b[0m\u001b[1;33m:\u001b[0m\u001b[1;33m\u001b[0m\u001b[1;33m\u001b[0m\u001b[0m\n\u001b[1;32m---> 24\u001b[1;33m             \u001b[0mR\u001b[0m\u001b[1;33m[\u001b[0m\u001b[0mj\u001b[0m\u001b[1;33m,\u001b[0m \u001b[0mj\u001b[0m\u001b[1;33m]\u001b[0m \u001b[1;33m=\u001b[0m \u001b[0mabs\u001b[0m\u001b[1;33m(\u001b[0m\u001b[1;33m(\u001b[0m\u001b[0mPhi\u001b[0m \u001b[1;33m*\u001b[0m \u001b[0ma_i\u001b[0m\u001b[1;33m)\u001b[0m\u001b[1;33m[\u001b[0m\u001b[0mj\u001b[0m\u001b[1;33m]\u001b[0m \u001b[1;33m-\u001b[0m \u001b[0my\u001b[0m\u001b[1;33m[\u001b[0m\u001b[0mj\u001b[0m\u001b[1;33m]\u001b[0m\u001b[1;33m)\u001b[0m \u001b[1;33m/\u001b[0m \u001b[1;33m(\u001b[0m\u001b[1;33m(\u001b[0m\u001b[0mPhi\u001b[0m \u001b[1;33m*\u001b[0m \u001b[0ma_i\u001b[0m\u001b[1;33m)\u001b[0m\u001b[1;33m[\u001b[0m\u001b[0mj\u001b[0m\u001b[1;33m]\u001b[0m \u001b[1;33m-\u001b[0m \u001b[0my\u001b[0m\u001b[1;33m[\u001b[0m\u001b[0mj\u001b[0m\u001b[1;33m]\u001b[0m\u001b[1;33m)\u001b[0m\u001b[1;33m**\u001b[0m\u001b[1;36m2\u001b[0m\u001b[1;33m\u001b[0m\u001b[1;33m\u001b[0m\u001b[0m\n\u001b[0m\u001b[0;32m     25\u001b[0m \u001b[1;33m\u001b[0m\u001b[0m\n\u001b[0;32m     26\u001b[0m \u001b[1;33m\u001b[0m\u001b[0m\n",
      "\u001b[1;31mIndexError\u001b[0m: too many indices for array"
     ]
    }
   ],
   "source": [
    "m = 1\n",
    "\n",
    "PolynomCoefs = SqLeastRegMy1 (x, y, m, 1)\n",
    "print ('Коэффициенты', PolynomCoefs)\n",
    "\n",
    "cond = np.linalg.cond (G)\n",
    "EigG = np.linalg.eigvals (G)\n",
    "print ('Числа обусловленности матриц G и Phi', cond, condPhi)\n",
    "\n",
    "PolynomValue = np.zeros(len(x))\n",
    "for i in range (0, m+1):\n",
    "    PolynomValue += PolynomCoefs[i]*x**i\n",
    "    \n",
    "plt.plot (x, y, 'o')\n",
    "plt.plot (x, PolynomValue)"
   ]
  },
  {
   "cell_type": "markdown",
   "metadata": {},
   "source": [
    "### Робастная аппроксимация"
   ]
  },
  {
   "cell_type": "code",
   "execution_count": null,
   "metadata": {},
   "outputs": [],
   "source": [
    "m = 1\n",
    "\n",
    "PolynomCoefs = SqLeastRobust (x, y, m)\n",
    "print ('Коэффициенты', PolynomCoefs)\n",
    "\n",
    "cond = np.linalg.cond (G)\n",
    "condPhi = np.linalg.cond (Phi)\n",
    "EigG = np.linalg.eigvals (G)\n",
    "print ('Числа обусловленности матриц G и Phi', cond, condPhi)\n",
    "\n",
    "PolynomValue = np.zeros(len(x))\n",
    "\n",
    "for i in range (0, m+1):\n",
    "    PolynomValue += PolynomCoefs[i]*x**i\n",
    "    \n",
    "plt.plot (x, y, 'o')\n",
    "plt.plot (x, PolynomValue)"
   ]
  },
  {
   "cell_type": "code",
   "execution_count": null,
   "metadata": {},
   "outputs": [],
   "source": [
    "x = np.linspace(-1,1,10)"
   ]
  },
  {
   "cell_type": "code",
   "execution_count": null,
   "metadata": {},
   "outputs": [],
   "source": [
    "x"
   ]
  },
  {
   "cell_type": "code",
   "execution_count": null,
   "metadata": {},
   "outputs": [],
   "source": [
    "np.sign(x)"
   ]
  },
  {
   "cell_type": "code",
   "execution_count": null,
   "metadata": {},
   "outputs": [],
   "source": []
  }
 ],
 "metadata": {
  "kernelspec": {
   "display_name": "Python 3",
   "language": "python",
   "name": "python3"
  },
  "language_info": {
   "codemirror_mode": {
    "name": "ipython",
    "version": 3
   },
   "file_extension": ".py",
   "mimetype": "text/x-python",
   "name": "python",
   "nbconvert_exporter": "python",
   "pygments_lexer": "ipython3",
   "version": "3.7.4"
  }
 },
 "nbformat": 4,
 "nbformat_minor": 2
}
