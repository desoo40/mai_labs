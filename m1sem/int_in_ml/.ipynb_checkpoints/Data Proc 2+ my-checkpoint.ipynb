{
 "cells": [
  {
   "cell_type": "markdown",
   "metadata": {},
   "source": [
    "## Тема 2. Сглаживающая аппроксимация в полиномиальных базисах. Продолжение."
   ]
  },
  {
   "cell_type": "code",
   "execution_count": 1,
   "metadata": {},
   "outputs": [],
   "source": [
    "%matplotlib inline\n",
    "\n",
    "import numpy as np\n",
    "import scipy.linalg as la\n",
    "import scipy.interpolate as interp\n",
    "import scipy.integrate as integrate\n",
    "import matplotlib as mpl\n",
    "import matplotlib.pyplot as plt\n",
    "import sympy\n",
    "\n",
    "default_dpi = mpl.rcParamsDefault['figure.dpi']\n",
    "factor = 1\n",
    "mpl.rcParams['figure.dpi'] = default_dpi * factor"
   ]
  },
  {
   "cell_type": "markdown",
   "metadata": {},
   "source": [
    "### Функции вычисления коэффициентов разложения"
   ]
  },
  {
   "cell_type": "code",
   "execution_count": 2,
   "metadata": {},
   "outputs": [],
   "source": [
    "# x(n), y(n) - массив данных\n",
    "# m - степень полинома (количество базисных функций - 1)\n",
    "\n",
    "def SqLeast (x, y, m):\n",
    "    global G, Phi\n",
    "    n = len(x)\n",
    "    Phi = np.zeros ((n,m+1))\n",
    "    for k in range (0, m+1):\n",
    "        Phi[:,k] = BasicFunctions (k, x)\n",
    "    PhiT = Phi.T\n",
    "    G = PhiT @ Phi\n",
    "    z = PhiT @ y\n",
    "    a = np.linalg.solve(G, z)\n",
    "    return a\n",
    "\n",
    "def SqLeastReg (x, y, m, alpha):\n",
    "    global G\n",
    "    n = len(x)\n",
    "    Phi = np.zeros ((n,m+1))\n",
    "    for k in range (0, m+1):\n",
    "        Phi[:,k] = BasicFunctions (k, x)\n",
    "    PhiT = Phi.T\n",
    "    \n",
    "    RegAlpha = np.eye (m+1) * alpha\n",
    "        \n",
    "    G = PhiT @ Phi + RegAlpha \n",
    "    z = PhiT @ y\n",
    "    a = np.linalg.solve(G, z)\n",
    "    return a\n",
    "\n",
    "def BasicFunctions (num, x):\n",
    "    PhiFun = x**num\n",
    "    return PhiFun"
   ]
  },
  {
   "cell_type": "markdown",
   "metadata": {},
   "source": [
    "### Функция вычисления погрешности аппроксимации"
   ]
  },
  {
   "cell_type": "code",
   "execution_count": 3,
   "metadata": {},
   "outputs": [],
   "source": [
    "def AppError (x,y,Coefs):\n",
    "    \n",
    "    PolynomValue = np.zeros(len(x))\n",
    "    for i in range (0, m+1):\n",
    "        PolynomValue += Coefs[i]*x**i\n",
    "   \n",
    "    y_av = np.sum(y)/len(x)\n",
    "    y_disp = np.sum((y-y_av)**2)/len(x)\n",
    "    \n",
    "    ResLocal = (y - PolynomValue)\n",
    "    ResLocalRel = ResLocal/y_disp**0.5\n",
    "    ResGlobal = (np.sum ((ResLocal)**2)/len(x))**0.5\n",
    "    ResGlobalRel = ResGlobal / y_disp**0.5\n",
    "    \n",
    "    yv_disp = np.sum((PolynomValue-y_av)**2)/len(x)\n",
    "    \n",
    "    R2 = yv_disp/y_disp\n",
    "        \n",
    "    return ResLocal, ResLocalRel, ResGlobal, ResGlobalRel\n",
    "\n",
    "def R2 (x, y, Coefs):\n",
    "    PolynomValue = np.zeros(len(x))\n",
    "    \n",
    "    for i in range (0, m+1):\n",
    "        PolynomValue += Coefs[i]*x**i\n",
    "   \n",
    "    y_av = np.sum(y)/len(x)\n",
    "    y_disp = np.sum((y-y_av)**2)/len(x)    \n",
    "      \n",
    "    yv_disp = np.sum((PolynomValue-y_av)**2)/len(x)\n",
    "    \n",
    "    R2 = yv_disp/y_disp\n",
    "        \n",
    "    return R2"
   ]
  },
  {
   "cell_type": "markdown",
   "metadata": {},
   "source": [
    "### Формирование набора данных"
   ]
  },
  {
   "cell_type": "code",
   "execution_count": 17,
   "metadata": {},
   "outputs": [
    {
     "data": {
      "text/plain": [
       "[<matplotlib.lines.Line2D at 0xfb6af0>]"
      ]
     },
     "execution_count": 17,
     "metadata": {},
     "output_type": "execute_result"
    },
    {
     "data": {
      "image/png": "[encoded data removed]",
      "text/plain": [
       "<Figure size 432x288 with 1 Axes>"
      ]
     },
     "metadata": {
      "needs_background": "light"
     },
     "output_type": "display_data"
    }
   ],
   "source": [
    "xleft = -3\n",
    "xright = 6\n",
    "n = 24\n",
    "x = np.linspace(xleft,xright,n)\n",
    "yf = np.zeros ((n))\n",
    "y = np.zeros ((n))\n",
    "for i in range(0,n):\n",
    "    if (x[i]<0) :\n",
    "        yf[i] = 1.0*x[i] + 0.5*np.sin(2*x[i])\n",
    "    elif (x[i]<np.pi):\n",
    "        yf[i] = 1.0*x[i] + 1.0*np.sin(2*x[i])\n",
    "    else:\n",
    "        yf[i] = 1.0*x[i] + 2.0*np.sin(2*x[i])\n",
    "plt.plot (x,yf, 'o')"
   ]
  },
  {
   "cell_type": "markdown",
   "metadata": {},
   "source": [
    "### Зашумление данных"
   ]
  },
  {
   "cell_type": "code",
   "execution_count": 18,
   "metadata": {},
   "outputs": [
    {
     "data": {
      "text/plain": [
       "[<matplotlib.lines.Line2D at 0x14c0650>]"
      ]
     },
     "execution_count": 18,
     "metadata": {},
     "output_type": "execute_result"
    },
    {
     "data": {
      "image/png": "[encoded data removed]",
      "text/plain": [
       "<Figure size 432x288 with 1 Axes>"
      ]
     },
     "metadata": {
      "needs_background": "light"
     },
     "output_type": "display_data"
    }
   ],
   "source": [
    "Delta = 0.5 * np.random.randn(len(x))\n",
    "y = yf + Delta\n",
    "plt.plot (x, y, 'o')"
   ]
  },
  {
   "cell_type": "markdown",
   "metadata": {},
   "source": [
    "### Построение аппроксимационного полинома и оценка погрешности аппроксимации"
   ]
  },
  {
   "cell_type": "code",
   "execution_count": 19,
   "metadata": {},
   "outputs": [
    {
     "name": "stdout",
     "output_type": "stream",
     "text": [
      "Коэффициенты [ 1.44025682e-01  2.21982004e+00  4.31208659e-02 -8.68439509e-01\n",
      " -7.10878007e-02  1.61560032e-01  1.28736488e-02 -1.38709411e-02\n",
      " -2.90530109e-04  5.69840081e-04 -4.89320696e-05]\n",
      "Число обусловленности 6281660001150856.0 79261668.16947378\n",
      "Максимальное и минимальное собственные значения G 5032160201183615.0 0.8011434992681011\n"
     ]
    },
    {
     "data": {
      "text/plain": [
       "[<matplotlib.lines.Line2D at 0x14fbb90>]"
      ]
     },
     "execution_count": 19,
     "metadata": {},
     "output_type": "execute_result"
    },
    {
     "data": {
      "image/png": "[encoded data removed]",
      "text/plain": [
       "<Figure size 432x288 with 1 Axes>"
      ]
     },
     "metadata": {
      "needs_background": "light"
     },
     "output_type": "display_data"
    }
   ],
   "source": [
    "m = 10\n",
    "\n",
    "PolynomCoefs = SqLeast (x, y, m)\n",
    "print ('Коэффициенты', PolynomCoefs)\n",
    "\n",
    "#print ('Gmatrix',G)\n",
    "cond = np.linalg.cond (G)\n",
    "condPhi = np.linalg.cond (Phi)\n",
    "EigG = np.linalg.eigvals (G)\n",
    "print ('Число обусловленности', cond, condPhi)\n",
    "print ('Максимальное и минимальное собственные значения G', max (EigG), min (EigG))\n",
    "\n",
    "PolynomValue = np.zeros(len(x))\n",
    "for i in range (0, m+1):\n",
    "    PolynomValue += PolynomCoefs[i]*x**i   \n",
    "\n",
    "ResLocal, ResLocalRel, ResGlobal, ResGlobalRel = AppError (x,y,PolynomCoefs)\n",
    "\n",
    "plt.plot (x, y, 'o')\n",
    "plt.plot (x, PolynomValue)"
   ]
  },
  {
   "cell_type": "markdown",
   "metadata": {},
   "source": [
    "### Оценка погрешности"
   ]
  },
  {
   "cell_type": "code",
   "execution_count": 7,
   "metadata": {},
   "outputs": [
    {
     "name": "stdout",
     "output_type": "stream",
     "text": [
      "Погрешность аппроксимации\n",
      "Суммарная абсолютная, cуммарная относительная, коэффициент детерминации\n",
      "0.11032813986496852 0.04163721828286308 0.9982663420569001\n",
      "1.000000000003235\n"
     ]
    },
    {
     "data": {
      "image/png": "[encoded data removed]",
      "text/plain": [
       "<Figure size 432x288 with 1 Axes>"
      ]
     },
     "metadata": {
      "needs_background": "light"
     },
     "output_type": "display_data"
    }
   ],
   "source": [
    "ResLocal, ResLocalRel, ResGlobal, ResGlobalRel = AppError (x,y,PolynomCoefs)\n",
    "R2 = R2 (x,y,PolynomCoefs)\n",
    "plt.plot (x, ResLocal, 'o')\n",
    "print ('Погрешность аппроксимации')\n",
    "print ('Суммарная абсолютная, cуммарная относительная, коэффициент детерминации')\n",
    "print (ResGlobal, ResGlobalRel, R2)\n",
    "print (ResGlobalRel**2+R2)"
   ]
  },
  {
   "cell_type": "markdown",
   "metadata": {},
   "source": [
    "### Разделение данных на обучающий и тестовый наборы"
   ]
  },
  {
   "cell_type": "code",
   "execution_count": 22,
   "metadata": {},
   "outputs": [
    {
     "name": "stdout",
     "output_type": "stream",
     "text": [
      "[ 3 11  0 22  2 18]\n",
      "0.2657278907959744 3.110423227005865\n"
     ]
    },
    {
     "data": {
      "text/plain": [
       "[<matplotlib.lines.Line2D at 0x17cd7b0>]"
      ]
     },
     "execution_count": 22,
     "metadata": {},
     "output_type": "execute_result"
    },
    {
     "data": {
      "image/png": "[encoded data removed]",
      "text/plain": [
       "<Figure size 432x288 with 2 Axes>"
      ]
     },
     "metadata": {
      "needs_background": "light"
     },
     "output_type": "display_data"
    }
   ],
   "source": [
    "n = len(x)\n",
    "ntest = int (n/4)\n",
    "ntrain = n - ntest\n",
    "xtrain = np.zeros (ntrain)\n",
    "xtest = np.zeros (ntest)\n",
    "ytrain = np.zeros (ntrain)\n",
    "ytest = np.zeros (ntest)\n",
    "#indtest = np.random.random_integers(0,n, ntest)\n",
    "indtest = np.random.choice (len(x), ntest, replace = False)\n",
    "print (indtest)\n",
    "\n",
    "itest = -1\n",
    "itrain = -1\n",
    "for i in range (0,n):\n",
    "    \n",
    "    ktest = 0\n",
    "    \n",
    "    for k in range (0, ntest): \n",
    "        if (i==indtest[k]):\n",
    "            itest += 1\n",
    "            xtest [itest] = x[i]\n",
    "            ytest [itest] = y[i]\n",
    "            ktest = 1\n",
    "            \n",
    "    if (ktest !=1 ):\n",
    "        itrain += 1\n",
    "        xtrain [itrain] = x[i]\n",
    "        ytrain [itrain] = y[i]\n",
    "             \n",
    "#print (xtest)\n",
    "#print (xtrain)\n",
    "\n",
    "PolynomCoefsTrain = SqLeast (xtrain, ytrain, m)\n",
    "    \n",
    "ResLocalTrain, ResLocalRelTrain, ResGlobalTrain, ResGlobalRelTrain = AppError (xtrain,ytrain,PolynomCoefsTrain)\n",
    "ResLocalTest, ResLocalRelTest, ResGlobalTest, ResGlobalRelTest = AppError (xtest,ytest,PolynomCoefsTrain)    \n",
    "    \n",
    "print (ResGlobalTrain, ResGlobalTest)\n",
    " \n",
    "plt.subplot (2,1,1)\n",
    "plt.plot (xtrain, ResLocalTrain, 'o')\n",
    "plt.subplot (2,1,2)\n",
    "plt.plot (xtrain, ResLocalTrain, 'o')\n",
    "plt.plot (xtest, ResLocalTest, '*')\n",
    "#num_bins = 20\n",
    "#plt.hist(ErrorLocalTrain, num_bins, density=1)"
   ]
  },
  {
   "cell_type": "markdown",
   "metadata": {},
   "source": [
    "### Проблема обусловленности"
   ]
  },
  {
   "cell_type": "code",
   "execution_count": 24,
   "metadata": {},
   "outputs": [
    {
     "name": "stdout",
     "output_type": "stream",
     "text": [
      "[[1.         0.5        0.33333333 0.25      ]\n",
      " [0.5        0.33333333 0.25       0.2       ]\n",
      " [0.33333333 0.25       0.2        0.16666667]\n",
      " [0.25       0.2        0.16666667 0.14285714]]\n",
      "Eigen values [1.50021428e+00 1.69141220e-01 6.73827361e-03 9.67023040e-05]\n",
      "b [0.25       0.58333333 0.91666667 1.25      ]\n",
      "solution [ -21.  295. -825.  595.]\n",
      "Residual [ 0.00000000e+00  9.54791801e-15 -9.43689571e-15  1.42108547e-14]\n",
      "cond 15513.738738928138 15613.793559642725 15513.738738933438\n",
      "b [0.24725629 0.5840279  0.9198989  1.24541485]\n",
      "solution [ -19.70959249  279.73266652 -787.33137386  570.1372272 ]\n",
      "residual [ 8.43769499e-15 -2.88657986e-15 -6.43929354e-15  6.66133815e-16]\n"
     ]
    }
   ],
   "source": [
    "n = 4\n",
    "# Формирование матрицы Гильберта\n",
    "MM = np.zeros ((n,n))\n",
    "for i in range (0,n):\n",
    "    for j in range (0,n):\n",
    "        MM[i,j]=1/(i+j+1) #*10.\n",
    "print (MM)\n",
    "# Нахождение собственных значений матрицы\n",
    "Evv = np.linalg.eigvals (MM)\n",
    "print ('Eigen values', Evv)\n",
    "# Формирование правой части\n",
    "b = np.linspace (1,5,n)/n\n",
    "print ('b',b)\n",
    "# Нахождение решения системы уравнений\n",
    "xx = np.linalg.solve(MM, b)\n",
    "print ('solution',xx)\n",
    "# Вычиление невязки\n",
    "res = MM @ xx - b\n",
    "print ('Residual', res)\n",
    "\n",
    "MMinv = np.linalg.inv(MM)\n",
    "normb = np.linalg.norm (b)\n",
    "normM = np.linalg.norm (MM)\n",
    "normMi = np.linalg.norm (MMinv)\n",
    "normx = np.linalg.norm (xx)\n",
    "\n",
    "#число обусловленности\n",
    "cond = np.linalg.cond (MM)\n",
    "print ('cond', cond, normM * normMi, max(Evv)/min(Evv))\n",
    "\n",
    "#возмущение правой части\n",
    "Del = (np.random.random(n)- 0.5) * 0.01\n",
    "normDel = np.linalg.norm (Del)\n",
    "b2 = b + Del\n",
    "# Решение возмущенной системы\n",
    "xx2 = np.linalg.solve(MM, b2)\n",
    "print ('b', b2, )\n",
    "print ('solution', xx2)\n",
    "dx = xx-xx2\n",
    "normdx = np.linalg.norm (dx)\n",
    "res = MM @ xx2 - b2\n",
    "print ('residual', res)"
   ]
  },
  {
   "cell_type": "markdown",
   "metadata": {},
   "source": [
    "## Пример 3"
   ]
  },
  {
   "cell_type": "code",
   "execution_count": 36,
   "metadata": {},
   "outputs": [
    {
     "name": "stdout",
     "output_type": "stream",
     "text": [
      "Коэффициенты точные [-9.   1.   9.   1.  -1.  -0.5]\n",
      "Коэффициенты МНК [-9.06541158  0.39703931 12.90347092 -5.04361119  2.5513731  -1.21347945]\n",
      "12373162.972627217\n",
      "Коэффициенты МНК с регуляризацией [-9.20559428  2.75665321  5.88750626  2.75184966 -1.13361107 -0.58642175]\n",
      "369807.6341307246\n",
      "s [6.17413874e+01 6.54357569e+00 2.56943786e+00 7.10994096e-01\n",
      " 1.39866108e-01 1.75523802e-02]\n"
     ]
    },
    {
     "data": {
      "text/plain": [
       "[<matplotlib.lines.Line2D at 0x3c576d0>]"
      ]
     },
     "execution_count": 36,
     "metadata": {},
     "output_type": "execute_result"
    },
    {
     "data": {
      "image/png": "[encoded data removed]",
      "text/plain": [
       "<Figure size 432x288 with 1 Axes>"
      ]
     },
     "metadata": {
      "needs_background": "light"
     },
     "output_type": "display_data"
    }
   ],
   "source": [
    "xleft = 0.0\n",
    "xright = 2.0\n",
    "n = 24\n",
    "x = np.linspace(xleft,xright,n)\n",
    "yf = np.zeros ((n))\n",
    "y = np.zeros ((n))\n",
    "\n",
    "coefs = np.array ([-1, 1, 2, 1,-1,-0.5])\n",
    "m = len(coefs)- 1\n",
    "\n",
    "print ('Коэффициенты точные', coefs)\n",
    "\n",
    "for i in range (0, m+1):\n",
    "    yf += coefs[i]*x**i\n",
    "#plt.plot (x,yf, 'o')\n",
    "\n",
    "Delta = 0.1 * np.random.randn(len(x))\n",
    "y = yf + Delta\n",
    "#plt.plot (x, y, '*')\n",
    "\n",
    "PolynomCoefs = SqLeast (x, y, m)\n",
    "print ('Коэффициенты МНК', PolynomCoefs)\n",
    "\n",
    "#print ('Gmatrix',G)\n",
    "cond = np.linalg.cond (G)\n",
    "print (cond)\n",
    "\n",
    "PolynomValue = np.zeros(len(x))\n",
    "for i in range (0, m+1):\n",
    "    PolynomValue += PolynomCoefs[i]*x**i\n",
    "        \n",
    "#plt.plot (x, y, 'o')\n",
    "#plt.plot (x, PolynomValue)\n",
    "#plt.subplot (x, ErrorLocal)\n",
    "\n",
    "CoefsReg = SqLeastReg (x, y, m, 0.01)\n",
    "print ('Коэффициенты МНК с регуляризацией', CoefsReg)\n",
    "cond = np.linalg.cond (G)\n",
    "print (cond)\n",
    "\n",
    "PolynomValue = np.zeros(len(x))\n",
    "for i in range (0, m+1):\n",
    "    PolynomValue += CoefsReg[i]*x**i\n",
    "#plt.plot (x, PolynomValue)\n",
    "\n",
    "PhiInv = np.linalg.pinv(Phi, rcond = 1e-2)\n",
    "CoefsSVD = PhiInv @ y\n",
    "#print ('коэффициенты МНК SVD', CoefsSVD )\n",
    "\n",
    "U, s, Vh = np.linalg.svd(Phi)\n",
    "print ('s', s)\n",
    "#smat = np.diag(s)\n",
    "\n",
    "#plt.subplot (2,1,1)\n",
    "plt.plot (coefs)\n",
    "plt.plot (CoefsReg, '*')\n",
    "plt.plot (PolynomCoefs, 'v')\n",
    "plt.plot (CoefsSVD, 'o')\n",
    "#plt.plot (coef2, '-')\n",
    "#plt.subplot (2,1,2)\n",
    "#plt.plot (coefs)\n",
    "#plt.plot (coef2)"
   ]
  }
 ],
 "metadata": {
  "kernelspec": {
   "display_name": "Python 3",
   "language": "python",
   "name": "python3"
  },
  "language_info": {
   "codemirror_mode": {
    "name": "ipython",
    "version": 3
   },
   "file_extension": ".py",
   "mimetype": "text/x-python",
   "name": "python",
   "nbconvert_exporter": "python",
   "pygments_lexer": "ipython3",
   "version": "3.7.4"
  }
 },
 "nbformat": 4,
 "nbformat_minor": 2
}
